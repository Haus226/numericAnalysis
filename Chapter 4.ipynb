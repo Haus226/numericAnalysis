{
 "cells": [
  {
   "cell_type": "code",
   "execution_count": 18,
   "metadata": {},
   "outputs": [],
   "source": [
    "import numpy as np\n",
    "from typing import Union, List, Callable, Any, Tuple\n",
    "import matplotlib.pyplot as plt\n",
    "\n",
    "\n",
    "# This function is used to form polynomial from roots which will be used in\n",
    "# Newton-Cotes formula and Gaussian Quadrature.\n",
    "# The parameter alpha and beta will only be used when called in Double and Triple Gaussian Integral \n",
    "def integPolynomial(index:int, roots:np.ndarray, coef:np.ndarray, a:float=None, b:float=None, alpha:float=None, beta:float=None) -> float:\n",
    "    idxs = np.arange(len(roots)) != index\n",
    "    poly = np.polynomial.Polynomial.fromroots(roots[idxs])\n",
    "    an_poly = np.polynomial.Polynomial.integ(poly)\n",
    "    if (a is not None) and (b is not None):\n",
    "        coef[index] = an_poly(b) - an_poly(a)\n",
    "    else:\n",
    "        coef[index] = an_poly(1) - an_poly(-1)\n",
    "    coef[index] /= np.prod(roots[index] - roots[idxs])\n",
    "    if (alpha is not None) and (beta is not None):\n",
    "        return alpha * roots[index] + beta"
   ]
  },
  {
   "cell_type": "markdown",
   "metadata": {},
   "source": [
    "# Chapter 4.1 - 4.2 Numerical Differentiation"
   ]
  },
  {
   "cell_type": "markdown",
   "metadata": {},
   "source": [
    "## Chapter 4.1 Numerical Differentiation\n",
    "\n",
    "To obtain general derivative approximation formulas, suppose $x_0, x_1,\\cdots x_n$ are $(n + 1)$ distinct numbers in some interval $I$ and that $f\\in C^{n+1}(I)$, from [Chapter 3.1/Error Analysis](Chapter%203.ipynb#Error%20Analysis)\n",
    "$$\n",
    "f(x)=\\sum_{k=0}^{n}f(x_k)L_k(x)+\\frac{(x-x_0)(x-x_1)\\cdots(x-x_n)}{(n+1)!}f^{(n+1)}(\\xi(x))\n",
    "$$\n",
    "for some $\\xi(x)$ in $I$, where $L_k(x)$ denotes the $k$ th _Lagrange coefficient polynomial_ for $f$ at $x_0, x_1,\\cdots x_n$. Differentiating this expression gives\n",
    "\n",
    "$$\n",
    "\\begin{split}\n",
    "f'(x)=\\sum_{k=0}^nf(x_k)L'(x_k)+\\frac{d}{dx}\\biggl[\\frac{(x-x_0)(x-x_1)\\cdots(x-x_n)}{(n+1)!}f^{(n+1)}(\\xi(x))\\biggr] \\\\ +\\frac{(x-x_0)(x-x_1)\\cdots(x-x_n)}{(n+1)!}f^{(n+1)}(\\xi(x))\\frac{d}{dx}f^{(n+1)}(\\xi(x))\n",
    "\\end{split}\n",
    "$$\n",
    "\n",
    "which is called $(n+1)$-point formula"
   ]
  },
  {
   "cell_type": "code",
   "execution_count": 19,
   "metadata": {},
   "outputs": [],
   "source": [
    "def diff(func:Union[Callable[[Union[float, int]], float],\n",
    "                        np.ndarray[Union[float, int], Any],\n",
    "                        List[Union[int, float]]],\n",
    "         x:Union[int, float],\n",
    "         h:float,\n",
    "         num_points:int,\n",
    "         mode:str=\"end\") -> float:\n",
    "    '''\n",
    "    The values of function at x are assumed to be given in a forward order if the \n",
    "    parameter func is an numpy array or list\n",
    "    Example:\n",
    "    x = [2.1, 2.2, 2.3, 2.4, 2.5, 2.6]\n",
    "    f = [\n",
    "            -1.709847, -1.373823, -1.119214, \n",
    "            -0.9160143, -0.7470223, -0.6015966\n",
    "        ]\n",
    "    Then f(2.1) = -1.709847 etc\n",
    "    Values of f and x are corresponding.\n",
    "    '''\n",
    "    # Maybe the points are not necessary to be equally spaced ?\n",
    "    if mode == \"end\":\n",
    "        x_ = x + np.arange(num_points) * h\n",
    "        if h < 0:\n",
    "            x_ = x_[::-1]\n",
    "    elif mode == \"mid\":\n",
    "        x_ = x + np.arange(-(num_points - 1) / 2, ((num_points - 1) / 2) + 1) * h\n",
    "    else:\n",
    "        raise ValueError(\"Mode must be either end or mid\")\n",
    "    y_ = func(x_) if callable(func) else func\n",
    "    coef = np.zeros(num_points, dtype=float)\n",
    "    for idx in range(num_points):\n",
    "        idxs = np.arange(num_points) != idx\n",
    "        poly = np.polynomial.Polynomial.fromroots(x_[idxs])\n",
    "        de_poly = np.polynomial.Polynomial.deriv(poly)\n",
    "        coef[idx] = de_poly(x)\n",
    "        coef[idx] /= np.prod(x_[idx] - x_[idxs])\n",
    "    return np.sum(y_ * coef)"
   ]
  },
  {
   "cell_type": "code",
   "execution_count": 20,
   "metadata": {},
   "outputs": [
    {
     "name": "stdout",
     "output_type": "stream",
     "text": [
      "22.032304866146504\n",
      "22.05452134102333\n",
      "22.22878688030754\n",
      "22.166995621551198\n"
     ]
    }
   ],
   "source": [
    "# Example 2\n",
    "f = lambda x: x * np.exp(x)\n",
    "print(diff(f, 2.0, 0.1, 3))\n",
    "print(diff(f, 2.0, -0.1, 3))\n",
    "print(diff(f, 2.0, 0.1, 3, \"mid\"))\n",
    "print(diff(f, 2.0, 0.1, 5, \"mid\"))"
   ]
  },
  {
   "cell_type": "code",
   "execution_count": 21,
   "metadata": {},
   "outputs": [
    {
     "name": "stdout",
     "output_type": "stream",
     "text": [
      "Question a\n",
      "3.8993442498672533\n",
      "2.8768756667474094\n",
      "2.249704083283343\n",
      "1.837755999964177\n",
      "1.5442099165322176\n",
      "1.3554963334747345\n",
      "Question b\n",
      "-5.8773574999506355\n",
      "-5.46893333336326\n",
      "-5.059884166669667\n",
      "-4.65022333334556\n",
      "-4.239910833341746\n",
      "-3.8288533333480643\n"
     ]
    }
   ],
   "source": [
    "# Exercise 9\n",
    "\n",
    "print(\"Question a\")\n",
    "x = [2.1, 2.2, 2.3, 2.4, 2.5, 2.6]\n",
    "f = [\n",
    "    -1.709847, -1.373823, -1.119214, \n",
    "    -0.9160143, -0.7470223, -0.6015966\n",
    "    ]\n",
    "\n",
    "print(diff(f[:5], 2.1, 0.1, 5, \"end\"))\n",
    "print(diff(f[1:], 2.2, 0.1, 5, \"end\"))\n",
    "print(diff(f[:5], 2.3, 0.1, 5, \"mid\"))\n",
    "print(diff(f[1:], 2.4, 0.1, 5, \"mid\"))\n",
    "print(diff(f[:5], 2.5, -0.1, 5, \"end\"))\n",
    "print(diff(f[1:], 2.6, -0.1, 5, \"end\"))\n",
    "\n",
    "print(\"Question b\")\n",
    "x = [-3.0, -2.8, -2.6, -2.4, -2.2, -2.0]\n",
    "f = [\n",
    "    9.367879, 8.233241, 7.180350,\n",
    "    6.209329, 5.320305, 4.513417\n",
    "]\n",
    "\n",
    "print(diff(f[:5], -3.0, 0.2, 5, \"end\"))\n",
    "print(diff(f[1:], -2.8, 0.2, 5, \"end\"))\n",
    "print(diff(f[:5], -2.6, 0.2, 5, \"mid\"))\n",
    "print(diff(f[1:], -2.4, 0.2, 5, \"mid\"))\n",
    "print(diff(f[:5], -2.2, -0.2, 5, \"end\"))\n",
    "print(diff(f[1:], -2.0, -0.2, 5, \"end\"))"
   ]
  },
  {
   "cell_type": "markdown",
   "metadata": {},
   "source": [
    "## Chapter 4.2 Richardson's Extrapolation\n",
    "Richardson’s extrapolation is used to generate high-accuracy results while using low-order formulas. Extrapolation can be applied whenever it is known that an approximation technique\n",
    "has an error term with a predictable form, one that depends on a parameter, usually the step size $h$. Suppose that for each number $h\\neq0$ we have a function $N_1(h)$ approximates an unknown constant $M$, and that the truncation error involved has the form\n",
    "$$\n",
    "M-N_i(h)=K_1h+K_2h^2+K_3h^3+\\cdots\n",
    "$$\n",
    "for some unknown constants $K_1, K_2, K_3,\\cdots$. The truncation error in this case is $O(h)$, so unless there was a large variation in magnitude among\n",
    "the constants $K_1, K_2, K_3,\\cdots$,\n",
    "$$\n",
    "    M-N_1(0.1)\\approx0.1K_1\\,\\,\\,\\,\\,M-N_1(0.01)\\approx0.01K_1\n",
    "$$\n",
    "and, in general, $M-N_1(h)\\approx K_1h$. The object of extrapolation is to find an easy way to combine these rather inaccurate $O(h)$ approximations in an appropriate way to produce formulas with a higher-order truncation error. Extrapolation can be applied whenever the truncation error for a formula has the form\n",
    "$$\n",
    "\\sum{j=1}^{m-1}K_jh^{\\alpha_j}+O(h^{\\alpha_m})\n",
    "$$\n",
    "for a collection of constants $K_j$ and when $\\alpha_1<\\alpha_2<\\cdots<\\alpha_m$. Many formulas used\n",
    "for extrapolation have truncation errors that contain only even powers of $h$, and a closed form formula is given as following, for each $j=2, 3, \\cdots, $the $O(h^{2j})$ approximation is\n",
    "$$\n",
    "N_j(h)=N_{j-1}\\biggl(\\frac{h}{2}\\biggr)+\\frac{N_{j-1}(h/2)-N_{j-1}(h)}{4^{j-1}-1}\n",
    "$$"
   ]
  },
  {
   "cell_type": "code",
   "execution_count": 22,
   "metadata": {},
   "outputs": [],
   "source": [
    "def extrapolation(x:Union[np.ndarray[Union[float, int], Any],\n",
    "                  List[Union[int, float]]],\n",
    "                  order:int) -> float:\n",
    "    if order % 2:\n",
    "        raise ValueError(\"Order of truncation error must be even\")\n",
    "    N = order // 2\n",
    "    R = np.zeros((N, N))\n",
    "    R[:, 0] = x\n",
    "\n",
    "    for idx in range(1, N):\n",
    "        for jdx in range(idx, N):\n",
    "            R[jdx, idx] = R[jdx, idx - 1] + (R[jdx, idx - 1] - R[jdx - 1, idx - 1]) / (4 ** idx - 1)\n",
    "    return R"
   ]
  },
  {
   "cell_type": "code",
   "execution_count": 23,
   "metadata": {},
   "outputs": [
    {
     "name": "stdout",
     "output_type": "stream",
     "text": [
      "[22.41416065702938, 22.22878688030754, 22.182564857798184, 22.17101693187874]\n",
      "[[22.41416066  0.          0.          0.        ]\n",
      " [22.22878688 22.16699562  0.          0.        ]\n",
      " [22.18256486 22.16715752 22.16716831  0.        ]\n",
      " [22.17101693 22.16716762 22.1671683  22.1671683 ]]\n"
     ]
    }
   ],
   "source": [
    "f = lambda x: x * np.exp(x)\n",
    "d = [diff(f, 2.0, h, 3, \"mid\") for h in [0.2, 0.1, 0.05, 0.025]]\n",
    "print(d)\n",
    "print(extrapolation(d, 8))"
   ]
  },
  {
   "cell_type": "code",
   "execution_count": 24,
   "metadata": {},
   "outputs": [
    {
     "data": {
      "text/plain": [
       "array([[1.570796  , 0.        , 0.        , 0.        ],\n",
       "       [1.896119  , 2.00456   , 0.        , 0.        ],\n",
       "       [1.974232  , 2.00026967, 1.99998364, 0.        ],\n",
       "       [1.99357   , 2.000016  , 1.99999909, 1.99999933]])"
      ]
     },
     "execution_count": 24,
     "metadata": {},
     "output_type": "execute_result"
    }
   ],
   "source": [
    "# Exercise 5\n",
    "x = [1.570796, 1.896119, 1.974232, 1.993570]\n",
    "extrapolation(x, 8)"
   ]
  },
  {
   "cell_type": "markdown",
   "metadata": {},
   "source": [
    "# Chapter 4.3-4.9 Numerical Integration"
   ]
  },
  {
   "cell_type": "markdown",
   "metadata": {},
   "source": [
    "## Chapter 4.3 Elements of Numerical Integration"
   ]
  },
  {
   "cell_type": "markdown",
   "metadata": {},
   "source": [
    "### Trapezoidal Rule\n",
    "$$ \\int_{x_0}^{x_1}f(x)\\,dx=\\frac{h}{2}[f(x_0)+f(x_1)]-\\frac{h^3}{12}f''(\\xi) $$\n",
    "where $x_0=a, x_1=b,h=b-a,\\xi\\in(a, b)$\n",
    "### Midpoint Rule\n",
    "$$\\int_{x_{-1}}^{x_{1}}f(x)\\,dx=2hf(x_0)+\\frac{h^3}{3}f''(\\xi)$$\n",
    "where $x_{-1}=a, x_{1}=b,x_0=a+h,h=\\frac{(b-a)}{n+2},\\xi\\in(a, b)$\n",
    "### Simpson Rule\n",
    "$$\\int_{x_0}^{x_2}f(x)\\,dx=\\frac{h}{3}[f(x_0)+4f(x_1)+f(x_2)]-\\frac{h^5}{90}f^{(4)}(\\xi)$$\n",
    "where $x_0=a,x_2=b,x_1=a+h,h=\\frac{(b-a)}{2}$"
   ]
  },
  {
   "cell_type": "code",
   "execution_count": 25,
   "metadata": {},
   "outputs": [],
   "source": [
    "def Trapezoidal(func:Callable[[Union[float, int, np.ndarray]], Union[float, int]],\n",
    "            a:Union[float, int],\n",
    "            b:Union[float, int]) -> float:\n",
    "    return (b - a) * (func(a) + func(b)) / 2\n",
    "def Midpoint(func:Callable[[Union[float, int, np.ndarray]], Union[float, int]],\n",
    "            a:Union[float, int],\n",
    "            b:Union[float, int]) -> float:\n",
    "    return 2 * (b - a) * func(a + (a + b) / 2) / 2\n",
    "def Simpson(func:Callable[[Union[float, int, np.ndarray]], Union[float, int]],\n",
    "            a:Union[float, int],\n",
    "            b:Union[float, int]) -> float:\n",
    "    return (b - a) * (func(a) + 4 * func(a + (a + b) / 2) + func(b)) / 6"
   ]
  },
  {
   "cell_type": "code",
   "execution_count": 26,
   "metadata": {},
   "outputs": [
    {
     "name": "stdout",
     "output_type": "stream",
     "text": [
      "0.2776801836348979\n",
      "0.30055886494217315\n",
      "0.29293263783974804\n"
     ]
    }
   ],
   "source": [
    "f = lambda x: np.sin(x)\n",
    "print(Trapezoidal(f, 0, np.pi / 4))\n",
    "print(Midpoint(f, 0, np.pi / 4))\n",
    "print(Simpson(f, 0, np.pi / 4))"
   ]
  },
  {
   "cell_type": "markdown",
   "metadata": {},
   "source": [
    "### Closed Newton-Cotes Formula\n",
    "The $(n+1)$-_point closed Newton-Cotes formula_ uses nodes $x_i=x_0+ih$, for $i=0,1,\\cdots,n$ where $x_0=a,x_n=b,h=\\frac{(b-a)}{n}$ It is called closed because the endpoints of the closed interval $[a, b]$ are included as nodes.\n",
    "\n",
    "Suppose that $\\sum_{i=0}^{n}a_if(x_i)$ denotes the $(n+1)$-points closed Newton-Cotes formula with $x_0=a,x_n=b,h=\\frac{(b-a)}{n}$. There exists $\\xi\\in(a, b)$ for which\n",
    "$$\\int_a^bf(x)\\,dx=\\sum_{i=0}^na_if(x_i)+\\frac{h^{n+3}f^{(n+2)}(\\xi)}{(n+2)!}\\int_0^nt^2(t-1)\\cdots(t-n)\\,dt$$\n",
    "if $n$ is even and $f\\in C^{n+2}[a, b]$,and\n",
    "$$\\int_a^bf(x)\\,dx=\\sum_{i=0}^na_if(x_i)+\\frac{h^{n+2}f^{(n+1)}(\\xi)}{(n+1)!}\\int_0^nt(t-1)\\cdots(t-n)\\,dt$$\n",
    "if $n$ is odd and $f\\in C^{n+1}[a, b]$.\n",
    "\n",
    "where \n",
    "$$a_i=\\int_{x_0}^{x_n}L_i(x)\\,dx=\\int_{x_0}^{x_n}\\prod_{\\substack{j=0 \\\\ j\\neq i}}^n\\frac{(x-x_j)}{(x_i-x_j)}\\,dx$$"
   ]
  },
  {
   "cell_type": "code",
   "execution_count": 27,
   "metadata": {},
   "outputs": [],
   "source": [
    "def closedNewtonCotes(func:Callable[[Union[float, int, np.ndarray]], Union[float, int]],\n",
    "            a:Union[float, int],\n",
    "            b:Union[float, int],\n",
    "            num_points:int) -> float:\n",
    "    num_points += 1\n",
    "    x = np.linspace(a, b, num_points)\n",
    "    y = func(x)\n",
    "    coef = np.zeros(num_points, dtype=float)\n",
    "    for idx in range(num_points):\n",
    "        integPolynomial(idx, x, coef, a, b)\n",
    "    return np.sum(coef * y)"
   ]
  },
  {
   "cell_type": "code",
   "execution_count": 28,
   "metadata": {},
   "outputs": [
    {
     "name": "stdout",
     "output_type": "stream",
     "text": [
      "0.2776801836348979\n",
      "0.2776801836348979\n",
      "0.29293263783974804\n",
      "0.29293263783974804\n",
      "0.2929107025491716\n",
      "0.29289318256126423\n"
     ]
    }
   ],
   "source": [
    "f = lambda x: np.sin(x)\n",
    "\n",
    "print(closedNewtonCotes(f, 0, np.pi / 4, 1))\n",
    "print(Trapezoidal(f, 0, np.pi / 4))\n",
    "print(closedNewtonCotes(f, 0, np.pi / 4, 2))\n",
    "print(Simpson(f, 0, np.pi / 4))\n",
    "print(closedNewtonCotes(f, 0, np.pi / 4, 3))    # Simpson's 3/8 Rule\n",
    "print(closedNewtonCotes(f, 0, np.pi / 4, 4))    # Boole's Rule"
   ]
  },
  {
   "cell_type": "markdown",
   "metadata": {},
   "source": [
    "### Open Newton-Cotes Formula\n",
    "The $(n+1)$-_point open Newton-Cotes formula_ uses nodes $x_i=x_0+ih$, for $i=0,1,\\cdots,n$ where $x_0=a+h,x_n=b-h,x_{-1}=a, x_{n+1}=b,h=\\frac{(b-a)}{(n+2)}$ It is called closed because the endpoints of the closed interval $[a, b]$ are included as nodes.\n",
    "\n",
    "Suppose that $\\sum_{i=0}^{n}a_if(x_i)$ denotes the $(n+1)$-points closed Newton-Cotes formula with $x_{-1}=a,x_{n+1}=b,h=\\frac{(b-a)}{n}$. There exists $\\xi\\in(a, b)$ for which\n",
    "$$\\int_a^bf(x)\\,dx=\\sum_{i=0}^na_if(x_i)+\\frac{h^{n+3}f^{(n+2)}(\\xi)}{(n+2)!}\\int_{-1}^{n+1}t^2(t-1)\\cdots(t-n)\\,dt$$\n",
    "if $n$ is even and $f\\in C^{n+2}[a, b]$,and\n",
    "$$\\int_a^bf(x)\\,dx=\\sum_{i=0}^na_if(x_i)+\\frac{h^{n+2}f^{(n+1)}(\\xi)}{(n+1)!}\\int_{-1}^{n+1}t(t-1)\\cdots(t-n)\\,dt$$\n",
    "if $n$ is odd and $f\\in C^{n+1}[a, b]$.\n",
    "\n",
    "where \n",
    "$$a_i=\\int_{x_0}^{x_n}L_i(x)\\,dx=\\int_{x_0}^{x_n}\\prod_{\\substack{j=0 \\\\ j\\neq i}}^n\\frac{(x-x_j)}{(x_i-x_j)}\\,dx$$"
   ]
  },
  {
   "cell_type": "code",
   "execution_count": 29,
   "metadata": {},
   "outputs": [],
   "source": [
    "def openNewtonCotes(func:Callable[[Union[float, int, np.ndarray]], Union[float, int]],\n",
    "            a:Union[float, int],\n",
    "            b:Union[float, int],\n",
    "            num_points:int) -> float:\n",
    "    h = (b - a) / (num_points + 2)\n",
    "    num_points += 1\n",
    "    x = np.linspace(a + h, b - h, num_points)\n",
    "    y = func(x)\n",
    "    coef = np.zeros(num_points, dtype=float)\n",
    "    for idx in range(num_points):\n",
    "        integPolynomial(idx, x, coef, a, b)\n",
    "    return np.sum(coef * y)"
   ]
  },
  {
   "cell_type": "code",
   "execution_count": 30,
   "metadata": {},
   "outputs": [
    {
     "name": "stdout",
     "output_type": "stream",
     "text": [
      "0.29798754218726264\n",
      "0.2928586591925902\n",
      "0.2928692281360843\n"
     ]
    }
   ],
   "source": [
    "f = lambda x: np.sin(x)\n",
    "\n",
    "# When n = 0, it is Midpoint Rule but we cannot define the coefficient of it since we do not\n",
    "# have definition of Lagrange Polynomial interpolated at one point only.\n",
    "print(openNewtonCotes(f, 0, np.pi / 4, 1))\n",
    "print(openNewtonCotes(f, 0, np.pi / 4, 2))  # Milne's Rule\n",
    "print(openNewtonCotes(f, 0, np.pi / 4, 3))"
   ]
  },
  {
   "cell_type": "markdown",
   "metadata": {},
   "source": [
    "## Chapter 4.4 Composite Numerical Integration"
   ]
  },
  {
   "cell_type": "markdown",
   "metadata": {},
   "source": [
    "### Composite Trapezoidal Rule\n",
    "Let $f\\in C^2[a, b], h=\\frac{(b - a)}{n},$ and $x_j=a+jh,$ for each $j=0,1,\\cdots,n$. There exists a $\\mu\\in(a, b)$ for which the __Composite Trapezoidal Rule__ for $n$ subintervals can be written with its error term as\n",
    "$$\n",
    "\\int_a^bf(x)\\,dx=\\frac{h}{2}\\biggl[\n",
    "    f(a)+2\\sum_{j=1}^{n-1}f(x_j)+f(b)\n",
    "\\biggr]-\\frac{b-a}{12}h^2f''(\\mu)\n",
    "$$\n"
   ]
  },
  {
   "cell_type": "code",
   "execution_count": 31,
   "metadata": {},
   "outputs": [],
   "source": [
    "def CompositeTrapezoidal(func:Callable[[Union[float, int, np.ndarray]], Union[float, int]],\n",
    "           a:Union[float, int],\n",
    "           b:Union[float, int],\n",
    "           h:Union[float, int]=None,\n",
    "           N:int=None, \n",
    "           visualize:bool=False) -> float:\n",
    "    if (h is None) and (N is None):\n",
    "        raise ValueError(\"h and N cannot be None at the same time\")\n",
    "    elif h is None:\n",
    "        h = (b - a) / N\n",
    "    elif N is None:\n",
    "        N = int((b - a) / h)\n",
    "    x = np.linspace(a, b, N + 1)\n",
    "    approx = h * (func(a) + func(b)) / 2\n",
    "    for idx in range(1, N):\n",
    "        approx += h * func(x[idx])\n",
    "    if visualize:\n",
    "        plt.figure(figsize=(16, 12))\n",
    "        x_ = np.linspace(a, b, 1000)\n",
    "        plt.fill_between(x_, func(x_), color='chartreuse')\n",
    "        plt.plot(x_, func(x_), 'r')\n",
    "        for idx in range(N):\n",
    "            xs = [x[idx], x[idx], x[idx + 1], x[idx + 1]]\n",
    "            ys = [0, func(x[idx]), func(x[idx + 1]), 0]\n",
    "            plt.fill(xs, ys, 'lightskyblue', edgecolor=\"black\")\n",
    "        plt.show()\n",
    "    return approx"
   ]
  },
  {
   "cell_type": "code",
   "execution_count": 32,
   "metadata": {},
   "outputs": [
    {
     "data": {
      "image/png": "[encoded data removed]",
      "text/plain": [
       "<Figure size 1152x864 with 1 Axes>"
      ]
     },
     "metadata": {
      "needs_background": "light"
     },
     "output_type": "display_data"
    },
    {
     "name": "stdout",
     "output_type": "stream",
     "text": [
      "1.4087633772340937\n"
     ]
    }
   ],
   "source": [
    "print(CompositeTrapezoidal(f, 0, 2, h=0.25, visualize=True))"
   ]
  },
  {
   "cell_type": "markdown",
   "metadata": {},
   "source": [
    "### Composite Midpoint Rule\n",
    "The following codes implement two version of __Midpoint Rule__\n",
    "\n",
    "i)(Closed, invovle the endpoints) Let $f\\in C^2[a, b],h=\\frac{(b-a)}{n}$, and $x_j=a+jh$ for each $j=0,1\\cdots,n$. There exists a $\\mu\\in(a, b)$ for which the __Composite Midpoint Rule__ for $n$ subintervals can be written with its error term as \n",
    "$$\n",
    "\\int_{a}^bf(x)\\,dx=h\\sum_{j=1}^{n}f\\biggl(\\frac{x_{j-1}+x_j}{2}\\biggr)+\\frac{b-a}{24}h^2f''(\\mu)\n",
    "\n",
    "$$\n",
    "\n",
    "ii)(Open, does not invovle the endpoints) Let $f\\in C^2[a, b],\\,\\,n$ be even, $h=\\frac{(b-a)}{n+2}$, and $x_j=a+(j+1)h$ for each $j=-1,0,\\cdots,n+1$. There exists a $\\mu\\in(a, b)$ for which the __Composite Midpoint Rule__ for $n+2$ subintervals can be written with its error term as \n",
    "$$\n",
    "\\int_{a}^bf(x)\\,dx=2h\\sum_{j=0}^{n/2}f(x_{2j})+\\frac{b-a}{6}h^2f''(\\mu)\n",
    "\n",
    "$$\n"
   ]
  },
  {
   "cell_type": "code",
   "execution_count": 33,
   "metadata": {},
   "outputs": [],
   "source": [
    "# Version 1 which compactible with any n\n",
    "def CompositeMidpoint(func:Callable[[Union[float, int, np.ndarray]], Union[float, int]],\n",
    "           a:Union[float, int],\n",
    "           b:Union[float, int],\n",
    "           h:Union[float, int]=None,\n",
    "           N:int=None, \n",
    "           visualize:bool=False) -> float:\n",
    "    if (h is None) and (N is None):\n",
    "        raise ValueError(\"h and N cannot be None at the same time\")\n",
    "    elif h is None:\n",
    "        h = (b - a) / N\n",
    "    elif N is None:\n",
    "        N = int((b - a) / h)\n",
    "    step = h / 2\n",
    "    x = np.linspace(a, b, N + 1)\n",
    "    midpoints = x + step\n",
    "    approx = 0\n",
    "\n",
    "    for m in midpoints[:-1]:\n",
    "        approx += func(m) * h\n",
    "\n",
    "    if visualize:\n",
    "        plt.figure(figsize=(16, 12))\n",
    "        x_ = np.linspace(a, b, 1000)\n",
    "        plt.fill_between(x_, func(x_), color=\"chartreuse\")\n",
    "        plt.plot(x_, func(x_), 'r')\n",
    "        for m in midpoints[:-1]:\n",
    "            plt.bar(m, func(m), h, color='lightskyblue',  edgecolor=\"black\")\n",
    "            plt.plot([m, m], [0, func(m)], linestyle=\"--\", color=\"red\")\n",
    "        plt.xticks(midpoints)\n",
    "        plt.show()\n",
    "    return approx"
   ]
  },
  {
   "cell_type": "code",
   "execution_count": 34,
   "metadata": {},
   "outputs": [],
   "source": [
    "# Version 2 which can only be used when n is even\n",
    "def CompositeMidpoint_(func:Callable[[Union[float, int, np.ndarray]], Union[float, int]],\n",
    "           a:Union[float, int],\n",
    "           b:Union[float, int],\n",
    "           h:Union[float, int]=None,\n",
    "           N:int=None, \n",
    "           visualize:bool=False) -> float:\n",
    "    if (h is None) and (N is None):\n",
    "        raise ValueError(\"h and N cannot be None at the same time\")\n",
    "    elif h is None:\n",
    "        h = (b - a) / (N + 2)\n",
    "    elif N is None:\n",
    "        N = int((b - a - 2 * h) / h)\n",
    "    x = np.linspace(a, b, N + 3)\n",
    "    midpoints = x\n",
    "    approx = 0\n",
    "    for m in midpoints[1:-1:2]:\n",
    "        approx += func(m) * 2 * h\n",
    "\n",
    "    if visualize:\n",
    "        plt.figure(figsize=(16, 12))\n",
    "        x_ = np.linspace(a, b, 1000)\n",
    "        plt.fill_between(x_, func(x_), color=\"chartreuse\")\n",
    "        plt.plot(x_, func(x_), 'r')\n",
    "        for m in midpoints[1:-1:2]:\n",
    "            plt.bar(m, func(m), 2 * h, color='lightskyblue',  edgecolor=\"black\")\n",
    "            plt.plot([m, m], [0, func(m)], linestyle=\"--\", color=\"red\")\n",
    "        plt.xticks(midpoints)\n",
    "        plt.show()\n",
    "    return approx"
   ]
  },
  {
   "cell_type": "code",
   "execution_count": 35,
   "metadata": {},
   "outputs": [
    {
     "data": {
      "image/png": "[encoded data removed]",
      "text/plain": [
       "<Figure size 1152x864 with 1 Axes>"
      ]
     },
     "metadata": {
      "needs_background": "light"
     },
     "output_type": "display_data"
    },
    {
     "name": "stdout",
     "output_type": "stream",
     "text": [
      "Version 1 :  3.084202849079324\n"
     ]
    },
    {
     "data": {
      "image/png": "[encoded data removed]",
      "text/plain": [
       "<Figure size 1152x864 with 1 Axes>"
      ]
     },
     "metadata": {
      "needs_background": "light"
     },
     "output_type": "display_data"
    },
    {
     "name": "stdout",
     "output_type": "stream",
     "text": [
      "Version 2 :  3.009060031006947\n"
     ]
    }
   ],
   "source": [
    "f = lambda x: x ** 2 * np.log(x ** 2 + 1)\n",
    "print(\"Version 1 : \", CompositeMidpoint(f, 0, 2, h=0.25, visualize=True))\n",
    "print(\"Version 2 : \", CompositeMidpoint_(f, 0, 2, h=0.25, visualize=True))"
   ]
  },
  {
   "cell_type": "markdown",
   "metadata": {},
   "source": [
    "### Simpson's Rule\n",
    "Let $f\\in C^4[a, b]$, $n$ be even, $h=\\frac{(b-a)}{n}$, and $x_j=a+jh$, for each $j=0,1,\\cdots n.$ There exists a $\\mu\\in(a, b)$ for which the __Composite Simpson's Rule__ for $n$ subintervals can be written with its error term as\n",
    "$$\n",
    "\\int_{a}^bf(x)\\,dx=\\frac{h}{3}\\biggl[f(a)+2\\sum_{j=1}^{\\frac{n}{2}-1}f(x_{2j})+4\\sum_{j=1}^{\\frac{n}{2}}f(x_{2j-1})+f(b)\\biggr]-\\frac{b-a}{180}h^4f^{(4)}(\\mu)\n",
    "$$"
   ]
  },
  {
   "cell_type": "markdown",
   "metadata": {},
   "source": [
    "Remark: The following NewtonDiff function is just to interpolate the parabola used in the approximation of the definite integral by the _Simpson's Rule_"
   ]
  },
  {
   "cell_type": "code",
   "execution_count": 36,
   "metadata": {},
   "outputs": [],
   "source": [
    "def NewtonDiff(func: Union[Callable[[Union[float, int]], float],\n",
    "                           np.ndarray[Union[float, int], Any],\n",
    "                           List[Union[int, float]]],\n",
    "            x_: Union[np.ndarray[Union[float, int], Any], List[Union[int, float]]],\n",
    "            return_Q: bool=False,\n",
    "            ) -> Union[Callable[[Union[float, int]], float],\n",
    "                       Tuple[Callable[[Union[float, int]], float], np.ndarray[Union[float, int], Any]]]:\n",
    "    \n",
    "    f_call = callable(func)\n",
    "    n = len(x_)\n",
    "    Q = np.zeros((n, n))\n",
    "    \n",
    "    for idx in range(n):\n",
    "        Q[idx][0] = func(x_[idx]) if f_call else func[idx]\n",
    "\n",
    "    for idx in range(1, n):\n",
    "        for jdx in range(1, idx + 1):\n",
    "            Q[idx][jdx] = (Q[idx][jdx - 1] -  Q[idx - 1][jdx - 1]) / (x_[idx] - x_[idx - jdx])\n",
    "\n",
    "    def interpolation(x: float) -> float:\n",
    "        appro = Q[0][0]\n",
    "        for idx in range(1, n):\n",
    "            prod = 1\n",
    "            for jdx in range(idx):\n",
    "                prod *= (x - x_[jdx])\n",
    "            appro += Q[idx][idx] * prod \n",
    "        return appro\n",
    "\n",
    "    return interpolation if not return_Q else (interpolation, Q)\n"
   ]
  },
  {
   "cell_type": "code",
   "execution_count": 37,
   "metadata": {},
   "outputs": [],
   "source": [
    "def CompositeSimpson(func:Callable[[Union[float, int, np.ndarray]], Union[float, int]],\n",
    "           a:Union[float, int],\n",
    "           b:Union[float, int],\n",
    "           h:Union[float, int]=None,\n",
    "           N:int=None, \n",
    "           visualize:bool=False) -> float:\n",
    "    if (h is None) and (N is None):\n",
    "        raise ValueError(\"h and N cannot be None at the same time\")\n",
    "    elif h is None:\n",
    "        h = (b - a) / N\n",
    "    elif N is None:\n",
    "        N = int((b - a) / h)\n",
    "    x = np.linspace(a, b, N + 1)\n",
    "\n",
    "    approx = h * (func(a) + func(b)) / 3\n",
    "    approx += h * (4 * np.sum(func(x[1:-1:2])) + 2 * np.sum(func(x[2:-1:2]))) / 3\n",
    "    if visualize:\n",
    "        plt.figure(figsize=(16, 12))\n",
    "        x_ = np.linspace(a, b, 1000)\n",
    "        plt.fill_between(x_, func(x_), color='chartreuse')\n",
    "        plt.plot(x_, func(x_), 'r')\n",
    "        for idx in range(N, 2):\n",
    "            # Quadratic approximation points\n",
    "            x_quad = [x[idx], x[idx + 1], x[idx + 2]]\n",
    "            y_quad = [func(x[idx]), func(x[idx + 1]), func(x[idx + 2])]\n",
    "\n",
    "            # Plotting the parabola\n",
    "            # quad_fit = np.polyfit(x_quad, y_quad, 2)\n",
    "            # quad_func = np.poly1d(quad_fit)\n",
    "            # x_parabola = np.linspace(x_quad[0], x_quad[2], 100)\n",
    "            # y_parabola = quad_func(x_parabola)\n",
    "            # plt.fill_between(x_parabola, y_parabola, color=\"lightyellow\", edgecolor=\"black\")\n",
    "\n",
    "            poly = NewtonDiff(y_quad, x_quad)\n",
    "            x_parabola = np.linspace(x_quad[0], x_quad[2], 100)\n",
    "            y_parabola = poly(x_parabola)\n",
    "            plt.fill_between(x_parabola, y_parabola, color=\"lightskyblue\", edgecolor=\"black\")\n",
    "\n",
    "        plt.show()\n",
    "    return approx"
   ]
  },
  {
   "cell_type": "code",
   "execution_count": 38,
   "metadata": {},
   "outputs": [
    {
     "data": {
      "image/png": "[encoded data removed]",
      "text/plain": [
       "<Figure size 1152x864 with 1 Axes>"
      ]
     },
     "metadata": {
      "needs_background": "light"
     },
     "output_type": "display_data"
    },
    {
     "name": "stdout",
     "output_type": "stream",
     "text": [
      "3.1093371265088647\n"
     ]
    }
   ],
   "source": [
    "print(CompositeSimpson(f, 0, 2, h=0.25, visualize=True))"
   ]
  },
  {
   "cell_type": "code",
   "execution_count": 39,
   "metadata": {},
   "outputs": [
    {
     "data": {
      "text/html": [
       "<div>\n",
       "<style scoped>\n",
       "    .dataframe tbody tr th:only-of-type {\n",
       "        vertical-align: middle;\n",
       "    }\n",
       "\n",
       "    .dataframe tbody tr th {\n",
       "        vertical-align: top;\n",
       "    }\n",
       "\n",
       "    .dataframe thead th {\n",
       "        text-align: right;\n",
       "    }\n",
       "</style>\n",
       "<table border=\"1\" class=\"dataframe\">\n",
       "  <thead>\n",
       "    <tr style=\"text-align: right;\">\n",
       "      <th></th>\n",
       "      <th>Trapezoidal</th>\n",
       "      <th>Simpson</th>\n",
       "      <th>Midpoint</th>\n",
       "    </tr>\n",
       "  </thead>\n",
       "  <tbody>\n",
       "    <tr>\n",
       "      <th>a</th>\n",
       "      <td>0.639900</td>\n",
       "      <td>0.636310</td>\n",
       "      <td>0.633096</td>\n",
       "    </tr>\n",
       "    <tr>\n",
       "      <th>b</th>\n",
       "      <td>31.365286</td>\n",
       "      <td>22.477125</td>\n",
       "      <td>11.156767</td>\n",
       "    </tr>\n",
       "    <tr>\n",
       "      <th>c</th>\n",
       "      <td>0.784241</td>\n",
       "      <td>0.785398</td>\n",
       "      <td>0.786700</td>\n",
       "    </tr>\n",
       "    <tr>\n",
       "      <th>e</th>\n",
       "      <td>-6.428722</td>\n",
       "      <td>-6.274868</td>\n",
       "      <td>-6.112736</td>\n",
       "    </tr>\n",
       "    <tr>\n",
       "      <th>d</th>\n",
       "      <td>-13.575979</td>\n",
       "      <td>-14.183342</td>\n",
       "      <td>-14.998477</td>\n",
       "    </tr>\n",
       "    <tr>\n",
       "      <th>f</th>\n",
       "      <td>0.476977</td>\n",
       "      <td>0.477755</td>\n",
       "      <td>0.478752</td>\n",
       "    </tr>\n",
       "    <tr>\n",
       "      <th>g</th>\n",
       "      <td>0.605498</td>\n",
       "      <td>0.604394</td>\n",
       "      <td>0.602961</td>\n",
       "    </tr>\n",
       "    <tr>\n",
       "      <th>h</th>\n",
       "      <td>0.970926</td>\n",
       "      <td>0.961055</td>\n",
       "      <td>0.947868</td>\n",
       "    </tr>\n",
       "  </tbody>\n",
       "</table>\n",
       "</div>"
      ],
      "text/plain": [
       "   Trapezoidal    Simpson   Midpoint\n",
       "a     0.639900   0.636310   0.633096\n",
       "b    31.365286  22.477125  11.156767\n",
       "c     0.784241   0.785398   0.786700\n",
       "e    -6.428722  -6.274868  -6.112736\n",
       "d   -13.575979 -14.183342 -14.998477\n",
       "f     0.476977   0.477755   0.478752\n",
       "g     0.605498   0.604394   0.602961\n",
       "h     0.970926   0.961055   0.947868"
      ]
     },
     "execution_count": 39,
     "metadata": {},
     "output_type": "execute_result"
    }
   ],
   "source": [
    "# Exercise Set 4.4 Question 1\n",
    "import pandas as pd\n",
    "f = [\n",
    "    lambda x: x * np.log(x), lambda x: x ** 3 *  np.exp(x),\n",
    "    lambda x: 2 / (x ** 2 + 4), lambda x: x ** 2 * np.cos(x),\n",
    "    lambda x: np.exp(2 * x) * np.sin(3 * x), lambda x: x / (x ** 2 + 4),\n",
    "    lambda x: 1 / np.sqrt(x ** 2 - 4), lambda x: np.tan(x)\n",
    "]\n",
    "left = [1, -2, 0, 0, 0, 1, 3, 0]\n",
    "right = [2, 2, 2, np.pi, 2, 3, 5, 3 * np.pi / 8]\n",
    "N = [4, 4, 6, 6, 8, 8, 8, 8]\n",
    "simpson = []\n",
    "midpoint_2 = []\n",
    "trapezoidal = [] \n",
    "for idx in range(len(f)):\n",
    "    trapezoidal.append(CompositeTrapezoidal(f[idx], left[idx], right[idx], N=N[idx]))\n",
    "    simpson.append(CompositeSimpson(f[idx], left[idx], right[idx], N=N[idx]))\n",
    "    midpoint_2.append(CompositeMidpoint_(f[idx], left[idx], right[idx], N=N[idx]))\n",
    "pd.DataFrame(\n",
    "    {\n",
    "        \"Trapezoidal\":trapezoidal, \"Simpson\":simpson, \"Midpoint\":midpoint_2\n",
    "    },\n",
    "    index=list(\"abcedfgh\")\n",
    ")\n"
   ]
  },
  {
   "cell_type": "markdown",
   "metadata": {},
   "source": [
    "## Chapter 4.5 Romberg Integration\n",
    "By an alternative method it can be shown that if $f\\in C^{\\infty}[a, b]$, the __Composite Trapezoidal Rule__ can also be written with an error term in the form of\n",
    "$$\n",
    "\\int_{a}^{b}f(x)\\,dx=\\frac{h}{2}\\biggl[\n",
    "    f(a)+2\\sum_{j=1}^{n-1}f(x_j)+f(b)\n",
    "\\biggr]+K_1h^2+K_2h^4+K_3h^6+\\cdots\n",
    "$$\n",
    "where each $K_i$ is a constant depends only on $f^{(2i-1)}(a)$ and $f^{(2i-1)}(b)$\n",
    "This is an obvious candidate for extrapolation. This results in a technique known as __Romberg Integration__\n",
    "\n",
    "To obtain the __Romberg Integration__ for __Composite Trapezoidal Rule__, let $h_k=\\frac{(b-a)}{2^{k-1}}$\n",
    "$$\n",
    "R_{k, 1}=\\frac{1}{2}\\biggl[\n",
    "    R_{k-1, 1}+h_{k-1}\\sum_{i=1}^{2^{k-2}}f(a+(2i-1)h_k)\n",
    "\\biggr]\n",
    "$$\n",
    "for each $k=2,3,\\cdots,n$\n",
    "$$\n",
    "R_{k, j}=R_{k, j-1}+\\frac{R_{k, j-1}-R_{k-1, j-1}}{4^{j-1}-1}\n",
    "$$\n",
    "for $k=j,j+1,\\cdots$\n",
    "\n",
    "The following codes implement the algorithm in two different way:\n",
    "\n",
    "i)Version 1: Plain version without optimize the storage\n",
    "\n",
    "ii)Version 2: Modified version with storage optimization with using just two rows"
   ]
  },
  {
   "cell_type": "code",
   "execution_count": 40,
   "metadata": {},
   "outputs": [],
   "source": [
    "# Version 1\n",
    "def Romberg(func:Callable[[Union[float, int, np.ndarray]], Union[float, int]],\n",
    "           a:Union[float, int],\n",
    "           b:Union[float, int],\n",
    "           N:int=None) -> np.ndarray[Union[float, int], Any]:\n",
    "    R = np.zeros((N, N))\n",
    "    h = b - a\n",
    "    R[0][0] = h * (func(a) + func(b)) / 2\n",
    "\n",
    "    for idx in range(1, N):\n",
    "        R[idx, 0] = R[idx - 1, 0]\n",
    "        for jdx in range(1, int(2 ** (idx - 1)) + 1):\n",
    "            R[idx, 0] += h * func(a + (jdx - 0.5) * h)\n",
    "        R[idx, 0] /= 2\n",
    "        h /= 2\n",
    "    for idx in range(1, N):\n",
    "        for jdx in range(idx, N):\n",
    "            R[jdx, idx] = R[jdx, idx - 1] + (R[jdx, idx - 1] - R[jdx - 1, idx - 1]) / (4 ** idx - 1)\n",
    "    return R"
   ]
  },
  {
   "cell_type": "code",
   "execution_count": 41,
   "metadata": {},
   "outputs": [],
   "source": [
    "# Version 2\n",
    "def Romberg_(func:Callable[[Union[float, int, np.ndarray]], Union[float, int]],\n",
    "           a:Union[float, int],\n",
    "           b:Union[float, int],\n",
    "           N:int=None) -> np.ndarray[Union[float, int], Any]:\n",
    "    R = np.zeros((2, N))\n",
    "    h = b - a\n",
    "    R[0][0] = h * (func(a) + func(b)) / 2\n",
    "\n",
    "    for idx in range(1, N):\n",
    "        R[1, 0] = R[0, 0]\n",
    "        for jdx in range(1, int(2 ** (idx - 1)) + 1):\n",
    "            R[1, 0] += h * func(a + (jdx - 0.5) * h)\n",
    "        R[1, 0] /= 2\n",
    "        h /= 2\n",
    "        for jdx in range(1, idx + 1):\n",
    "            R[1, jdx] = R[1, jdx - 1] + (R[1, jdx - 1] - R[0, jdx - 1]) / (4 ** jdx - 1)\n",
    "        R[0] = R[1]\n",
    "    return R[-1, :]"
   ]
  },
  {
   "cell_type": "code",
   "execution_count": 42,
   "metadata": {},
   "outputs": [
    {
     "name": "stdout",
     "output_type": "stream",
     "text": [
      "[[1.92367069e-16 0.00000000e+00 0.00000000e+00 0.00000000e+00\n",
      "  0.00000000e+00 0.00000000e+00]\n",
      " [1.57079633e+00 2.09439510e+00 0.00000000e+00 0.00000000e+00\n",
      "  0.00000000e+00 0.00000000e+00]\n",
      " [1.89611890e+00 2.00455975e+00 1.99857073e+00 0.00000000e+00\n",
      "  0.00000000e+00 0.00000000e+00]\n",
      " [1.97423160e+00 2.00026917e+00 1.99998313e+00 2.00000555e+00\n",
      "  0.00000000e+00 0.00000000e+00]\n",
      " [1.99357034e+00 2.00001659e+00 1.99999975e+00 2.00000002e+00\n",
      "  1.99999999e+00 0.00000000e+00]\n",
      " [1.99839336e+00 2.00000103e+00 2.00000000e+00 2.00000000e+00\n",
      "  2.00000000e+00 2.00000000e+00]]\n",
      "[1.99839336 2.00000103 2.         2.         2.         2.        ]\n"
     ]
    }
   ],
   "source": [
    "f = lambda x: np.sin(x)\n",
    "print(Romberg(f, 0, np.pi, 6))\n",
    "print(Romberg_(f, 0, np.pi, 6))"
   ]
  },
  {
   "cell_type": "markdown",
   "metadata": {},
   "source": [
    "## Chapter 4.6 Adaptive Quadrature Methods\n",
    "If the approximation error for an integral on a given interval is to be evenly distributed,\n",
    "a smaller step size is needed for the large-variation regions than for those with less variation.\n",
    "An efficient technique for this type of problem should predict the amount of functional variation and adapt the step size as necessary. These methods are called __Adaptive quadrature\n",
    "methods__.\n",
    "\n",
    "### General Scheme for Adaptive Quadrature Methods\n",
    "\n",
    "$Q\\approx\\int_a^bf(x)\\,dx$\n",
    "\n",
    "$\\epsilon\\approx\\biggl|Q-\\int_a^bf(x)\\,dx\\biggr|$\n",
    "\n",
    "if $\\epsilon>\\tau$ then\n",
    "$m=\\frac{(b + a)}{2}$\n",
    "\n",
    "$Q=integrate(f, a, m, \\frac{\\tau}{2}) + integrate(f, m, b, \\frac{\\tau}{2})$\n",
    "\n",
    "The important components are the quarature rule \n",
    "\n",
    "$Q\\approx\\int_a^bf(x)\\,dx$\n",
    "\n",
    "the error estimator\n",
    "\n",
    "$\\epsilon\\approx\\biggl|Q-\\int_a^bf(x)\\,dx\\biggr|$\n",
    "\n",
    "and the logic for deciding which interval to subdivide, and when to terminate\n"
   ]
  },
  {
   "cell_type": "markdown",
   "metadata": {},
   "source": [
    "### Adaptive Simpson's Rule\n"
   ]
  },
  {
   "cell_type": "code",
   "execution_count": 43,
   "metadata": {},
   "outputs": [],
   "source": [
    "def AdaSimpson(func:Callable[[Union[float, int, np.ndarray]], Union[float, int]],\n",
    "           a:Union[float, int],\n",
    "           b:Union[float, int],\n",
    "           eps:float=10e-6,\n",
    "           visualize:bool=False) -> np.ndarray[Union[float, int], Any]:\n",
    "    \n",
    "    if visualize:\n",
    "        midpoints = [a]\n",
    "\n",
    "\n",
    "    def Simpson_(func_, a_, b_, fa_, fb_) -> Tuple[float, float, float]:\n",
    "        m = a_ + (b_ - a_) / 2\n",
    "        fm = func_(m)\n",
    "        return (m, fm, (b_ - a_) * (fa_ + 4 * fm + fb_) / 6)\n",
    "\n",
    "    def divide(func_, a_, fa_, b_, fb_, eps, m, fm, whole, visualize) -> float:\n",
    "        left_mid, f_left_mid, left_simp = Simpson_(func_, a_, m, fa_, fm)\n",
    "        right_mid, f_right_mid, right_simp = Simpson_(func_, m, b_, fm, fb_)\n",
    "        delta = left_simp + right_simp - whole\n",
    "        \n",
    "        if (abs(delta) < eps * 15):\n",
    "            return (left_simp + right_simp + delta / 15)  \n",
    "        else:\n",
    "            if visualize:\n",
    "                midpoints.append(m)\n",
    "\n",
    "            return (divide(func_, a_, fa_, m, fm, eps / 2, left_mid, f_left_mid, left_simp, visualize) + \n",
    "                    divide(func_, m, fm, b_, fb_, eps / 2, right_mid, f_right_mid, right_simp, visualize)\n",
    "            )\n",
    "    \n",
    "    fa = func(a)\n",
    "    fb = func(b)\n",
    "    t = Simpson_(func, a, b, fa, fb)\n",
    "    approx = divide(func, a, fa, b, fb, eps, t[0], t[1], t[2], visualize)\n",
    "    midpoints.append(b)\n",
    "    if visualize:\n",
    "        plt.figure(figsize=(16, 12))\n",
    "        x = np.linspace(a, b, 500)\n",
    "        plt.plot(x, func(x))\n",
    "        plt.scatter(midpoints, func(np.array(midpoints)))\n",
    "        plt.xticks(midpoints, rotation=45)\n",
    "        plt.show()\n",
    "    return approx"
   ]
  },
  {
   "cell_type": "code",
   "execution_count": 44,
   "metadata": {},
   "outputs": [
    {
     "data": {
      "image/png": "[encoded data removed]",
      "text/plain": [
       "<Figure size 1152x864 with 1 Axes>"
      ]
     },
     "metadata": {
      "needs_background": "light"
     },
     "output_type": "display_data"
    },
    {
     "data": {
      "text/plain": [
       "-1.4260246884442598"
      ]
     },
     "execution_count": 44,
     "metadata": {},
     "output_type": "execute_result"
    }
   ],
   "source": [
    "f = lambda x: 100 / (x ** 2) * np.sin(10 / x)\n",
    "AdaSimpson(f, 1.0, 3.0, 1e-4, visualize=True)"
   ]
  },
  {
   "cell_type": "markdown",
   "metadata": {},
   "source": [
    "### Adaptive Trapezoidal Rule\n",
    "Mimic the method deriving the _Adaptive Simpson Rule_, we get"
   ]
  },
  {
   "cell_type": "code",
   "execution_count": 45,
   "metadata": {},
   "outputs": [],
   "source": [
    "def AdaTrapezoidal(func:Callable[[Union[float, int, np.ndarray]], Union[float, int]],\n",
    "           a:Union[float, int],\n",
    "           b:Union[float, int],\n",
    "           eps:float=10e-6,\n",
    "           visualize:bool=False) -> np.ndarray[Union[float, int], Any]:\n",
    "    \n",
    "    if visualize:\n",
    "        midpoints = [a]\n",
    "\n",
    "    def Trapezoidal_(func_, a_, b_, fa_, fb_) -> Tuple[float, float, float]:\n",
    "        m = a_ + (b_ - a_) / 2\n",
    "        fm = func_(m)\n",
    "        return (m, fm, (fa_ + fb_) * (b_ - a_) / 2)\n",
    "\n",
    "    def divide(func_, a_, fa_, b_, fb_, eps, m, fm, whole, visualize) -> float:\n",
    "        left_mid, f_left_mid, left_simp = Trapezoidal_(func_, a_, m, fa_, fm)\n",
    "        right_mid, f_right_mid, right_simp = Trapezoidal_(func_, m, b_, fm, fb_)\n",
    "        delta = left_simp + right_simp - whole\n",
    "        if (abs(delta) < eps * 3):\n",
    "            return (left_simp + right_simp + delta / 3)  \n",
    "        else:\n",
    "            if visualize:\n",
    "                midpoints.append(m)\n",
    "\n",
    "            return (divide(func_, a_, fa_, m, fm, eps / 2, left_mid, f_left_mid, left_simp, visualize) + \n",
    "                    divide(func_, m, fm, b_, fb_, eps / 2, right_mid, f_right_mid, right_simp, visualize)\n",
    "            )\n",
    "    \n",
    "    fa = func(a)\n",
    "    fb = func(b)\n",
    "    t = Trapezoidal_(func, a, b, fa, fb)\n",
    "    approx = divide(func, a, fa, b, fb, eps, t[0], t[1], t[2], visualize)\n",
    "    midpoints.append(b)\n",
    "    if visualize:\n",
    "        plt.figure(figsize=(16, 12))\n",
    "        x = np.linspace(a, b, 500)\n",
    "        plt.plot(x, func(x))\n",
    "        plt.scatter(midpoints, func(np.array(midpoints)))\n",
    "        plt.xticks(midpoints, rotation=45)\n",
    "        plt.show()\n",
    "    return approx"
   ]
  },
  {
   "cell_type": "code",
   "execution_count": 46,
   "metadata": {},
   "outputs": [
    {
     "data": {
      "image/png": "[encoded data removed]",
      "text/plain": [
       "<Figure size 1152x864 with 1 Axes>"
      ]
     },
     "metadata": {
      "needs_background": "light"
     },
     "output_type": "display_data"
    },
    {
     "data": {
      "text/plain": [
       "-1.4260243585072327"
      ]
     },
     "execution_count": 46,
     "metadata": {},
     "output_type": "execute_result"
    }
   ],
   "source": [
    "f = lambda x: 100 / (x ** 2) * np.sin(10 / x)\n",
    "AdaTrapezoidal(f, 1.0, 3.0, 1e-3, visualize=True)"
   ]
  },
  {
   "cell_type": "markdown",
   "metadata": {},
   "source": [
    "## Chapter 4.7 Gaussian Quadrature\n",
    "Gaussian quadrature chooses the points for evaluation in an optimal, rather than equally spaced  way. The nodes $x_1, x_2,\\cdots , x_n$ in the interval $[a, b]$ and coefficients $c_1, c_2,\\cdots , c_n$, are\n",
    "chosen to minimize the expected error obtained in the approximation. \n",
    "$$\\int_a^{b}f(x)\\,dx\\approx\\sum_{i=1}^nc_if(x_i)$$\n",
    "\n",
    "To measure this accuracy, we assume that the best choice of these values produces the exact\n",
    "result for the largest class of polynomials, that is, the choice that gives the greatest degree\n",
    "of precision.\n",
    "\n",
    "### Legendre Polynomials\n",
    "- For each $n$, $P_n(x)$ is a monic polynomial of degree $n$.\n",
    "- $\\int_{-1}^1P(x)P_n(x)\\,dx=0$ for any polynomial $P(x)$ that has degree less than $n$\n",
    "\n",
    "For example, the first few _Legendre Polynomials_ are\n",
    "- $P_0(x)=0$\n",
    "- $P_1(x)=x$\n",
    "- $P_2(x)=x^2-\\frac{1}{3}$\n",
    "- $P_3(x)=x^3-\\frac{3}{5}x$\n",
    "- $P_4(x)=x^4-\\frac{6}{7}x^2+\\frac{3}{35}$\n",
    "\n",
    "The roots of these polynomials are distinct, lie in the interval (−1, 1), have a symmetry\n",
    "with respect to the origin. The nodes $x_1, x_2,\\cdots, x_n$ needed to produce an integral approximation formula that gives exact results for any polynomial of degree less than $2n$ are the roots of the $n$ th-degree Legendre polynomial.\n",
    "\n",
    "Suppose that $x_1, x_2,\\cdots, x_n$ are the roots of the $n$ th Legendre polynomial $P_n(x)$ and that for\n",
    "each $i = 1, 2, \\cdots , n$, the numbers $c_i$ are defined by\n",
    "$$\n",
    "c_i = \\int_{-1}^{1}\\prod_{\\substack{j=1\\\\ i\\neq j}}^n\\frac{x-x_j}{x_i-x_j}\\,dx\n",
    "$$\n",
    "If $P(x)$ is any polynomial of degree less than $2n$, then \n",
    "$$\n",
    "\\int_{-1}^{1}P(x)\\,dx=\\sum_{i=1}^nc_iP(x_i)\n",
    "$$\n",
    "\n",
    "An integral $\\int_a^bf(x)\\,dx$ over an arbitrary $[a, b]$ needed to be transformed into an integral over $[-1, 1]$, by using the change of variables \n",
    "$$\n",
    "t=\\frac{2x - a - b}{b - a}\\Longleftrightarrow x=\\frac{1}{2}[(b-a)t+a+b]\n",
    "$$\n",
    "\n",
    "Refer to [Gaussian Quadrature](https://en.wikipedia.org/wiki/Gaussian_quadrature#Other_forms) for more different types of quadracture and polynomials"
   ]
  },
  {
   "cell_type": "code",
   "execution_count": 47,
   "metadata": {},
   "outputs": [],
   "source": [
    "\n",
    "\n",
    "def GaussianLegendre(func:Callable[[Union[float, int, np.ndarray]], Union[float, int]],\n",
    "                    a:Union[float, int],\n",
    "                    b:Union[float, int],\n",
    "                    n:int):\n",
    "    degree = np.zeros(n + 1)\n",
    "    degree[-1] = 1\n",
    "    roots = np.polynomial.Legendre(degree).roots()\n",
    "    coef = np.zeros(n, dtype=float)\n",
    "    # The coefficient of transformation has been included\n",
    "    transformed_func = lambda x: func(((b - a) * x + (b + a)) / 2) * (b - a) / 2\n",
    "    p = transformed_func(roots)\n",
    "    for idx in range(n):\n",
    "        # This function is called to modify the coefficients but we do not need\n",
    "        # the return value\n",
    "        integPolynomial(idx, roots, coef)\n",
    "    return np.sum(coef * p)"
   ]
  },
  {
   "cell_type": "code",
   "execution_count": 48,
   "metadata": {},
   "outputs": [
    {
     "data": {
      "text/plain": [
       "1.9333904692642974"
      ]
     },
     "execution_count": 48,
     "metadata": {},
     "output_type": "execute_result"
    }
   ],
   "source": [
    "# Example 1\n",
    "f = lambda x: np.exp(x) * np.cos(x)\n",
    "GaussianLegendre(f, -1, 1, 3)"
   ]
  },
  {
   "cell_type": "code",
   "execution_count": 49,
   "metadata": {},
   "outputs": [
    {
     "name": "stdout",
     "output_type": "stream",
     "text": [
      "731.6054420569646\n",
      "188.78566830011601\n",
      "306.81993449592\n",
      "333.23809399396384\n",
      "303.59120227719205\n",
      "317.26415173382895\n"
     ]
    }
   ],
   "source": [
    "# Example 2\n",
    "f = lambda x: x ** 6 - x ** 2 * np.sin(2 * x)\n",
    "print(closedNewtonCotes(f, 1, 3, 1))\n",
    "print(openNewtonCotes(f, 1, 3, 1))\n",
    "print(GaussianLegendre(f, 1, 3, 2))\n",
    "\n",
    "print(closedNewtonCotes(f, 1, 3, 2))\n",
    "print(openNewtonCotes(f, 1, 3, 2))\n",
    "print(GaussianLegendre(f, 1, 3, 3))"
   ]
  },
  {
   "cell_type": "code",
   "execution_count": 50,
   "metadata": {},
   "outputs": [
    {
     "data": {
      "text/html": [
       "<div>\n",
       "<style scoped>\n",
       "    .dataframe tbody tr th:only-of-type {\n",
       "        vertical-align: middle;\n",
       "    }\n",
       "\n",
       "    .dataframe tbody tr th {\n",
       "        vertical-align: top;\n",
       "    }\n",
       "\n",
       "    .dataframe thead th {\n",
       "        text-align: right;\n",
       "    }\n",
       "</style>\n",
       "<table border=\"1\" class=\"dataframe\">\n",
       "  <thead>\n",
       "    <tr style=\"text-align: right;\">\n",
       "      <th></th>\n",
       "      <th>N = 2</th>\n",
       "      <th>N = 3</th>\n",
       "      <th>N = 4</th>\n",
       "      <th>N = 5</th>\n",
       "    </tr>\n",
       "  </thead>\n",
       "  <tbody>\n",
       "    <tr>\n",
       "      <th>0</th>\n",
       "      <td>0.192269</td>\n",
       "      <td>0.192259</td>\n",
       "      <td>0.192259</td>\n",
       "      <td>0.192259</td>\n",
       "    </tr>\n",
       "    <tr>\n",
       "      <th>1</th>\n",
       "      <td>0.159410</td>\n",
       "      <td>0.160595</td>\n",
       "      <td>0.160603</td>\n",
       "      <td>0.160603</td>\n",
       "    </tr>\n",
       "    <tr>\n",
       "      <th>2</th>\n",
       "      <td>-0.176819</td>\n",
       "      <td>-0.176820</td>\n",
       "      <td>-0.176820</td>\n",
       "      <td>-0.176820</td>\n",
       "    </tr>\n",
       "    <tr>\n",
       "      <th>3</th>\n",
       "      <td>0.089263</td>\n",
       "      <td>0.088754</td>\n",
       "      <td>0.088755</td>\n",
       "      <td>0.088755</td>\n",
       "    </tr>\n",
       "    <tr>\n",
       "      <th>4</th>\n",
       "      <td>2.591325</td>\n",
       "      <td>2.589258</td>\n",
       "      <td>2.588633</td>\n",
       "      <td>2.588629</td>\n",
       "    </tr>\n",
       "    <tr>\n",
       "      <th>5</th>\n",
       "      <td>-0.730723</td>\n",
       "      <td>-0.733799</td>\n",
       "      <td>-0.733960</td>\n",
       "      <td>-0.733969</td>\n",
       "    </tr>\n",
       "    <tr>\n",
       "      <th>6</th>\n",
       "      <td>0.636197</td>\n",
       "      <td>0.636213</td>\n",
       "      <td>0.636213</td>\n",
       "      <td>0.636213</td>\n",
       "    </tr>\n",
       "    <tr>\n",
       "      <th>7</th>\n",
       "      <td>0.642317</td>\n",
       "      <td>0.642701</td>\n",
       "      <td>0.642699</td>\n",
       "      <td>0.642699</td>\n",
       "    </tr>\n",
       "  </tbody>\n",
       "</table>\n",
       "</div>"
      ],
      "text/plain": [
       "      N = 2     N = 3     N = 4     N = 5\n",
       "0  0.192269  0.192259  0.192259  0.192259\n",
       "1  0.159410  0.160595  0.160603  0.160603\n",
       "2 -0.176819 -0.176820 -0.176820 -0.176820\n",
       "3  0.089263  0.088754  0.088755  0.088755\n",
       "4  2.591325  2.589258  2.588633  2.588629\n",
       "5 -0.730723 -0.733799 -0.733960 -0.733969\n",
       "6  0.636197  0.636213  0.636213  0.636213\n",
       "7  0.642317  0.642701  0.642699  0.642699"
      ]
     },
     "execution_count": 50,
     "metadata": {},
     "output_type": "execute_result"
    }
   ],
   "source": [
    "import pandas as pd\n",
    "# Exercise 1\n",
    "f = [\n",
    "    lambda x: x ** 2 * np.log(x),\n",
    "    lambda x: x ** 2 * np.exp(-x),\n",
    "    lambda x: 2 / (x ** 2 - 4),\n",
    "    lambda x: x ** 2 * np.sin(x),\n",
    "    lambda x: np.exp(3 * x) * np.sin(2 * x),\n",
    "    lambda x: (2 * x) / (x ** 2 - 4),\n",
    "    lambda x: x / np.sqrt(x ** 2 - 4),\n",
    "    lambda x: np.cos(x) ** 2\n",
    "]\n",
    "\n",
    "a = [1, 0, 0, 0, 0, 1, 3, 0]\n",
    "b = [1.5, 1, 0.35, np.pi / 4, np.pi / 4, 1.6, 3.5, np.pi / 4]\n",
    "\n",
    "n2 = []\n",
    "n3 = []\n",
    "n4 = []\n",
    "n5 = []\n",
    "\n",
    "for idx in range(len(f)):\n",
    "    n2.append(GaussianLegendre(f[idx], a[idx], b[idx], 2))\n",
    "    n3.append(GaussianLegendre(f[idx], a[idx], b[idx], 3))\n",
    "    n4.append(GaussianLegendre(f[idx], a[idx], b[idx], 4))\n",
    "    n5.append(GaussianLegendre(f[idx], a[idx], b[idx], 5))\n",
    "n = [n2, n3, n4, n5]\n",
    "\n",
    "pd.DataFrame({\n",
    "    f\"N = {idx + 2}\": n[idx] for idx in range(len(n))\n",
    "})\n",
    "    "
   ]
  },
  {
   "cell_type": "markdown",
   "metadata": {},
   "source": [
    "## Chapter 4.8 Multiple Integrals\n",
    "Apply the techniques of numerical integration to the inner integral first then outer."
   ]
  },
  {
   "cell_type": "code",
   "execution_count": 53,
   "metadata": {},
   "outputs": [],
   "source": [
    "def DoubleGaussianLegendre(func:Callable[[Union[float, int, np.ndarray], Union[float, int, np.ndarray]], Union[float, int]],\n",
    "                    a:Union[float, int],\n",
    "                    b:Union[float, int],\n",
    "                    c:Callable[[Union[float, int, np.ndarray]], Union[float, int]],\n",
    "                    d:Callable[[Union[float, int, np.ndarray]], Union[float, int]],\n",
    "                    m:int, n:int) -> float:\n",
    "    degree_x = np.zeros(m + 1)\n",
    "    degree_x[-1] = 1\n",
    "    degree_y = np.zeros(n + 1)\n",
    "    degree_y[-1] = 1\n",
    "    \n",
    "    roots_x = np.polynomial.Legendre(degree_x).roots()\n",
    "    roots_y = np.polynomial.Legendre(degree_y).roots()\n",
    "    coef_x = np.zeros(m, dtype=float)\n",
    "    coef_y = np.zeros(n, dtype=float)\n",
    "    approx_x = 0\n",
    "    \n",
    "    h_1 = (b - a) / 2\n",
    "    h_2 =  h_1 + a\n",
    "    for idx in range(m):\n",
    "        approx_y = 0\n",
    "        x = integPolynomial(idx, roots_x, coef_x, alpha=h_1, beta=h_2)\n",
    "        c_, d_ = c(x), d(x)\n",
    "        k_1 = (d_ - c_) / 2\n",
    "        k_2 = k_1 + c_\n",
    "        for jdx in range(n):\n",
    "            y = integPolynomial(jdx, roots_y, coef_y, alpha=k_1, beta=k_2)\n",
    "            approx_y += coef_y[jdx] * func(x, y)\n",
    "        approx_x += coef_x[idx] * k_1 * approx_y\n",
    "    return h_1 * approx_x"
   ]
  },
  {
   "cell_type": "code",
   "execution_count": 54,
   "metadata": {},
   "outputs": [
    {
     "data": {
      "text/plain": [
       "0.03330556611867535"
      ]
     },
     "execution_count": 54,
     "metadata": {},
     "output_type": "execute_result"
    }
   ],
   "source": [
    "# Illustration\n",
    "f = lambda x, y: np.exp(y / x)\n",
    "c = lambda x: x ** 3\n",
    "d = lambda x: x ** 2\n",
    "DoubleGaussianLegendre(f, 0.1, 0.5,c, d, 5, 5)"
   ]
  },
  {
   "cell_type": "code",
   "execution_count": 55,
   "metadata": {},
   "outputs": [
    {
     "name": "stdout",
     "output_type": "stream",
     "text": [
      "0.3115733333333331\n",
      "0.2552446029338543\n",
      "16.50863333333335\n",
      "1.4888745284660247\n"
     ]
    }
   ],
   "source": [
    "# Exercise 5\n",
    "f = [\n",
    "    lambda x, y: x * y ** 2,\n",
    "    lambda x, y: np.exp(y - x),\n",
    "    lambda x, y: x ** 2 + y ** 3,\n",
    "    lambda x, y: x ** 2 + np.sqrt(y),\n",
    "]\n",
    "a = [\n",
    "    2.1, 0, 2, 1\n",
    "]\n",
    "b = [\n",
    "    2.5, 0.5, 2.2, 1.5\n",
    "]\n",
    "c = [\n",
    "    lambda x: 1.2, lambda x: 0,\n",
    "    lambda x: x, lambda x: 0\n",
    "]\n",
    "d = [\n",
    "    lambda x: 1.4,\n",
    "    lambda x: 0.5,\n",
    "    lambda x: 2 * x,\n",
    "    lambda x: x\n",
    "]\n",
    "\n",
    "for _ in range(len(f)):\n",
    "    print(DoubleGaussianLegendre(f[_], a[_], b[_], c[_], d[_], 2, 2))"
   ]
  },
  {
   "cell_type": "code",
   "execution_count": 56,
   "metadata": {},
   "outputs": [
    {
     "data": {
      "text/html": [
       "<div>\n",
       "<style scoped>\n",
       "    .dataframe tbody tr th:only-of-type {\n",
       "        vertical-align: middle;\n",
       "    }\n",
       "\n",
       "    .dataframe tbody tr th {\n",
       "        vertical-align: top;\n",
       "    }\n",
       "\n",
       "    .dataframe thead th {\n",
       "        text-align: right;\n",
       "    }\n",
       "</style>\n",
       "<table border=\"1\" class=\"dataframe\">\n",
       "  <thead>\n",
       "    <tr style=\"text-align: right;\">\n",
       "      <th></th>\n",
       "      <th>m=3, n=3</th>\n",
       "      <th>m=4, n=3</th>\n",
       "      <th>m=3, n=4</th>\n",
       "      <th>m=4, n=4</th>\n",
       "    </tr>\n",
       "  </thead>\n",
       "  <tbody>\n",
       "    <tr>\n",
       "      <th>0</th>\n",
       "      <td>0.511866</td>\n",
       "      <td>0.511845</td>\n",
       "      <td>0.511866</td>\n",
       "      <td>0.511845</td>\n",
       "    </tr>\n",
       "    <tr>\n",
       "      <th>1</th>\n",
       "      <td>1.718163</td>\n",
       "      <td>1.718302</td>\n",
       "      <td>1.718139</td>\n",
       "      <td>1.718277</td>\n",
       "    </tr>\n",
       "    <tr>\n",
       "      <th>2</th>\n",
       "      <td>1.000000</td>\n",
       "      <td>1.000000</td>\n",
       "      <td>1.000000</td>\n",
       "      <td>1.000000</td>\n",
       "    </tr>\n",
       "    <tr>\n",
       "      <th>3</th>\n",
       "      <td>0.783333</td>\n",
       "      <td>0.783333</td>\n",
       "      <td>0.783333</td>\n",
       "      <td>0.783333</td>\n",
       "    </tr>\n",
       "    <tr>\n",
       "      <th>4</th>\n",
       "      <td>-1.991878</td>\n",
       "      <td>-2.000124</td>\n",
       "      <td>-1.991878</td>\n",
       "      <td>-2.000124</td>\n",
       "    </tr>\n",
       "    <tr>\n",
       "      <th>5</th>\n",
       "      <td>2.001494</td>\n",
       "      <td>2.000080</td>\n",
       "      <td>2.001388</td>\n",
       "      <td>1.999984</td>\n",
       "    </tr>\n",
       "    <tr>\n",
       "      <th>6</th>\n",
       "      <td>0.308415</td>\n",
       "      <td>0.308415</td>\n",
       "      <td>0.308425</td>\n",
       "      <td>0.308424</td>\n",
       "    </tr>\n",
       "    <tr>\n",
       "      <th>7</th>\n",
       "      <td>-12.747901</td>\n",
       "      <td>-21.215390</td>\n",
       "      <td>-11.836238</td>\n",
       "      <td>-20.303727</td>\n",
       "    </tr>\n",
       "  </tbody>\n",
       "</table>\n",
       "</div>"
      ],
      "text/plain": [
       "    m=3, n=3   m=4, n=3   m=3, n=4   m=4, n=4\n",
       "0   0.511866   0.511845   0.511866   0.511845\n",
       "1   1.718163   1.718302   1.718139   1.718277\n",
       "2   1.000000   1.000000   1.000000   1.000000\n",
       "3   0.783333   0.783333   0.783333   0.783333\n",
       "4  -1.991878  -2.000124  -1.991878  -2.000124\n",
       "5   2.001494   2.000080   2.001388   1.999984\n",
       "6   0.308415   0.308415   0.308425   0.308424\n",
       "7 -12.747901 -21.215390 -11.836238 -20.303727"
      ]
     },
     "execution_count": 56,
     "metadata": {},
     "output_type": "execute_result"
    }
   ],
   "source": [
    "import pandas as pd\n",
    "\n",
    "# Exercise 7\n",
    "f = [\n",
    "    lambda x, y: 2 * y * np.sin(x) + np.cos(x) ** 2,\n",
    "    lambda x, y: np.log(x * y),\n",
    "    lambda x, y: x ** 2 + y ** 3,\n",
    "    lambda x, y: y ** 2 + x ** 3,\n",
    "    lambda x, y: np.cos(x),\n",
    "    lambda x, y: np.cos(y),\n",
    "    lambda x, y: 1 / (np.sqrt(1 - y ** 2)),\n",
    "    lambda x, y: y * np.sin(x) + x * np.cos(y)\n",
    "]\n",
    "a = [\n",
    "    0, 1, 0, 0, 0, 0, 0, -np.pi\n",
    "]\n",
    "b = [\n",
    "    np.pi / 4, np.exp(1), 1, 1, np.pi, np.pi, np.pi / 4, 3 * np.pi / 2\n",
    "]\n",
    "c = [\n",
    "    lambda x: np.sin(x), lambda x: 1,\n",
    "    lambda x: x, lambda x: x,\n",
    "    lambda x: 0, lambda x: 0,\n",
    "    lambda x: 0, lambda x: 0\n",
    "]\n",
    "d = [\n",
    "    lambda x: np.cos(x), lambda x: x,\n",
    "    lambda x: 2 * x, lambda x: 2 * x,\n",
    "    lambda x: x, lambda x: x,\n",
    "    lambda x: np.sin(x), lambda x: 2 * np.pi\n",
    "]\n",
    "\n",
    "df = {}\n",
    "\n",
    "m = [3, 4, 3, 4]\n",
    "n = [3, 3, 4, 4]\n",
    "for idx in range(len(m)):\n",
    "    t = []\n",
    "    for jdx in range(len(f)):\n",
    "        t.append(DoubleGaussianLegendre(f[jdx], a[jdx], b[jdx], c[jdx], d[jdx], m[idx], n[idx]))\n",
    "    df[f\"m={m[idx]}, n={n[idx]}\"] = t\n",
    "pd.DataFrame(df)"
   ]
  },
  {
   "cell_type": "code",
   "execution_count": null,
   "metadata": {},
   "outputs": [],
   "source": [
    "def TripleGaussianLegendre(func:Callable[[Union[float, int, np.ndarray], \n",
    "                                          Union[float, int, np.ndarray], \n",
    "                                          Union[float, int, np.ndarray], \n",
    "                                          ], Union[float, int]],\n",
    "                    a:Union[float, int],\n",
    "                    b:Union[float, int],\n",
    "                    c:Callable[[Union[float, int, np.ndarray]], Union[float, int]],\n",
    "                    d:Callable[[Union[float, int, np.ndarray]], Union[float, int]],\n",
    "                    alpha:Callable[[Union[float, int, np.ndarray], Union[float, int, np.ndarray]], Union[float, int]],\n",
    "                    beta:Callable[[Union[float, int, np.ndarray], Union[float, int, np.ndarray]], Union[float, int]],\n",
    "                    m:int, n:int, p:int) -> float:\n",
    "    degree_x = np.zeros(m + 1)\n",
    "    degree_x[-1] = 1\n",
    "    degree_y = np.zeros(n + 1)\n",
    "    degree_y[-1] = 1\n",
    "    degree_z = np.zeros(p + 1)\n",
    "    degree_z[-1] = 1\n",
    "    \n",
    "    roots_x = np.polynomial.Legendre(degree_x).roots()\n",
    "    roots_y = np.polynomial.Legendre(degree_y).roots()\n",
    "    roots_z = np.polynomial.Legendre(degree_z).roots()\n",
    "    coef_x = np.zeros(m, dtype=float)\n",
    "    coef_y = np.zeros(n, dtype=float)\n",
    "    coef_z = np.zeros(p, dtype=float)\n",
    "\n",
    "    approx_x = 0\n",
    "    h_1 = (b - a) / 2\n",
    "    h_2 =  h_1 + a\n",
    "    for idx in range(m):\n",
    "        approx_y = 0\n",
    "        x = integPolynomial(idx, roots_x, coef_x, alpha=h_1, beta=h_2)\n",
    "        c_, d_ = c(x), d(x)\n",
    "        k_1 = (d_ - c_) / 2\n",
    "        k_2 = k_1 + c_\n",
    "        for jdx in range(n):\n",
    "            approx_z = 0\n",
    "            y = integPolynomial(jdx, roots_y, coef_y, alpha=k_1, beta=k_2)\n",
    "            alpha_, beta_ = alpha(x, y), beta(x, y)\n",
    "            l_1 = (beta_ - alpha_) / 2\n",
    "            l_2 = l_1 + alpha_\n",
    "            for kdx in range(p):\n",
    "                z = integPolynomial(kdx, roots_z, coef_z, alpha=l_1, beta=l_2)\n",
    "                approx_z += coef_z[kdx] * func(x, y, z)\n",
    "            approx_y += coef_y[jdx] * l_1 * approx_z\n",
    "        approx_x += coef_x[idx] * k_1 * approx_y\n",
    "    return h_1 * approx_x"
   ]
  },
  {
   "cell_type": "code",
   "execution_count": null,
   "metadata": {},
   "outputs": [
    {
     "data": {
      "text/plain": [
       "47133.527777777774"
      ]
     },
     "execution_count": 40,
     "metadata": {},
     "output_type": "execute_result"
    }
   ],
   "source": [
    "f = lambda x, y, z: x ** 2 + y ** 2 + z\n",
    "a, b = 2, 4\n",
    "c, d = lambda x: x - 1, lambda x: x + 6\n",
    "alpha, beta = lambda x, y: -2, lambda x, y: 4 + y ** 2\n",
    "TripleGaussianLegendre(f, a, b, c, d, alpha, beta, 2, 2, 2)"
   ]
  },
  {
   "cell_type": "code",
   "execution_count": null,
   "metadata": {},
   "outputs": [
    {
     "data": {
      "text/plain": [
       "5.204036265137038"
      ]
     },
     "execution_count": 41,
     "metadata": {},
     "output_type": "execute_result"
    }
   ],
   "source": [
    "f = lambda x, y, z: np.exp(x + y + z)\n",
    "a, b = 0, 1\n",
    "c, d = lambda x: 1, lambda x: 2\n",
    "alpha, beta = lambda x, y: 0, lambda x, y: .5\n",
    "TripleGaussianLegendre(f, a, b, c, d, alpha, beta, 2, 2, 2)"
   ]
  },
  {
   "cell_type": "code",
   "execution_count": null,
   "metadata": {},
   "outputs": [],
   "source": []
  }
 ],
 "metadata": {
  "kernelspec": {
   "display_name": "Python 3",
   "language": "python",
   "name": "python3"
  },
  "language_info": {
   "codemirror_mode": {
    "name": "ipython",
    "version": 3
   },
   "file_extension": ".py",
   "mimetype": "text/x-python",
   "name": "python",
   "nbconvert_exporter": "python",
   "pygments_lexer": "ipython3",
   "version": "3.9.7"
  }
 },
 "nbformat": 4,
 "nbformat_minor": 2
}
