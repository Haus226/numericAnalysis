{
 "cells": [
  {
   "cell_type": "code",
   "execution_count": 81,
   "metadata": {},
   "outputs": [],
   "source": [
    "import numpy as np\n",
    "from typing import Tuple, Union"
   ]
  },
  {
   "cell_type": "markdown",
   "metadata": {},
   "source": [
    "# Linear Systems of Equations"
   ]
  },
  {
   "cell_type": "markdown",
   "metadata": {},
   "source": [
    "## Backward and Forward Substituition \n",
    "Given an augmented upper triangular matrix $U$ with the shape $n\\times (n + 1)$, we can compute the solutions for the systems by formula below:\n",
    "$$x_n = \\frac{u_{n, n+1}}{u_{n, n}}$$\n",
    "$$x_i=\\frac{1}{u_{i, i}}\\biggl(u_{i, n+1}-\\sum^{n}_{j=i+1}u_{i, j}x_{j}\\biggr)$$\n",
    "where $i=1,2,\\cdots,n-1$\n",
    "\n",
    "Given an augmented lower triangular matrix $L$ with the shape $n\\times (n + 1)$, we can compute the solutions for the systems by formula below:\n",
    "$$x_1 = \\frac{l_{1, n+1}}{l_{1, 1}}$$\n",
    "$$x_i=\\frac{1}{l_{i, i}}\\biggl(l_{i, n+1}-\\sum^{i - 1}_{j=1}l_{i, j}x_{j}\\biggr)$$\n"
   ]
  },
  {
   "cell_type": "code",
   "execution_count": 82,
   "metadata": {},
   "outputs": [],
   "source": [
    "def backSub(U:np.ndarray) -> np.ndarray:\n",
    "    N, M = U.shape\n",
    "    x = np.zeros((N, 1), dtype=np.float64)\n",
    "    x[N - 1][0] = U[N - 1][M - 1] / U[N - 1][N - 1]    \n",
    "    for jdx in range(N - 2, -1, -1):\n",
    "        x[jdx] = (U[jdx][M - 1] - np.sum(U[jdx, jdx + 1:N] @ x[jdx + 1:])) / U[jdx][jdx]\n",
    "    return x\n",
    "\n",
    "def forSub(L:np.ndarray) -> np.ndarray:\n",
    "    N, M = L.shape\n",
    "    x = np.zeros((N, 1), dtype=np.float64)\n",
    "    x[0][0] = L[0][M - 1] / L[0][0]   \n",
    "    for jdx in range(1, N):\n",
    "        x[jdx] = (L[jdx][M - 1] - np.sum(L[jdx, :jdx] @ x[:jdx])) / L[jdx][jdx]\n",
    "    return x"
   ]
  },
  {
   "cell_type": "code",
   "execution_count": 83,
   "metadata": {},
   "outputs": [
    {
     "name": "stdout",
     "output_type": "stream",
     "text": [
      "(array([[ 1., -1.,  2., -1., -8.],\n",
      "       [ 0.,  2., -1.,  1.,  6.],\n",
      "       [ 0.,  0., -1., -1., -4.],\n",
      "       [ 0.,  0.,  0.,  2.,  4.]]), array([[-7.],\n",
      "       [ 3.],\n",
      "       [ 2.],\n",
      "       [ 2.]]))\n",
      "(array([[  2.        ,   0.        ,   0.        ,   0.        ,\n",
      "        -14.        ],\n",
      "       [ -0.0952381 ,   0.0952381 ,   0.        ,   0.        ,\n",
      "          0.95238095],\n",
      "       [  3.        ,  -3.        ,   7.        ,   0.        ,\n",
      "        -16.        ],\n",
      "       [  2.        ,  -2.        ,   3.        ,  -3.        ,\n",
      "        -20.        ]]), array([[-7.],\n",
      "       [ 3.],\n",
      "       [ 2.],\n",
      "       [ 2.]]))\n"
     ]
    }
   ],
   "source": [
    "def forwardElimination(A:np.ndarray, return_A:bool=False) -> Union[Tuple[np.ndarray, np.ndarray], np.ndarray]:\n",
    "    '''\n",
    "    Parameters:\n",
    "    A: Augmented matrix of the system of equations Ax = b\n",
    "    '''\n",
    "    N, M = A.shape\n",
    "    A_ = np.copy(A).astype(float)\n",
    "    for idx in range(N - 1):\n",
    "        non_zero = np.nonzero(A_[idx:, idx])\n",
    "        if not non_zero[0].size:\n",
    "            raise ValueError(\"No Unique Solution Exists...\")\n",
    "        ptr = non_zero[0][0] + idx\n",
    "        A_[[idx, ptr]] = A_[[ptr, idx]]\n",
    "            \n",
    "        for jdx in range(idx + 1, N):\n",
    "            m = A_[jdx][idx] / A_[idx][idx]\n",
    "            A_[jdx] -= m * A_[idx]\n",
    "            \n",
    "    if A_[N - 1][N - 1] == 0:\n",
    "        raise ValueError(\"No Unique Solution Exists...\")\n",
    "    return backSub(A_) if not return_A else (A_, backSub(A_))\n",
    "\n",
    "def backwardElimination(A:np.ndarray, return_A:bool=False) -> Union[Tuple[np.ndarray, np.ndarray], np.ndarray]:\n",
    "    '''\n",
    "    Parameters:\n",
    "    A: Augmented matrix of the system of equations Ax = b\n",
    "    '''\n",
    "    N, M = A.shape\n",
    "    A_ = np.copy(A).astype(float)\n",
    "    for idx in range(N - 1, 0, -1):\n",
    "        non_zero = np.nonzero(A_[:idx, idx])\n",
    "        if not non_zero[0].size:\n",
    "            raise ValueError(\"No Unique Solution Exists...\")\n",
    "        ptr = non_zero[0][::-1][0]\n",
    "        A_[[idx, ptr]] = A_[[ptr, idx]]\n",
    "            \n",
    "        for jdx in range(idx - 1, -1, -1):\n",
    "            m = A_[jdx][idx] / A_[idx][idx]\n",
    "            A_[jdx] -= m * A_[idx]\n",
    "            \n",
    "    if A_[0][0] == 0:\n",
    "        raise ValueError(\"No Unique Solution Exists...\")\n",
    "    return forSub(A_) if not return_A else (A_, forSub(A_))\n"
   ]
  },
  {
   "cell_type": "code",
   "execution_count": 92,
   "metadata": {},
   "outputs": [
    {
     "data": {
      "text/plain": [
       "(array([[-7.],\n",
       "        [ 3.],\n",
       "        [ 2.],\n",
       "        [ 2.]]),\n",
       " array([[-7.],\n",
       "        [ 3.],\n",
       "        [ 2.],\n",
       "        [ 2.]]),\n",
       " array([-7.,  3.,  2.,  2.], dtype=float32))"
      ]
     },
     "execution_count": 92,
     "metadata": {},
     "output_type": "execute_result"
    }
   ],
   "source": [
    "A = np.array([\n",
    "   [1, -1, 2, -1, -8],\n",
    "   [2, -2, 3, -3, -20],\n",
    "   [1, 1, 1, 0, -2],\n",
    "   [1, -1, 4, 3, 4] \n",
    "], dtype=np.float32)\n",
    "\n",
    "forwardElimination(A), backwardElimination(A), np.linalg.solve(A[:, :4], A[:, -1])"
   ]
  },
  {
   "cell_type": "code",
   "execution_count": 95,
   "metadata": {},
   "outputs": [
    {
     "name": "stdout",
     "output_type": "stream",
     "text": [
      "[[-25  25  -5   5  28 -33  -5]\n",
      " [ 11  20 -39  49 -26 -46  -9]\n",
      " [-20  20 -49 -39  -6 -38  35]\n",
      " [ 25 -25 -29   2 -41 -37 -20]\n",
      " [-50 -23  31 -33 -45  20 -23]\n",
      " [ -1  31 -22  -1  19  41 -22]]\n"
     ]
    },
    {
     "data": {
      "text/plain": [
       "(array([[ 4.64557602],\n",
       "        [ 7.1913326 ],\n",
       "        [ 4.97678842],\n",
       "        [-3.57324327],\n",
       "        [-3.09624895],\n",
       "        [-1.84246104]]),\n",
       " array([[ 4.64557602],\n",
       "        [ 7.1913326 ],\n",
       "        [ 4.97678842],\n",
       "        [-3.57324327],\n",
       "        [-3.09624895],\n",
       "        [-1.84246104]]),\n",
       " array([ 4.64557602,  7.1913326 ,  4.97678842, -3.57324327, -3.09624895,\n",
       "        -1.84246104]))"
      ]
     },
     "execution_count": 95,
     "metadata": {},
     "output_type": "execute_result"
    }
   ],
   "source": [
    "A = np.random.randint(-50, 50, 42).reshape(6, 7)\n",
    "print(A)\n",
    "forwardElimination(A), backwardElimination(A), np.linalg.solve(A[:, :6], A[:, -1])"
   ]
  },
  {
   "cell_type": "markdown",
   "metadata": {},
   "source": [
    "## Determinant of the Matrix\n",
    "> If B is a matrix obtained by multiplying a row of A by some non-zero constant ß, then\n",
    "> - det(B) = ß * det(A)\n",
    "> \n",
    "> In other words, you can essentially 'factor out' a constant from a row by just pulling it out front of the determinant.\n",
    "> If B is a matrix obtained by swapping two rows of A, then\n",
    "> \n",
    "> - det(B) = -det(A)\n",
    "> \n",
    "> If you swap rows, flip the sign.\n",
    "> If B is a matrix obtained by adding a multiple of one row to another row in A, then\n",
    "> \n",
    "> - det(B) = det(A)\n",
    "> \n",
    "> The determinant doesn't change.\n",
    "\n",
    "Reference:[https://stackoverflow.com/questions/2435133/what-is-the-best-algorithm-to-find-a-determinant-of-a-matrix](https://stackoverflow.com/questions/2435133/what-is-the-best-algorithm-to-find-a-determinant-of-a-matrix)\n",
    "\n",
    "The algorithm below implemented using the property that the determinant of the diagonal or triangular  matrix no matter lower or upper, the determinant is equal to $0$\n",
    "\n",
    "So by using this property and the rule $(2\\text{ and }3)$ above we come to the conclusion that $det(A)=(-1)^{m}\\prod_{i}u_{i, i}$, where $u$ is the entry of the upper triangular matrix after reduce matrix $A$ to row echelon form and $m$ is the number of time we interchange the row."
   ]
  },
  {
   "cell_type": "code",
   "execution_count": 84,
   "metadata": {},
   "outputs": [],
   "source": [
    "def det(A:np.ndarray) -> float:\n",
    "    N, M = A.shape\n",
    "    A_ = np.copy(A).astype(float)\n",
    "    p = 0\n",
    "    for idx in range(N - 1):\n",
    "        non_zero = np.nonzero(A_[idx:, idx])\n",
    "        if not non_zero[0].size:\n",
    "            raise ValueError(\"No Unique Solution Exists...\")\n",
    "        ptr = non_zero[0][0] + idx\n",
    "\n",
    "        # Row interchange causes sign of determinant flips\n",
    "        if ptr != idx:\n",
    "            A_[[idx, ptr]] = A_[[ptr, idx]]\n",
    "            p += 1\n",
    "            \n",
    "        # Addition between row does not change the determinant\n",
    "        for jdx in range(idx + 1, N):\n",
    "            m = A_[jdx][idx] / A_[idx][idx]\n",
    "            A_[jdx] -= m * A_[idx]\n",
    "            \n",
    "    if A_[N - 1][N - 1] == 0:\n",
    "        raise ValueError(\"No Unique Solution Exists...\")\n",
    "    \n",
    "    return np.prod(np.diag(A_)) * (-1) ** p"
   ]
  },
  {
   "cell_type": "code",
   "execution_count": 85,
   "metadata": {},
   "outputs": [
    {
     "data": {
      "text/plain": [
       "(4.0, 4.0)"
      ]
     },
     "execution_count": 85,
     "metadata": {},
     "output_type": "execute_result"
    }
   ],
   "source": [
    "A = np.array([\n",
    "   [1, -1, 2, -1],\n",
    "   [2, -2, 3, -3],\n",
    "   [1, 1, 1, 0],\n",
    "   [1, -1, 4, 3] \n",
    "], dtype=np.float32)\n",
    "det(A), np.linalg.det(A)"
   ]
  },
  {
   "cell_type": "code",
   "execution_count": 87,
   "metadata": {},
   "outputs": [
    {
     "data": {
      "text/plain": [
       "(-14454.0, -14454.00000000001)"
      ]
     },
     "execution_count": 87,
     "metadata": {},
     "output_type": "execute_result"
    }
   ],
   "source": [
    "A = np.random.randint(1, 20, 16).reshape((4, 4))\n",
    "det(A), np.linalg.det(A)"
   ]
  }
 ],
 "metadata": {
  "kernelspec": {
   "display_name": "Python 3",
   "language": "python",
   "name": "python3"
  },
  "language_info": {
   "codemirror_mode": {
    "name": "ipython",
    "version": 3
   },
   "file_extension": ".py",
   "mimetype": "text/x-python",
   "name": "python",
   "nbconvert_exporter": "python",
   "pygments_lexer": "ipython3",
   "version": "3.9.7"
  }
 },
 "nbformat": 4,
 "nbformat_minor": 2
}
