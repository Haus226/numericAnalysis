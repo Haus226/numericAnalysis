{
 "cells": [
  {
   "cell_type": "code",
   "execution_count": 338,
   "metadata": {},
   "outputs": [],
   "source": [
    "import numpy as np"
   ]
  },
  {
   "cell_type": "markdown",
   "metadata": {},
   "source": [
    "# Linear Systems of Equations"
   ]
  },
  {
   "cell_type": "markdown",
   "metadata": {},
   "source": [
    "## Backward and Forward Substituition \n",
    "Given an augmented upper triangular matrix $U$ with the shape $n\\times (n + 1)$, we can compute the solutions for the systems by formula below:\n",
    "$$x_n = \\frac{u_{n, n+1}}{u_{n, n}}$$\n",
    "$$x_i=\\frac{1}{u_{i, i}}\\biggl(u_{i, n+1}-\\sum^{n}_{j=i+1}u_{i, j}x_{j}\\biggr)$$\n",
    "where $i=1,2,\\cdots,n-1$\n",
    "\n",
    "Given an augmented lower triangular matrix $L$ with the shape $n\\times (n + 1)$, we can compute the solutions for the systems by formula below:\n",
    "$$x_1 = \\frac{l_{1, n+1}}{l_{1, 1}}$$\n",
    "$$x_i=\\frac{1}{l_{i, i}}\\biggl(l_{i, n+1}-\\sum^{i - 1}_{j=1}l_{i, j}x_{j}\\biggr)$$\n"
   ]
  },
  {
   "cell_type": "code",
   "execution_count": 339,
   "metadata": {},
   "outputs": [],
   "source": [
    "def backSub(U:np.ndarray):\n",
    "    N, M = U.shape\n",
    "    x = np.zeros((N, 1), dtype=np.float64)\n",
    "    x[N - 1][0] = U[N - 1][M - 1] / U[N - 1][N - 1]    \n",
    "    for jdx in range(N - 2, -1, -1):\n",
    "        x[jdx] = (U[jdx][M - 1] - np.sum(U[jdx, jdx + 1:N] @ x[jdx + 1:])) / U[jdx][jdx]\n",
    "    return x\n",
    "\n",
    "def forSub(L:np.ndarray):\n",
    "    N, M = L.shape\n",
    "    x = np.zeros((N, 1), dtype=np.float64)\n",
    "    x[0][0] = L[0][M - 1] / L[0][0]   \n",
    "    for jdx in range(1, N):\n",
    "        x[jdx] = (L[jdx][M - 1] - np.sum(L[jdx, :jdx] @ x[:jdx])) / L[jdx][jdx]\n",
    "    return x"
   ]
  },
  {
   "cell_type": "code",
   "execution_count": 340,
   "metadata": {},
   "outputs": [
    {
     "name": "stdout",
     "output_type": "stream",
     "text": [
      "[[-7.]\n",
      " [ 3.]\n",
      " [ 2.]\n",
      " [ 2.]]\n",
      "[[-7.]\n",
      " [ 3.]\n",
      " [ 2.]\n",
      " [ 2.]]\n"
     ]
    }
   ],
   "source": [
    "def forwardElimination(A:np.ndarray):\n",
    "    '''\n",
    "    Parameters:\n",
    "    A: Augmented matrix of the system of equations Ax = b\n",
    "    '''\n",
    "    N, M = A.shape\n",
    "    for idx in range(N - 1):\n",
    "        non_zero = np.nonzero(A[idx:, idx])\n",
    "        if not non_zero[0].size:\n",
    "            raise ValueError(\"No Unique Solution Exists...\")\n",
    "        ptr = non_zero[0][0] + idx\n",
    "        A[[idx, ptr]] = A[[ptr, idx]]\n",
    "            \n",
    "        for jdx in range(idx + 1, N):\n",
    "            m = A[jdx][idx] / A[idx][idx]\n",
    "            A[jdx] -= m * A[idx]\n",
    "            \n",
    "    if A[N - 1][N - 1] == 0:\n",
    "        raise ValueError(\"No Unique Solution Exists...\")\n",
    "    return backSub(A)\n",
    "\n",
    "def backwardElimination(A:np.ndarray):\n",
    "    '''\n",
    "    Parameters:\n",
    "    A: Augmented matrix of the system of equations Ax = b\n",
    "    '''\n",
    "    N, M = A.shape\n",
    "    for idx in range(N - 1, 0, -1):\n",
    "        non_zero = np.nonzero(A[:idx, idx])\n",
    "        if not non_zero[0].size:\n",
    "            raise ValueError(\"No Unique Solution Exists...\")\n",
    "        ptr = non_zero[0][::-1][0]\n",
    "        A[[idx, ptr]] = A[[ptr, idx]]\n",
    "            \n",
    "        for jdx in range(idx - 1, -1, -1):\n",
    "            m = A[jdx][idx] / A[idx][idx]\n",
    "            A[jdx] -= m * A[idx]\n",
    "            \n",
    "    if A[0][0] == 0:\n",
    "        raise ValueError(\"No Unique Solution Exists...\")\n",
    "    return forSub(A)\n",
    "\n",
    "A = np.array([\n",
    "   [1, -1, 2, -1, -8],\n",
    "   [2, -2, 3, -3, -20],\n",
    "   [1, 1, 1, 0, -2],\n",
    "   [1, -1, 4, 3, 4] \n",
    "], dtype=np.float32)\n",
    "print(forwardElimination(A))\n",
    "print(backwardElimination(A))\n",
    "\n"
   ]
  },
  {
   "cell_type": "code",
   "execution_count": null,
   "metadata": {},
   "outputs": [],
   "source": []
  }
 ],
 "metadata": {
  "kernelspec": {
   "display_name": "Python 3",
   "language": "python",
   "name": "python3"
  },
  "language_info": {
   "codemirror_mode": {
    "name": "ipython",
    "version": 3
   },
   "file_extension": ".py",
   "mimetype": "text/x-python",
   "name": "python",
   "nbconvert_exporter": "python",
   "pygments_lexer": "ipython3",
   "version": "3.9.7"
  }
 },
 "nbformat": 4,
 "nbformat_minor": 2
}
