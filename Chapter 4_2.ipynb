{
 "cells": [
  {
   "cell_type": "code",
   "execution_count": 1764,
   "metadata": {},
   "outputs": [],
   "source": [
    "import numpy as np\n",
    "from typing import Union, List, Callable, Any, Tuple\n",
    "import matplotlib.pyplot as plt"
   ]
  },
  {
   "cell_type": "markdown",
   "metadata": {},
   "source": [
    "# Chapter 4.3-4.9 Numerical Integration"
   ]
  },
  {
   "cell_type": "markdown",
   "metadata": {},
   "source": [
    "## Chapter 4.3 + 4.4 Composite Numerical Integration"
   ]
  },
  {
   "cell_type": "markdown",
   "metadata": {},
   "source": [
    "### Composite Trapezoidal Rule\n",
    "Let $f\\in C^2[a, b], h=\\frac{(b - a)}{n},$ and $x_j=a+jh,$ for each $j=0,1,\\cdots,n$. There exists a $\\mu\\in(a, b)$ for which the __Composite Trapezoidal Rule__ for $n$ subintervals can be written with its error term as\n",
    "$$\n",
    "\\int_a^bf(x)\\,dx=\\frac{h}{2}\\biggl[\n",
    "    f(a)+2\\sum_{j=1}^{n-1}f(x_j)+f(b)\n",
    "\\biggr]-\\frac{b-a}{12}h^2f''(\\mu)\n",
    "$$\n"
   ]
  },
  {
   "cell_type": "code",
   "execution_count": 1765,
   "metadata": {},
   "outputs": [],
   "source": [
    "def Trapezoidal(func:Callable[[Union[float, int, np.ndarray]], Union[float, int]],\n",
    "           a:Union[float, int],\n",
    "           b:Union[float, int],\n",
    "           h:Union[float, int]=None,\n",
    "           N:int=None, \n",
    "           visualize:bool=False) -> float:\n",
    "    if (h is None) and (N is None):\n",
    "        raise ValueError(\"h and N cannot be None at the same time\")\n",
    "    elif h is None:\n",
    "        h = (b - a) / N\n",
    "    elif N is None:\n",
    "        N = int((b - a) / h)\n",
    "    x = np.linspace(a, b, N + 1)\n",
    "    approx = h * (func(a) + func(b)) / 2\n",
    "    for idx in range(1, N):\n",
    "        approx += h * func(x[idx])\n",
    "    if visualize:\n",
    "        plt.figure(figsize=(16, 12))\n",
    "        x_ = np.linspace(a, b, 1000)\n",
    "        plt.fill_between(x_, func(x_), color='chartreuse')\n",
    "        plt.plot(x_, func(x_), 'r')\n",
    "        for idx in range(N):\n",
    "            xs = [x[idx], x[idx], x[idx + 1], x[idx + 1]]\n",
    "            ys = [0, func(x[idx]), func(x[idx + 1]), 0]\n",
    "            plt.fill(xs, ys, 'lightskyblue', edgecolor=\"black\")\n",
    "        plt.show()\n",
    "    return approx"
   ]
  },
  {
   "cell_type": "markdown",
   "metadata": {},
   "source": [
    "### Composite Midpoint Rule\n",
    "The following codes implement two version of __Midpoint Rule__\n",
    "\n",
    "i)Let $f\\in C^2[a, b],\\,\\,n$ be even, $h=\\frac{(b-a)}{n}$, and $x_j=a+jh$ for each $j=0,1\\cdots,n$. There exists a $\\mu\\in(a, b)$ for which the __Composite Midppoint Rule__ for $n$ subintervals can be written with its error term as \n",
    "$$\n",
    "\\int_{a}^bf(x)\\,dx=h\\sum_{j=1}^{n}f\\biggl(\\frac{x_{j-1}+x_j}{2}\\biggr)+\\frac{b-a}{24}h^2f''(\\mu)\n",
    "\n",
    "$$\n",
    "\n",
    "ii) Let $f\\in C^2[a, b],\\,\\,n$ be even, $h=\\frac{(b-a)}{n+2}$, and $x_j=a+(j+1)h$ for each $j=-1,0,\\cdots,n+1$. There exists a $\\mu\\in(a, b)$ for which the __Composite Midppoint Rule__ for $n+2$ subintervals can be written with its error term as \n",
    "$$\n",
    "\\int_{a}^bf(x)\\,dx=2h\\sum_{j=0}^{n/2}f(x_{2j})+\\frac{b-a}{6}h^2f''(\\mu)\n",
    "\n",
    "$$\n"
   ]
  },
  {
   "cell_type": "code",
   "execution_count": 1766,
   "metadata": {},
   "outputs": [],
   "source": [
    "# Version 1 which compactible with any n\n",
    "def Midpoint(func:Callable[[Union[float, int, np.ndarray]], Union[float, int]],\n",
    "           a:Union[float, int],\n",
    "           b:Union[float, int],\n",
    "           h:Union[float, int]=None,\n",
    "           N:int=None, \n",
    "           visualize:bool=False) -> float:\n",
    "    if (h is None) and (N is None):\n",
    "        raise ValueError(\"h and N cannot be None at the same time\")\n",
    "    elif h is None:\n",
    "        h = (b - a) / N\n",
    "    elif N is None:\n",
    "        N = int((b - a) / h)\n",
    "    step = h / 2\n",
    "    x = np.linspace(a, b, N + 1)\n",
    "    midpoints = x + step\n",
    "    approx = 0\n",
    "\n",
    "    for m in midpoints[:-1]:\n",
    "        approx += func(m) * h\n",
    "\n",
    "    if visualize:\n",
    "        plt.figure(figsize=(16, 12))\n",
    "        x_ = np.linspace(a, b, 1000)\n",
    "        plt.fill_between(x_, func(x_), color=\"chartreuse\")\n",
    "        plt.plot(x_, func(x_), 'r')\n",
    "        for m in midpoints[:-1]:\n",
    "            plt.bar(m, func(m), h, color='lightskyblue',  edgecolor=\"black\")\n",
    "            plt.plot([m, m], [0, func(m)], linestyle=\"--\", color=\"red\")\n",
    "        plt.xticks(midpoints)\n",
    "        plt.show()\n",
    "    return approx"
   ]
  },
  {
   "cell_type": "code",
   "execution_count": 1767,
   "metadata": {},
   "outputs": [],
   "source": [
    "# Version 2 which can only be used when n is even\n",
    "def Midpoint_(func:Callable[[Union[float, int, np.ndarray]], Union[float, int]],\n",
    "           a:Union[float, int],\n",
    "           b:Union[float, int],\n",
    "           h:Union[float, int]=None,\n",
    "           N:int=None, \n",
    "           visualize:bool=False) -> float:\n",
    "    if (h is None) and (N is None):\n",
    "        raise ValueError(\"h and N cannot be None at the same time\")\n",
    "    elif h is None:\n",
    "        h = (b - a) / (N + 2)\n",
    "    elif N is None:\n",
    "        N = int((b - a - 2 * h) / h)\n",
    "    x = np.linspace(a, b, N + 3)\n",
    "    midpoints = x\n",
    "    approx = 0\n",
    "    for m in midpoints[1:-1:2]:\n",
    "        approx += func(m) * 2 * h\n",
    "\n",
    "    if visualize:\n",
    "        plt.figure(figsize=(16, 12))\n",
    "        x_ = np.linspace(a, b, 1000)\n",
    "        plt.fill_between(x_, func(x_), color=\"chartreuse\")\n",
    "        plt.plot(x_, func(x_), 'r')\n",
    "        for m in midpoints[1:-1:2]:\n",
    "            plt.bar(m, func(m), 2 * h, color='lightskyblue',  edgecolor=\"black\")\n",
    "            plt.plot([m, m], [0, func(m)], linestyle=\"--\", color=\"red\")\n",
    "        plt.xticks(midpoints)\n",
    "        plt.show()\n",
    "    return approx"
   ]
  },
  {
   "cell_type": "code",
   "execution_count": 1768,
   "metadata": {},
   "outputs": [
    {
     "data": {
      "image/png": "[encoded data removed]",
      "text/plain": [
       "<Figure size 1152x864 with 1 Axes>"
      ]
     },
     "metadata": {
      "needs_background": "light"
     },
     "output_type": "display_data"
    },
    {
     "name": "stdout",
     "output_type": "stream",
     "text": [
      "Version 1 :  3.084202849079324\n"
     ]
    },
    {
     "data": {
      "image/png": "[encoded data removed]",
      "text/plain": [
       "<Figure size 1152x864 with 1 Axes>"
      ]
     },
     "metadata": {
      "needs_background": "light"
     },
     "output_type": "display_data"
    },
    {
     "name": "stdout",
     "output_type": "stream",
     "text": [
      "Version 2 :  3.009060031006947\n"
     ]
    }
   ],
   "source": [
    "f = lambda x: x ** 2 * np.log(x ** 2 + 1)\n",
    "print(\"Version 1 : \", Midpoint(f, 0, 2, h=0.25, visualize=True))\n",
    "print(\"Version 2 : \", Midpoint_(f, 0, 2, h=0.25, visualize=True))"
   ]
  },
  {
   "cell_type": "markdown",
   "metadata": {},
   "source": [
    "### Simpson's Rule\n",
    "Let $f\\in C^4[a, b]$, $n$ be even, $h=\\frac{(b-a)}{n}$, and $x_j=a+jh$, for each $j=0,1,\\cdots n.$ There exists a $\\mu\\in(a, b)$ for which the __Composite Simpson's Rule__ for $n$ subintervals can be written with its error term as\n",
    "$$\n",
    "\\int_{a}^bf(x)\\,dx=\\frac{h}{3}\\biggl[f(a)+2\\sum_{j=1}^{\\frac{n}{2}-1}f(x_{2j})+4\\sum_{j=1}^{\\frac{n}{2}}f(x_{2j-1})+f(b)\\biggr]-\\frac{b-a}{180}h^4f^{(4)}(\\mu)\n",
    "$$"
   ]
  },
  {
   "cell_type": "markdown",
   "metadata": {},
   "source": [
    "Remark: The following NewtonDiff function is just to interpolate the parabola used in the approximation of the definite integral by the _Simpson's Rule_"
   ]
  },
  {
   "cell_type": "code",
   "execution_count": 1769,
   "metadata": {},
   "outputs": [],
   "source": [
    "def NewtonDiff(func: Union[Callable[[Union[float, int]], float],\n",
    "                           np.ndarray[Union[float, int], Any],\n",
    "                           List[Union[int, float]]],\n",
    "            x_: Union[np.ndarray[Union[float, int], Any], List[Union[int, float]]],\n",
    "            return_Q: bool=False,\n",
    "            ) -> Union[Callable[[Union[float, int]], float],\n",
    "                       Tuple[Callable[[Union[float, int]], float], np.ndarray[Union[float, int], Any]]]:\n",
    "    \n",
    "    f_call = callable(func)\n",
    "    n = len(x_)\n",
    "    Q = np.zeros((n, n))\n",
    "    \n",
    "    for idx in range(n):\n",
    "        Q[idx][0] = func(x_[idx]) if f_call else func[idx]\n",
    "\n",
    "    for idx in range(1, n):\n",
    "        for jdx in range(1, idx + 1):\n",
    "            Q[idx][jdx] = (Q[idx][jdx - 1] -  Q[idx - 1][jdx - 1]) / (x_[idx] - x_[idx - jdx])\n",
    "\n",
    "    def interpolation(x: float) -> float:\n",
    "        appro = Q[0][0]\n",
    "        for idx in range(1, n):\n",
    "            prod = 1\n",
    "            for jdx in range(idx):\n",
    "                prod *= (x - x_[jdx])\n",
    "            appro += Q[idx][idx] * prod \n",
    "        return appro\n",
    "\n",
    "    return interpolation if not return_Q else (interpolation, Q)\n"
   ]
  },
  {
   "cell_type": "code",
   "execution_count": 1770,
   "metadata": {},
   "outputs": [],
   "source": [
    "def Simpson(func:Callable[[Union[float, int, np.ndarray]], Union[float, int]],\n",
    "           a:Union[float, int],\n",
    "           b:Union[float, int],\n",
    "           h:Union[float, int]=None,\n",
    "           N:int=None, \n",
    "           visualize:bool=False) -> float:\n",
    "    if (h is None) and (N is None):\n",
    "        raise ValueError(\"h and N cannot be None at the same time\")\n",
    "    elif h is None:\n",
    "        h = (b - a) / N\n",
    "    elif N is None:\n",
    "        N = int((b - a) / h)\n",
    "    x = np.linspace(a, b, N + 1)\n",
    "\n",
    "    approx = h * (func(a) + func(b)) / 3\n",
    "    approx += h * (4 * np.sum(func(x[1:-1:2])) + 2 * np.sum(func(x[2:-1:2]))) / 3\n",
    "    if visualize:\n",
    "        plt.figure(figsize=(16, 12))\n",
    "        x_ = np.linspace(a, b, 1000)\n",
    "        plt.fill_between(x_, func(x_), color='chartreuse')\n",
    "        plt.plot(x_, func(x_), 'r')\n",
    "        for idx in range(0, N, 2):\n",
    "            # Quadratic approximation points\n",
    "            x_quad = [x[idx], x[idx + 1], x[idx + 2]]\n",
    "            y_quad = [func(x[idx]), func(x[idx + 1]), func(x[idx + 2])]\n",
    "\n",
    "            # Plotting the parabola\n",
    "            quad_fit = np.polyfit(x_quad, y_quad, 2)\n",
    "            quad_func = np.poly1d(quad_fit)\n",
    "            x_parabola = np.linspace(x_quad[0], x_quad[2], 100)\n",
    "            y_parabola = quad_func(x_parabola)\n",
    "            plt.fill_between(x_parabola, y_parabola, color=\"lightyellow\", edgecolor=\"black\")\n",
    "\n",
    "            poly = NewtonDiff(y_quad, x_quad)\n",
    "            x_parabola = np.linspace(x_quad[0], x_quad[2], 100)\n",
    "            y_parabola = poly(x_parabola)\n",
    "            plt.fill_between(x_parabola, y_parabola, color=\"lightskyblue\", edgecolor=\"black\")\n",
    "\n",
    "        plt.show()\n",
    "    return approx"
   ]
  },
  {
   "cell_type": "code",
   "execution_count": 1771,
   "metadata": {},
   "outputs": [
    {
     "data": {
      "text/html": [
       "<div>\n",
       "<style scoped>\n",
       "    .dataframe tbody tr th:only-of-type {\n",
       "        vertical-align: middle;\n",
       "    }\n",
       "\n",
       "    .dataframe tbody tr th {\n",
       "        vertical-align: top;\n",
       "    }\n",
       "\n",
       "    .dataframe thead th {\n",
       "        text-align: right;\n",
       "    }\n",
       "</style>\n",
       "<table border=\"1\" class=\"dataframe\">\n",
       "  <thead>\n",
       "    <tr style=\"text-align: right;\">\n",
       "      <th></th>\n",
       "      <th>Trapezoidal</th>\n",
       "      <th>Simpson</th>\n",
       "      <th>Midpoint</th>\n",
       "    </tr>\n",
       "  </thead>\n",
       "  <tbody>\n",
       "    <tr>\n",
       "      <th>a</th>\n",
       "      <td>0.639900</td>\n",
       "      <td>0.636310</td>\n",
       "      <td>0.633096</td>\n",
       "    </tr>\n",
       "    <tr>\n",
       "      <th>b</th>\n",
       "      <td>31.365286</td>\n",
       "      <td>22.477125</td>\n",
       "      <td>11.156767</td>\n",
       "    </tr>\n",
       "    <tr>\n",
       "      <th>c</th>\n",
       "      <td>0.784241</td>\n",
       "      <td>0.785398</td>\n",
       "      <td>0.786700</td>\n",
       "    </tr>\n",
       "    <tr>\n",
       "      <th>e</th>\n",
       "      <td>-6.428722</td>\n",
       "      <td>-6.274868</td>\n",
       "      <td>-6.112736</td>\n",
       "    </tr>\n",
       "    <tr>\n",
       "      <th>d</th>\n",
       "      <td>-13.575979</td>\n",
       "      <td>-14.183342</td>\n",
       "      <td>-14.998477</td>\n",
       "    </tr>\n",
       "    <tr>\n",
       "      <th>f</th>\n",
       "      <td>0.476977</td>\n",
       "      <td>0.477755</td>\n",
       "      <td>0.478752</td>\n",
       "    </tr>\n",
       "    <tr>\n",
       "      <th>g</th>\n",
       "      <td>0.605498</td>\n",
       "      <td>0.604394</td>\n",
       "      <td>0.602961</td>\n",
       "    </tr>\n",
       "    <tr>\n",
       "      <th>h</th>\n",
       "      <td>0.970926</td>\n",
       "      <td>0.961055</td>\n",
       "      <td>0.947868</td>\n",
       "    </tr>\n",
       "  </tbody>\n",
       "</table>\n",
       "</div>"
      ],
      "text/plain": [
       "   Trapezoidal    Simpson   Midpoint\n",
       "a     0.639900   0.636310   0.633096\n",
       "b    31.365286  22.477125  11.156767\n",
       "c     0.784241   0.785398   0.786700\n",
       "e    -6.428722  -6.274868  -6.112736\n",
       "d   -13.575979 -14.183342 -14.998477\n",
       "f     0.476977   0.477755   0.478752\n",
       "g     0.605498   0.604394   0.602961\n",
       "h     0.970926   0.961055   0.947868"
      ]
     },
     "execution_count": 1771,
     "metadata": {},
     "output_type": "execute_result"
    }
   ],
   "source": [
    "# Exercise Set 4.4 Question 1\n",
    "import pandas as pd\n",
    "f = [\n",
    "    lambda x: x * np.log(x), lambda x: x ** 3 *  np.exp(x),\n",
    "    lambda x: 2 / (x ** 2 + 4), lambda x: x ** 2 * np.cos(x),\n",
    "    lambda x: np.exp(2 * x) * np.sin(3 * x), lambda x: x / (x ** 2 + 4),\n",
    "    lambda x: 1 / np.sqrt(x ** 2 - 4), lambda x: np.tan(x)\n",
    "]\n",
    "left = [1, -2, 0, 0, 0, 1, 3, 0]\n",
    "right = [2, 2, 2, np.pi, 2, 3, 5, 3 * np.pi / 8]\n",
    "N = [4, 4, 6, 6, 8, 8, 8, 8]\n",
    "simpson = []\n",
    "midpoint_2 = []\n",
    "trapezoidal = [] \n",
    "for idx in range(len(f)):\n",
    "    trapezoidal.append(Trapezoidal(f[idx], left[idx], right[idx], N=N[idx]))\n",
    "    simpson.append(Simpson(f[idx], left[idx], right[idx], N=N[idx]))\n",
    "    midpoint_2.append(Midpoint_(f[idx], left[idx], right[idx], N=N[idx]))\n",
    "pd.DataFrame(\n",
    "    {\n",
    "        \"Trapezoidal\":trapezoidal, \"Simpson\":simpson, \"Midpoint\":midpoint_2\n",
    "    },\n",
    "    index=list(\"abcedfgh\")\n",
    ")\n"
   ]
  },
  {
   "cell_type": "markdown",
   "metadata": {},
   "source": [
    "## Chapter 4.5 Romberg Integration\n",
    "By an alternative method it can be shown that if $f\\in C^{\\infty}[a, b]$, the __Composite Trapezoidal Rule__ can also be written with an error term in the form of\n",
    "$$\n",
    "\\int_{a}^{b}f(x)\\,dx=\\frac{h}{2}\\biggl[\n",
    "    f(a)+2\\sum_{j=1}^{n-1}f(x_j)+f(b)\n",
    "\\biggr]+K_1h^2+K_2h^4+K_3h^6+\\cdots\n",
    "$$\n",
    "where each $K_i$ is a constant depends only on $f^{(2i-1)}(a)$ and $f^{(2i-1)}(b)$\n",
    "This is an obvious candidate for extrapolation. This results in a technique known as __Romberg Integration__\n",
    "\n",
    "To obtain the __Romberg Integration__ for __Composite Trapezoidal Rule__, let $h_k=\\frac{(b-a)}{2^{k-1}}$\n",
    "$$\n",
    "R_{k, 1}=\\frac{1}{2}\\biggl[\n",
    "    R_{k-1, 1}+h_{k-1}\\sum_{i=1}^{2^{k-2}}f(a+(2i-1)h_k)\n",
    "\\biggr]\n",
    "$$\n",
    "for each $k=2,3,\\cdots,n$\n",
    "$$\n",
    "R_{k, j}=R_{k, j-1}+\\frac{R_{k, j-1}-R_{k-1, j-1}}{4^{j-1}-1}\n",
    "$$\n",
    "for $k=j,j+1,\\cdots$\n",
    "\n",
    "The following codes implement the algorithm in two different way:\n",
    "\n",
    "i)Version 1: Plain version without optimize the storage\n",
    "\n",
    "ii)Version 2: Modified version with storage optimization with using just two rows"
   ]
  },
  {
   "cell_type": "code",
   "execution_count": 1772,
   "metadata": {},
   "outputs": [],
   "source": [
    "# Version 1\n",
    "def Romberg(func:Callable[[Union[float, int, np.ndarray]], Union[float, int]],\n",
    "           a:Union[float, int],\n",
    "           b:Union[float, int],\n",
    "           N:int=None) -> np.ndarray[Union[float, int], Any]:\n",
    "    R = np.zeros((N, N))\n",
    "    h = b - a\n",
    "    R[0][0] = h * (func(a) + func(b)) / 2\n",
    "\n",
    "    for idx in range(1, N):\n",
    "        R[idx, 0] = R[idx - 1, 0]\n",
    "        for jdx in range(1, int(2 ** (idx - 1)) + 1):\n",
    "            R[idx, 0] += h * func(a + (jdx - 0.5) * h)\n",
    "        R[idx, 0] /= 2\n",
    "        h /= 2\n",
    "    for idx in range(1, N):\n",
    "        for jdx in range(idx, N):\n",
    "            R[jdx, idx] = R[jdx, idx - 1] + (R[jdx, idx - 1] - R[jdx - 1, idx - 1]) / (4 ** idx - 1)\n",
    "    return R"
   ]
  },
  {
   "cell_type": "code",
   "execution_count": 1773,
   "metadata": {},
   "outputs": [],
   "source": [
    "# Version 2\n",
    "def Romberg_(func:Callable[[Union[float, int, np.ndarray]], Union[float, int]],\n",
    "           a:Union[float, int],\n",
    "           b:Union[float, int],\n",
    "           N:int=None) -> np.ndarray[Union[float, int], Any]:\n",
    "    R = np.zeros((2, N))\n",
    "    h = b - a\n",
    "    R[0][0] = h * (func(a) + func(b)) / 2\n",
    "\n",
    "    for idx in range(1, N):\n",
    "        R[1, 0] = R[0, 0]\n",
    "        for jdx in range(1, int(2 ** (idx - 1)) + 1):\n",
    "            R[1, 0] += h * func(a + (jdx - 0.5) * h)\n",
    "        R[1, 0] /= 2\n",
    "        h /= 2\n",
    "        for jdx in range(1, idx + 1):\n",
    "            R[1, jdx] = R[1, jdx - 1] + (R[1, jdx - 1] - R[0, jdx - 1]) / (4 ** jdx - 1)\n",
    "        R[0] = R[1]\n",
    "    return R[-1, :]"
   ]
  },
  {
   "cell_type": "code",
   "execution_count": 1774,
   "metadata": {},
   "outputs": [
    {
     "name": "stdout",
     "output_type": "stream",
     "text": [
      "[[1.92367069e-16 0.00000000e+00 0.00000000e+00 0.00000000e+00\n",
      "  0.00000000e+00 0.00000000e+00]\n",
      " [1.57079633e+00 2.09439510e+00 0.00000000e+00 0.00000000e+00\n",
      "  0.00000000e+00 0.00000000e+00]\n",
      " [1.89611890e+00 2.00455975e+00 1.99857073e+00 0.00000000e+00\n",
      "  0.00000000e+00 0.00000000e+00]\n",
      " [1.97423160e+00 2.00026917e+00 1.99998313e+00 2.00000555e+00\n",
      "  0.00000000e+00 0.00000000e+00]\n",
      " [1.99357034e+00 2.00001659e+00 1.99999975e+00 2.00000002e+00\n",
      "  1.99999999e+00 0.00000000e+00]\n",
      " [1.99839336e+00 2.00000103e+00 2.00000000e+00 2.00000000e+00\n",
      "  2.00000000e+00 2.00000000e+00]]\n",
      "[1.99839336 2.00000103 2.         2.         2.         2.        ]\n"
     ]
    }
   ],
   "source": [
    "f = lambda x: np.sin(x)\n",
    "print(Romberg(f, 0, np.pi, 6))\n",
    "print(Romberg_(f, 0, np.pi, 6))"
   ]
  }
 ],
 "metadata": {
  "kernelspec": {
   "display_name": "Python 3",
   "language": "python",
   "name": "python3"
  },
  "language_info": {
   "codemirror_mode": {
    "name": "ipython",
    "version": 3
   },
   "file_extension": ".py",
   "mimetype": "text/x-python",
   "name": "python",
   "nbconvert_exporter": "python",
   "pygments_lexer": "ipython3",
   "version": "3.9.7"
  }
 },
 "nbformat": 4,
 "nbformat_minor": 2
}
