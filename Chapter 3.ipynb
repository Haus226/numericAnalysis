{
 "cells": [
  {
   "cell_type": "code",
   "execution_count": 1,
   "metadata": {},
   "outputs": [],
   "source": [
    "import numpy as np\n",
    "import numpy.typing as npt\n",
    "from typing import Union, List, Callable, Any, Tuple, Literal"
   ]
  },
  {
   "cell_type": "markdown",
   "metadata": {},
   "source": [
    "# Interpolation and Polynomial Approximation"
   ]
  },
  {
   "cell_type": "markdown",
   "metadata": {},
   "source": [
    "## Lagrange Interpolation\n",
    "If $x_0,x_1,\\cdots,x_n$ are $n+1$ distinct numbers and $f$ is a function whose values are given at these numbers, then a unique polynomial $P(x)$ of degree at most $n$ exists with\n",
    "$$f(x_k)=P(x_k),\\,\\,\\,\\text{for each }k=0,1,\\cdots,n$$\n",
    "This polynomial is given by\n",
    "$$P(x)=f(x_0)L_{n, 0}(x)+\\cdots+f(x_n)L_{n, n}(x)=\\sum^n_{k=0}f(x_k)L_{n, k}(x)$$\n",
    "where for each $k=0,1,\\cdots,n$\n",
    "$$L_{n, k}(x)=\\frac{(x-x_0)(x-x_1)\\cdots(x-x_{k-1})(x-x_{k+1})\\cdots(x-x_n)}{(x_k-x_0)(x_k-x_1)\\cdots(x_k-x_{k-1})(x_k-x_{k+1})\\cdots(x_k-x_n)}=\\prod^n_{\\substack{i=0\\\\i\\neq k}}\\frac{(x-x_i)}{(x_k-x_i)}$$"
   ]
  },
  {
   "cell_type": "code",
   "execution_count": 2,
   "metadata": {},
   "outputs": [],
   "source": [
    "def LagrangeInterpolation(func: Union[Callable[[Union[float, int]], float],\n",
    "                                      np.ndarray[Union[float, int], Any],\n",
    "                                      List[Union[int, float]]],\n",
    "                          x_: Union[np.ndarray[Union[float, int], Any], List[Union[int, float]]],\n",
    "                          x: Union[float, int]\n",
    "                          ) -> float:\n",
    "    appro = 0\n",
    "    for i, x_i in enumerate(x_):\n",
    "        l_i = 1\n",
    "        for k, x_k in enumerate(x_):\n",
    "            if k != i:\n",
    "                l_i *= (x - x_k) / (x_i - x_k)\n",
    "        appro += func(x_i) * l_i if callable(func) else func[i] * l_i\n",
    "    return appro"
   ]
  },
  {
   "cell_type": "markdown",
   "metadata": {},
   "source": [
    "## Neville's Method\n",
    "$$ Q_{i, j}=\\frac{(x-x_{i-j})Q_{i, j-1}-(x-x_i)Q_{i-1, j-1}}{x_i-x_{i-j}}$$\n",
    "where $P(x)=Q_{n, n}$"
   ]
  },
  {
   "cell_type": "code",
   "execution_count": 3,
   "metadata": {},
   "outputs": [],
   "source": [
    "def Neville(func: Union[Callable[[Union[float, int]], float],\n",
    "                        np.ndarray[Union[float, int], Any],\n",
    "                        List[Union[int, float]]],\n",
    "            x_: Union[np.ndarray[Union[float, int], Any], List[Union[int, float]]],\n",
    "            x: Union[float, int]\n",
    "            ) -> float:\n",
    "    n = len(x_)\n",
    "    Q = np.zeros((n, n))\n",
    "    for idx in range(n):\n",
    "        Q[idx][0] = func(x_[idx]) if callable(func) else func[idx]\n",
    "    for idx in range(1, n):\n",
    "        for jdx in range(1, idx + 1):\n",
    "            numerator = (x - x_[idx - jdx]) * Q[idx][jdx - 1] - (x - x_[idx]) * Q[idx - 1][jdx - 1]\n",
    "            denominator = x_[idx] - x_[idx - jdx]\n",
    "            Q[idx][jdx] = numerator / denominator\n",
    "    return Q[-1, -1]"
   ]
  },
  {
   "cell_type": "markdown",
   "metadata": {},
   "source": [
    "## Newton's Dividend-Difference Formula\n",
    "$$P_n(x)=F_{0, 0}+\\sum^n_{i=1}F_{i, i}\\prod_{j=0}^{i-1}(x-x_j)$$\n",
    "where $,\\forall i=0,1\\cdots,n$\n",
    "$$F_{i, 0}=f(x_i)$$\n",
    "$$F_{i, j}=\\frac{F_{i, j-1}-F_{i-1, j-1}}{x_i-x_{i-j}}$$"
   ]
  },
  {
   "cell_type": "code",
   "execution_count": 4,
   "metadata": {},
   "outputs": [],
   "source": [
    "def NewtonDiff(func: Union[Callable[[Union[float, int]], float],\n",
    "                           np.ndarray[Union[float, int], Any],\n",
    "                           List[Union[int, float]]],\n",
    "            x_: Union[np.ndarray[Union[float, int], Any], List[Union[int, float]]],\n",
    "            return_Q: bool=False,\n",
    "            ) -> Union[Callable[[Union[float, int]], float],\n",
    "                       Tuple[Callable[[Union[float, int]], float], np.ndarray[Union[float, int], Any]]]:\n",
    "    \n",
    "    f_call = callable(func)\n",
    "    n = len(x_)\n",
    "    Q = np.zeros((n, n))\n",
    "    \n",
    "    for idx in range(n):\n",
    "        Q[idx][0] = func(x_[idx]) if f_call else func[idx]\n",
    "\n",
    "    for idx in range(1, n):\n",
    "        for jdx in range(1, idx + 1):\n",
    "            Q[idx][jdx] = (Q[idx][jdx - 1] -  Q[idx - 1][jdx - 1]) / (x_[idx] - x_[idx - jdx])\n",
    "\n",
    "    def interpolation(x: float) -> float:\n",
    "        appro = Q[0][0]\n",
    "        for idx in range(1, n):\n",
    "            prod = 1\n",
    "            for jdx in range(idx):\n",
    "                prod *= (x - x_[jdx])\n",
    "            appro += Q[idx][idx] * prod \n",
    "        return appro\n",
    "\n",
    "    return interpolation if not return_Q else (interpolation, Q)\n"
   ]
  },
  {
   "cell_type": "code",
   "execution_count": 5,
   "metadata": {},
   "outputs": [
    {
     "data": {
      "text/plain": [
       "0.5118199942386833"
      ]
     },
     "execution_count": 5,
     "metadata": {},
     "output_type": "execute_result"
    }
   ],
   "source": [
    "X = [1.0, 1.3, 1.6, 1.9, 2.2]\n",
    "F = [0.7651977, 0.6200860, 0.4554022, 0.2818186, 0.1103623]\n",
    "x = 1.5\n",
    "poly = NewtonDiff(F, X)\n",
    "poly(x)"
   ]
  },
  {
   "cell_type": "markdown",
   "metadata": {},
   "source": [
    "## Hermite Interpolation"
   ]
  },
  {
   "cell_type": "code",
   "execution_count": 6,
   "metadata": {},
   "outputs": [],
   "source": [
    "def Hermite(func: Union[Callable[[Union[float, int]], float],\n",
    "                        np.ndarray[Union[float, int], Any],\n",
    "                        List[Union[int, float]]],\n",
    "            dfunc: Union[Callable[[Union[float, int]], float],\n",
    "                        np.ndarray[Union[float, int], Any],\n",
    "                        List[Union[int, float]]],\n",
    "            x_: Union[np.ndarray[Union[float, int], Any], List[Union[int, float]]],\n",
    "            return_Q: bool=False\n",
    "            ) -> Union[Callable[[Union[float, int]], float],\n",
    "                       Tuple[Callable[[Union[float, int]], float], np.ndarray[Union[float, int], Any]]]:\n",
    "    f_call = callable(func)\n",
    "    df_call = callable(dfunc)\n",
    "    n = len(x_)\n",
    "    \n",
    "    z = np.zeros(2 * n)\n",
    "    Q = np.zeros((2 * n, 2 * n))\n",
    "\n",
    "    for idx in range(n):\n",
    "        z[2 * idx] = x_[idx]\n",
    "        z[2 * idx + 1] = x_[idx]\n",
    "        Q[2 * idx, 0] = func(x_[idx]) if f_call else func[idx]\n",
    "        Q[2 * idx + 1, 0] = func(x_[idx]) if f_call else func[idx]\n",
    "        Q[2 * idx + 1, 1] = dfunc(x_[idx]) if df_call else dfunc[idx]\n",
    "        if idx:\n",
    "            Q[2 * idx, 1] = (Q[2 * idx, 0] - Q[2 * idx - 1, 0]) / (z[2 * idx] - z[2 * idx - 1])\n",
    "    for idx in range(2, 2 * n):\n",
    "        for jdx in range(2, idx + 1):\n",
    "            Q[idx][jdx] = (Q[idx][jdx - 1] -  Q[idx - 1][jdx - 1]) / (z[idx] - z[idx - jdx])\n",
    "            \n",
    "    def interpolation(x:float) -> float:\n",
    "        appro = Q[0][0]\n",
    "        for idx in range(1, 2 * n):\n",
    "            prod = 1\n",
    "            for jdx in range(idx):\n",
    "                prod *= (x - z[jdx])\n",
    "            appro += Q[idx][idx] * prod\n",
    "        return appro\n",
    "\n",
    "    return interpolation if not return_Q else (interpolation, Q)"
   ]
  },
  {
   "cell_type": "code",
   "execution_count": 7,
   "metadata": {},
   "outputs": [
    {
     "data": {
      "text/plain": [
       "0.10933658972789766"
      ]
     },
     "execution_count": 7,
     "metadata": {},
     "output_type": "execute_result"
    }
   ],
   "source": [
    "X = [0.1, 0.2, 0.3, 0.4]\n",
    "F = [-0.62049958, -0.28398668, 0.00660095, 0.24842440]\n",
    "dF = [3.58502082, 3.14033271, 2.66668043, 2.16529366]\n",
    "x = 0.34\n",
    "poly = Hermite(F, dF, X)\n",
    "poly(x)"
   ]
  },
  {
   "cell_type": "code",
   "execution_count": 8,
   "metadata": {},
   "outputs": [
    {
     "data": {
      "text/plain": [
       "0.5118277017283951"
      ]
     },
     "execution_count": 8,
     "metadata": {},
     "output_type": "execute_result"
    }
   ],
   "source": [
    "X = [1.3, 1.6, 1.9]\n",
    "F = [0.6200860, 0.4554022, 0.2818186]\n",
    "dF = [-0.5220232, -0.5698959, -0.5811571]\n",
    "x = 1.5\n",
    "poly = Hermite(F, dF, X)\n",
    "poly(x)"
   ]
  },
  {
   "cell_type": "markdown",
   "metadata": {},
   "source": [
    "## Natural Cubic Spline\n",
    "Construct the cubic spline interpolant $S$ for the function $f$, defined at the numbers $x_0<x_1<\\cdots<x_n$, satisfying $S''(x_0)=S''(x_n)=0$\n",
    "where\n",
    "$$ S(x)=S_j(x)=a_j+b_j(x-x_j)+c_j(x-x_j)^2+d_j(x-x_j)^3,x_j\\leq x\\leq x_{j+1}$$"
   ]
  },
  {
   "cell_type": "code",
   "execution_count": 9,
   "metadata": {},
   "outputs": [],
   "source": [
    "def NaturalCubic(func: Union[Callable[[Union[float, int]], float],\n",
    "                        np.ndarray[Union[float, int], Any],\n",
    "                        List[Union[int, float]]],\n",
    "                 x_: Union[np.ndarray[Union[float, int], Any], List[Union[int, float]]],\n",
    "            ) -> np.ndarray[Union[float, int], Any]:\n",
    "    '''\n",
    "    Returns:\n",
    "    - Numpy array with shape (len(x_) - 1, 4) where each row represents the coefficients (a, b, c, d)\n",
    "      of a cubic spline segment, from the first to the last segment.\n",
    "    '''\n",
    "    n = len(x_)\n",
    "    coef = np.zeros((4, n))\n",
    "    f_call = callable(func)\n",
    "\n",
    "    for idx in range(n):\n",
    "        coef[0][idx] = func(x_[idx]) if f_call else func[idx]\n",
    "\n",
    "    h = np.diff(x_)\n",
    "    alpha = np.zeros((n))\n",
    "    for idx in range(1, n - 1):\n",
    "        diff = func(x_[idx + 1]) - func(x_[idx]) if f_call else func[idx + 1] - func[idx]\n",
    "        diff_ = func(x_[idx]) - func(x_[idx - 1]) if f_call else func[idx] - func[idx - 1]\n",
    "        alpha[idx] = (3 * diff / h[idx]) - (3 * diff_ / h[idx - 1])\n",
    "\n",
    "    l = np.ones((n, ))\n",
    "    mu = np.zeros((n, ))\n",
    "    z = np.zeros((n, ))\n",
    "\n",
    "    for idx in range(1, n - 1):\n",
    "        l[idx] = 2 * (x_[idx + 1] - x_[idx - 1]) - h[idx - 1] * mu[idx - 1]\n",
    "        mu[idx] = h[idx] / l[idx]\n",
    "        z[idx] = (alpha[idx] - h[idx - 1] * z[idx - 1]) / l[idx]\n",
    "    for jdx in range(n - 2, -1, -1):\n",
    "        coef[2][jdx] = z[jdx] - mu[jdx] * coef[2][jdx + 1]\n",
    "        coef[1][jdx] = (coef[0][jdx + 1] - coef[0][jdx]) / h[jdx] - h[jdx] * (coef[2][jdx + 1] + 2 * coef[2][jdx]) / 3\n",
    "        coef[3][jdx] = (coef[2][jdx + 1] - coef[2][jdx]) / (3 * h[jdx])\n",
    "    return coef[:, :n - 1].T"
   ]
  },
  {
   "cell_type": "code",
   "execution_count": 10,
   "metadata": {},
   "outputs": [
    {
     "data": {
      "text/plain": [
       "array([[ 1.        ,  1.46599761,  0.        ,  0.25228421],\n",
       "       [ 2.71828183,  2.22285026,  0.75685264,  1.69107137],\n",
       "       [ 7.3890561 ,  8.80976965,  5.83006675, -1.94335558]])"
      ]
     },
     "execution_count": 10,
     "metadata": {},
     "output_type": "execute_result"
    }
   ],
   "source": [
    "import math\n",
    "F = [1, math.exp(1), math.exp(2), math.exp(3)]\n",
    "X = [0, 1, 2, 3]\n",
    "NaturalCubic(F, X)"
   ]
  },
  {
   "cell_type": "markdown",
   "metadata": {},
   "source": [
    "## Clamped Cubic Spline\n",
    "To construct the cubic spline interpolant $S$ for the function $f$ defined at the numbers $x_0<x_1<\\cdots<x_n$, satisfying $S'(x_0)=f'(x_0)$ and $S'(x_n)=f'(x_n)$\n",
    "where\n",
    "$$ S(x)=S_j(x)=a_j+b_j(x-x_j)+c_j(x-x_j)^2+d_j(x-x_j)^3,x_j\\leq x\\leq x_{j+1}$$"
   ]
  },
  {
   "cell_type": "code",
   "execution_count": 11,
   "metadata": {},
   "outputs": [],
   "source": [
    "def ClampedCubic(func: Union[Callable[[Union[float, int]], float],\n",
    "                        np.ndarray[Union[float, int], Any],\n",
    "                        List[Union[int, float]]],\n",
    "                 dfunc: Union[Callable[[Union[float, int]], float],\n",
    "                        np.ndarray[Union[float, int], Any],\n",
    "                        List[Union[int, float]]],\n",
    "                 x_: Union[np.ndarray[Union[float, int], Any], List[Union[int, float]]],\n",
    "            ) -> np.ndarray[Union[float, int], Any]:\n",
    "    '''\n",
    "    Returns:\n",
    "    - Numpy array with shape (len(x_) - 1, 4) where each row represents the coefficients (a, b, c, d)\n",
    "      of a cubic spline segment, from the first to the last segment.\n",
    "    '''\n",
    "    n = len(x_)\n",
    "    coef = np.zeros((4, n))\n",
    "    f_call = callable(func)\n",
    "    df_call = callable(func)\n",
    "\n",
    "    df = dfunc(x_[0]) if df_call else dfunc[0]\n",
    "    df_ = dfunc(x_[n - 1]) if df_call else dfunc[1]\n",
    "\n",
    "    for idx in range(n):\n",
    "        coef[0][idx] = func(x_[idx]) if f_call else func[idx]\n",
    "\n",
    "    h = np.diff(x_)\n",
    "    alpha = np.zeros((n))\n",
    "    alpha[0] = 3 * (coef[0][1] - coef[0][0]) / h[0] - 3 * df\n",
    "    alpha[n - 1] = 3 * (df_ - (coef[0][n - 1] - coef[0][n - 2]) / h[n - 2])\n",
    "\n",
    "    for idx in range(1, n - 1):\n",
    "        diff = func(x_[idx + 1]) - func(x_[idx]) if f_call else func[idx + 1] - func[idx]\n",
    "        diff_ = func(x_[idx]) - func(x_[idx - 1]) if f_call else func[idx] - func[idx - 1]\n",
    "        alpha[idx] = (3 * diff / h[idx]) - (3 * diff_ / h[idx - 1])\n",
    "\n",
    "    l = np.zeros((n, ))\n",
    "    mu = np.zeros((n, ))\n",
    "    z = np.zeros((n, ))\n",
    "    l[0] = 2 * h[0]\n",
    "    mu[0] = 0.5\n",
    "    z[0] = alpha[0] / l[0]\n",
    "\n",
    "    for idx in range(1, n - 1):\n",
    "        l[idx] = 2 * (x_[idx + 1] - x_[idx - 1]) - h[idx - 1] * mu[idx - 1]\n",
    "        mu[idx] = h[idx] / l[idx]\n",
    "        z[idx] = (alpha[idx] - h[idx - 1] * z[idx - 1]) / l[idx]\n",
    "\n",
    "    l[n - 1] = h[n - 2] * (2 - mu[n - 2])\n",
    "    z[n - 1] = (alpha[n - 1] - h[n - 2] * z[n - 2]) / l[n - 1]\n",
    "    coef[2][n - 1] = z[n - 1]\n",
    "\n",
    "    for jdx in range(n - 2, -1, -1):\n",
    "        coef[2][jdx] = z[jdx] - mu[jdx] * coef[2][jdx + 1]\n",
    "        coef[1][jdx] = (coef[0][jdx + 1] - coef[0][jdx]) / h[jdx] - h[jdx] * (coef[2][jdx + 1] + 2 * coef[2][jdx]) / 3\n",
    "        coef[3][jdx] = (coef[2][jdx + 1] - coef[2][jdx]) / (3 * h[jdx])\n",
    "\n",
    "    return coef[:, :n - 1].T"
   ]
  },
  {
   "cell_type": "code",
   "execution_count": 12,
   "metadata": {},
   "outputs": [
    {
     "data": {
      "text/plain": [
       "array([[1.        , 1.        , 0.4446825 , 0.27359933],\n",
       "       [2.71828183, 2.71016299, 1.26548049, 0.69513079],\n",
       "       [7.3890561 , 7.32651634, 3.35087286, 2.01909162]])"
      ]
     },
     "execution_count": 12,
     "metadata": {},
     "output_type": "execute_result"
    }
   ],
   "source": [
    "import math\n",
    "F = [1, math.exp(1), math.exp(2), math.exp(3)]\n",
    "dF = [1, math.exp(3)]\n",
    "X = [0, 1, 2, 3]\n",
    "ClampedCubic(F, dF, X)"
   ]
  },
  {
   "cell_type": "markdown",
   "metadata": {},
   "source": [
    "#"
   ]
  }
 ],
 "metadata": {
  "kernelspec": {
   "display_name": "Python 3",
   "language": "python",
   "name": "python3"
  },
  "language_info": {
   "codemirror_mode": {
    "name": "ipython",
    "version": 3
   },
   "file_extension": ".py",
   "mimetype": "text/x-python",
   "name": "python",
   "nbconvert_exporter": "python",
   "pygments_lexer": "ipython3",
   "version": "3.9.7"
  }
 },
 "nbformat": 4,
 "nbformat_minor": 2
}
