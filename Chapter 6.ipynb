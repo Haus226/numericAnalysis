{
 "cells": [
  {
   "cell_type": "code",
   "execution_count": 270,
   "metadata": {},
   "outputs": [],
   "source": [
    "import numpy as np\n",
    "from typing import Tuple, Union"
   ]
  },
  {
   "cell_type": "markdown",
   "metadata": {},
   "source": [
    "# Direct Method for Solving Linear Systems"
   ]
  },
  {
   "cell_type": "markdown",
   "metadata": {},
   "source": [
    "## Chapter 6.1 Linear Systems of Equations"
   ]
  },
  {
   "cell_type": "markdown",
   "metadata": {},
   "source": [
    "### Backward and Forward Substituition \n",
    "Given an augmented upper triangular matrix $U$ with the shape $n\\times (n + 1)$, we can compute the solutions for the systems by formula below:\n",
    "$$x_n = \\frac{u_{n, n+1}}{u_{n, n}}$$\n",
    "$$x_i=\\frac{1}{u_{i, i}}\\biggl(u_{i, n+1}-\\sum^{n}_{j=i+1}u_{i, j}x_{j}\\biggr)$$\n",
    "where $i=1,2,\\cdots,n-1$\n",
    "\n",
    "Given an augmented lower triangular matrix $L$ with the shape $n\\times (n + 1)$, we can compute the solutions for the systems by formula below:\n",
    "$$x_1 = \\frac{l_{1, n+1}}{l_{1, 1}}$$\n",
    "$$x_i=\\frac{1}{l_{i, i}}\\biggl(l_{i, n+1}-\\sum^{i - 1}_{j=1}l_{i, j}x_{j}\\biggr)$$\n"
   ]
  },
  {
   "cell_type": "code",
   "execution_count": 271,
   "metadata": {},
   "outputs": [],
   "source": [
    "def backSub(U:np.ndarray) -> np.ndarray:\n",
    "    N, M = U.shape\n",
    "    x = np.zeros((N, 1), dtype=np.float64)\n",
    "    x[N - 1][0] = U[N - 1][M - 1] / U[N - 1][N - 1]    \n",
    "    for jdx in range(N - 2, -1, -1):\n",
    "        x[jdx] = (U[jdx][M - 1] - np.sum(U[jdx, jdx + 1:N] @ x[jdx + 1:])) / U[jdx][jdx]\n",
    "    return x\n",
    "\n",
    "def forSub(L:np.ndarray) -> np.ndarray:\n",
    "    N, M = L.shape\n",
    "    x = np.zeros((N, 1), dtype=np.float64)\n",
    "    x[0][0] = L[0][M - 1] / L[0][0]   \n",
    "    for jdx in range(1, N):\n",
    "        x[jdx] = (L[jdx][M - 1] - np.sum(L[jdx, :jdx] @ x[:jdx])) / L[jdx][jdx]\n",
    "    return x"
   ]
  },
  {
   "cell_type": "code",
   "execution_count": 272,
   "metadata": {},
   "outputs": [],
   "source": [
    "def forwardElimination(A:np.ndarray, return_A:bool=False) -> Union[Tuple[np.ndarray, np.ndarray], np.ndarray]:\n",
    "    '''\n",
    "    Parameters:\n",
    "    A: Augmented matrix of the system of equations Ax = b\n",
    "    '''\n",
    "    N, M = A.shape\n",
    "    A_ = np.copy(A).astype(float)\n",
    "    for idx in range(N - 1):\n",
    "        non_zero = np.nonzero(A_[idx:, idx])\n",
    "        if not non_zero[0].size:\n",
    "            raise ValueError(\"No Unique Solution Exists...\")\n",
    "        ptr = non_zero[0][0] + idx\n",
    "        A_[[idx, ptr]] = A_[[ptr, idx]]\n",
    "            \n",
    "        for jdx in range(idx + 1, N):\n",
    "            m = A_[jdx][idx] / A_[idx][idx]\n",
    "            A_[jdx] -= m * A_[idx]\n",
    "            \n",
    "    if A_[N - 1][N - 1] == 0:\n",
    "        raise ValueError(\"No Unique Solution Exists...\")\n",
    "    return backSub(A_) if not return_A else (A_, backSub(A_))\n",
    "\n",
    "def backwardElimination(A:np.ndarray, return_A:bool=False) -> Union[Tuple[np.ndarray, np.ndarray], np.ndarray]:\n",
    "    '''\n",
    "    Parameters:\n",
    "    A: Augmented matrix of the system of equations Ax = b\n",
    "    '''\n",
    "    N, M = A.shape\n",
    "    A_ = np.copy(A).astype(float)\n",
    "    for idx in range(N - 1, 0, -1):\n",
    "        non_zero = np.nonzero(A_[:idx, idx])\n",
    "        if not non_zero[0].size:\n",
    "            raise ValueError(\"No Unique Solution Exists...\")\n",
    "        ptr = non_zero[0][::-1][0]\n",
    "        A_[[idx, ptr]] = A_[[ptr, idx]]\n",
    "            \n",
    "        for jdx in range(idx - 1, -1, -1):\n",
    "            m = A_[jdx][idx] / A_[idx][idx]\n",
    "            A_[jdx] -= m * A_[idx]\n",
    "            \n",
    "    if A_[0][0] == 0:\n",
    "        raise ValueError(\"No Unique Solution Exists...\")\n",
    "    return forSub(A_) if not return_A else (A_, forSub(A_))\n"
   ]
  },
  {
   "cell_type": "code",
   "execution_count": 273,
   "metadata": {},
   "outputs": [
    {
     "data": {
      "text/plain": [
       "(array([[-7.],\n",
       "        [ 3.],\n",
       "        [ 2.],\n",
       "        [ 2.]]),\n",
       " array([[-7.],\n",
       "        [ 3.],\n",
       "        [ 2.],\n",
       "        [ 2.]]),\n",
       " array([-7.,  3.,  2.,  2.], dtype=float32))"
      ]
     },
     "execution_count": 273,
     "metadata": {},
     "output_type": "execute_result"
    }
   ],
   "source": [
    "A = np.array([\n",
    "   [1, -1, 2, -1, -8],\n",
    "   [2, -2, 3, -3, -20],\n",
    "   [1, 1, 1, 0, -2],\n",
    "   [1, -1, 4, 3, 4] \n",
    "], dtype=np.float32)\n",
    "\n",
    "forwardElimination(A), backwardElimination(A), np.linalg.solve(A[:, :4], A[:, -1])"
   ]
  },
  {
   "cell_type": "code",
   "execution_count": 274,
   "metadata": {},
   "outputs": [
    {
     "name": "stdout",
     "output_type": "stream",
     "text": [
      "[[ 35  25 -39  45 -39 -17 -30]\n",
      " [ 22   8 -50 -45 -11 -33  -2]\n",
      " [ 37  34 -19 -41 -41  28 -28]\n",
      " [ -7 -34  14 -49   1 -15 -35]\n",
      " [ -7 -35 -41  -4  40 -26   2]\n",
      " [ -7  32 -20 -19 -13 -15  21]]\n"
     ]
    },
    {
     "data": {
      "text/plain": [
       "(array([[ 0.75881105],\n",
       "        [ 1.71771872],\n",
       "        [ 0.79044198],\n",
       "        [-0.08654563],\n",
       "        [ 1.99271711],\n",
       "        [-0.76096489]]),\n",
       " array([[ 0.75881105],\n",
       "        [ 1.71771872],\n",
       "        [ 0.79044198],\n",
       "        [-0.08654563],\n",
       "        [ 1.99271711],\n",
       "        [-0.76096489]]),\n",
       " array([ 0.75881105,  1.71771872,  0.79044198, -0.08654563,  1.99271711,\n",
       "        -0.76096489]))"
      ]
     },
     "execution_count": 274,
     "metadata": {},
     "output_type": "execute_result"
    }
   ],
   "source": [
    "A = np.random.randint(-50, 50, 42).reshape(6, 7)\n",
    "print(A)\n",
    "forwardElimination(A), backwardElimination(A), np.linalg.solve(A[:, :6], A[:, -1])"
   ]
  },
  {
   "cell_type": "markdown",
   "metadata": {},
   "source": [
    "## Chapter 6.4 The Determinant of a Matrix\n",
    "> If B is a matrix obtained by multiplying a row of A by some non-zero constant ß, then\n",
    "> - det(B) = ß * det(A)\n",
    "> \n",
    "> In other words, you can essentially 'factor out' a constant from a row by just pulling it out front of the determinant.\n",
    "> If B is a matrix obtained by swapping two rows of A, then\n",
    "> \n",
    "> - det(B) = -det(A)\n",
    "> \n",
    "> If you swap rows, flip the sign.\n",
    "> If B is a matrix obtained by adding a multiple of one row to another row in A, then\n",
    "> \n",
    "> - det(B) = det(A)\n",
    "> \n",
    "> The determinant doesn't change.\n",
    "\n",
    "Reference:[https://stackoverflow.com/questions/2435133/what-is-the-best-algorithm-to-find-a-determinant-of-a-matrix](https://stackoverflow.com/questions/2435133/what-is-the-best-algorithm-to-find-a-determinant-of-a-matrix)\n",
    "\n",
    "The algorithm below implemented using the property that the determinant of the diagonal or triangular  matrix no matter lower or upper, the determinant is equal to $0$\n",
    "\n",
    "So by using this property and the rule $(2\\text{ and }3)$ above we come to the conclusion that $det(A)=(-1)^{m}\\prod_{i}u_{i, i}$, where $u$ is the entry of the upper triangular matrix after reduce matrix $A$ to row echelon form and $m$ is the number of time we interchange the row."
   ]
  },
  {
   "cell_type": "code",
   "execution_count": 275,
   "metadata": {},
   "outputs": [],
   "source": [
    "def det(A:np.ndarray) -> float:\n",
    "    N, M = A.shape\n",
    "    A_ = np.copy(A).astype(float)\n",
    "    p = 0\n",
    "    for idx in range(N - 1):\n",
    "        non_zero = np.nonzero(A_[idx:, idx])\n",
    "        if not non_zero[0].size:\n",
    "            raise ValueError(\"No Unique Solution Exists...\")\n",
    "        ptr = non_zero[0][0] + idx\n",
    "\n",
    "        # Row interchange causes sign of determinant flips\n",
    "        if ptr != idx:\n",
    "            A_[[idx, ptr]] = A_[[ptr, idx]]\n",
    "            p += 1\n",
    "            \n",
    "        # Addition between row does not change the determinant\n",
    "        for jdx in range(idx + 1, N):\n",
    "            m = A_[jdx][idx] / A_[idx][idx]\n",
    "            A_[jdx] -= m * A_[idx]\n",
    "            \n",
    "    if A_[N - 1][N - 1] == 0:\n",
    "        raise ValueError(\"No Unique Solution Exists...\")\n",
    "    \n",
    "    return np.prod(np.diag(A_)) * (-1) ** p"
   ]
  },
  {
   "cell_type": "code",
   "execution_count": 276,
   "metadata": {},
   "outputs": [
    {
     "data": {
      "text/plain": [
       "(4.0, 4.0)"
      ]
     },
     "execution_count": 276,
     "metadata": {},
     "output_type": "execute_result"
    }
   ],
   "source": [
    "A = np.array([\n",
    "   [1, -1, 2, -1],\n",
    "   [2, -2, 3, -3],\n",
    "   [1, 1, 1, 0],\n",
    "   [1, -1, 4, 3] \n",
    "], dtype=np.float32)\n",
    "det(A), np.linalg.det(A)"
   ]
  },
  {
   "cell_type": "code",
   "execution_count": 277,
   "metadata": {},
   "outputs": [
    {
     "data": {
      "text/plain": [
       "(23199.000000000004, 23199.000000000015)"
      ]
     },
     "execution_count": 277,
     "metadata": {},
     "output_type": "execute_result"
    }
   ],
   "source": [
    "A = np.random.randint(1, 20, 16).reshape((4, 4))\n",
    "det(A), np.linalg.det(A)"
   ]
  },
  {
   "cell_type": "markdown",
   "metadata": {},
   "source": [
    "## Chapter 6.5 Matrix Factorization"
   ]
  },
  {
   "cell_type": "markdown",
   "metadata": {},
   "source": [
    "### $LU$ and $PLU$ Decomposition"
   ]
  },
  {
   "cell_type": "code",
   "execution_count": 278,
   "metadata": {},
   "outputs": [],
   "source": [
    "def LU(A:np.ndarray) -> Tuple[np.ndarray, np.ndarray]:\n",
    "    '''\n",
    "    Returns:\n",
    "    L: The lower triangular matrix obtained with main diagonal elements = 1\n",
    "    U: The upper triangular matrix obtained\n",
    "    '''\n",
    "\n",
    "    if A[0][0] == 0:\n",
    "        raise ValueError(\"Factorization impossible\")\n",
    "    \n",
    "    N = A.shape[0]\n",
    "    L = np.eye(N)\n",
    "    U = np.zeros_like(A, dtype=float)\n",
    "    A_ = np.copy(A).astype(float)\n",
    "\n",
    "    for idx in range(N):\n",
    "        if A_[idx][idx] - (L[idx, :idx] @ U[idx, :idx]) == 0:\n",
    "            raise ValueError(\"Factorization impossible\")\n",
    "        # When idx = 0, L[0, :0] and U[:0, 0] are both empty arrays and @ two empty arrays result in 0.0\n",
    "        U[idx][idx] = A_[idx][idx] - (L[idx, :idx] @ U[:idx, idx])\n",
    "        for jdx in range(idx + 1, N):\n",
    "            U[idx][jdx] = (A_[idx][jdx] - L[idx, :idx] @ U[:idx, jdx]) / L[idx][idx]\n",
    "            L[jdx][idx] = (A_[jdx][idx] - L[jdx, :idx] @ U[:idx, idx]) / U[idx][idx]\n",
    "    return L, U"
   ]
  },
  {
   "cell_type": "code",
   "execution_count": 279,
   "metadata": {},
   "outputs": [
    {
     "data": {
      "text/plain": [
       "array([[ 1.,  1.,  0.,  3.],\n",
       "       [ 2.,  1., -1.,  1.],\n",
       "       [ 3., -1., -1.,  2.],\n",
       "       [-1.,  2.,  3., -1.]])"
      ]
     },
     "execution_count": 279,
     "metadata": {},
     "output_type": "execute_result"
    }
   ],
   "source": [
    "A = np.array([\n",
    "    [1, 1, 0, 3],\n",
    "    [2, 1, -1, 1],\n",
    "    [3, -1, -1, 2],\n",
    "    [-1, 2, 3, -1]\n",
    "], dtype=float)\n",
    "L, U = LU(A)\n",
    "L @ U"
   ]
  },
  {
   "cell_type": "code",
   "execution_count": 280,
   "metadata": {},
   "outputs": [],
   "source": [
    "def PLU(A:np.ndarray) -> Tuple[np.ndarray, np.ndarray, np.ndarray]:\n",
    "    '''\n",
    "    PA = LU\n",
    "    This method derived from the Gaussian Elimnation process\n",
    "    Returns:\n",
    "    P: The transposed permutation matrix so that A = PLU\n",
    "    L: The lower triangular matrix obtained with main diagonal elements = 1\n",
    "    U: The upper triangular matrix obtained\n",
    "    '''\n",
    "    N = A.shape[0]\n",
    "    P = np.eye(N)\n",
    "    L = np.zeros_like(A, dtype=float)\n",
    "    U = np.copy(A).astype(float)\n",
    "    \n",
    "    for idx in range(N - 1):\n",
    "        pivot_row = np.argmax(np.abs(U[idx:, idx])) + idx\n",
    "        # (E_i <--> E_j)\n",
    "        if pivot_row != idx:\n",
    "            P[[idx, pivot_row]] = P[[pivot_row, idx]]\n",
    "            U[[idx, pivot_row]] = U[[pivot_row, idx]]\n",
    "            L[[idx, pivot_row]] = L[[pivot_row, idx]]\n",
    "        for jdx in range(idx + 1, N):\n",
    "            factor = U[jdx, idx] / U[idx, idx]\n",
    "            L[jdx, idx] = factor\n",
    "            # (E_i + mE_j) --> (E_i)\n",
    "            U[jdx, :] -= factor * U[idx, :]\n",
    "    np.fill_diagonal(L, 1)\n",
    "    return P.T, L, U"
   ]
  },
  {
   "cell_type": "code",
   "execution_count": 281,
   "metadata": {},
   "outputs": [
    {
     "data": {
      "text/plain": [
       "array([[ 0.,  0., -1.,  1.],\n",
       "       [ 1.,  1., -1.,  2.],\n",
       "       [-1., -1.,  2.,  0.],\n",
       "       [ 1.,  2.,  0.,  2.]])"
      ]
     },
     "execution_count": 281,
     "metadata": {},
     "output_type": "execute_result"
    }
   ],
   "source": [
    "A = np.array([\n",
    "    [0, 0, -1, 1],\n",
    "    [1, 1, -1, 2],\n",
    "    [-1, -1, 2, 0],\n",
    "    [1, 2, 0, 2]\n",
    "])\n",
    "P, L, U = PLU(A)\n",
    "P @ L @ U"
   ]
  },
  {
   "cell_type": "markdown",
   "metadata": {},
   "source": [
    "### $LDL^T$ Decomposition amd its pivoting version\n",
    "Pseudocode of pivoting version is not available in _Numerical Analysis by Richard L. Burden_ but _Matrix Computation by G.H. Golub_"
   ]
  },
  {
   "cell_type": "code",
   "execution_count": 282,
   "metadata": {},
   "outputs": [],
   "source": [
    "def LDL(A:np.ndarray) -> Tuple[np.ndarray, np.ndarray]:\n",
    "    '''\n",
    "    A = LDLT\n",
    "    Returns:\n",
    "    L: The lower triangular matrix obtained with main diagonal elements = 1\n",
    "    D The diagonal matrix obtained\n",
    "    '''\n",
    "    N = A.shape[0]\n",
    "    L = np.eye(N)\n",
    "    D = np.zeros(N)\n",
    "    v = np.zeros(N)\n",
    "    for idx in range(N):\n",
    "        for jdx in range(idx):\n",
    "            v[jdx] = L[idx, jdx] * D[jdx]\n",
    "        D[idx] = A[idx][idx] - L[idx, :idx] @ v[:idx]\n",
    "        for jdx in range(idx + 1, N):\n",
    "            L[jdx][idx] = (A[jdx][idx] - L[jdx, :idx] @ v[:idx])  / D[idx]\n",
    "    D_ = np.zeros((N, N))\n",
    "    D_[np.diag_indices(N)] = D\n",
    "    return L, D_"
   ]
  },
  {
   "cell_type": "code",
   "execution_count": 283,
   "metadata": {},
   "outputs": [
    {
     "data": {
      "text/plain": [
       "array([[ 4.  , -1.  ,  1.  ],\n",
       "       [-1.  ,  4.25,  2.75],\n",
       "       [ 1.  ,  2.75,  3.5 ]])"
      ]
     },
     "execution_count": 283,
     "metadata": {},
     "output_type": "execute_result"
    }
   ],
   "source": [
    "A = np.array([\n",
    "    [4, -1, 1],\n",
    "    [-1, 4.25, 2.75],\n",
    "    [1, 2.75, 3.5]\n",
    "])\n",
    "L, D = LDL(A)\n",
    "\n",
    "L @ D @ L.T"
   ]
  },
  {
   "cell_type": "code",
   "execution_count": 284,
   "metadata": {},
   "outputs": [],
   "source": [
    "def PLDL(A:np.ndarray) -> Tuple[np.ndarray, np.ndarray, np.ndarray]:\n",
    "    '''\n",
    "    PAPT = LDLT\n",
    "    Returns:\n",
    "    P: The transposed permutation matrix\n",
    "    L: The lower triangular matrix obtained with main diagonal elements = 1\n",
    "    D The diagonal matrix obtained\n",
    "    '''\n",
    "    N = A.shape[0]\n",
    "    P = np.eye(N)\n",
    "    A_ = np.copy(A).astype(float)\n",
    "\n",
    "    for idx in range(N):\n",
    "        piv = np.argmax(np.diag(A_[idx:, idx:])) + idx\n",
    "        P[[idx, piv]] = P[[piv, idx]]\n",
    "        A_[[idx, piv]] = A_[[piv, idx]]\n",
    "        A_[:, [idx, piv]] = A_[:, [piv, idx]]\n",
    "        alpha = A_[idx, idx]\n",
    "        v = np.copy(A_[idx + 1:, idx])\n",
    "        A_[idx + 1:, idx] = v / alpha\n",
    "        A_[idx + 1:, idx + 1:] -= np.outer(v, v) / alpha\n",
    "\n",
    "    D = np.zeros((N, N))\n",
    "    D[np.diag_indices(N)] = np.diag(A_)\n",
    "    L =np.tril(A_, k=-1) + np.eye(N)\n",
    "    return P, L, D"
   ]
  },
  {
   "cell_type": "code",
   "execution_count": 285,
   "metadata": {},
   "outputs": [
    {
     "data": {
      "text/plain": [
       "array([[1., 2., 3.],\n",
       "       [2., 4., 5.],\n",
       "       [3., 5., 6.]])"
      ]
     },
     "execution_count": 285,
     "metadata": {},
     "output_type": "execute_result"
    }
   ],
   "source": [
    "A = np.array([\n",
    "    [1, 2, 3],\n",
    "    [2, 4, 5],\n",
    "    [3, 5, 6]\n",
    "])\n",
    "P, L, D = PLDL(A)\n",
    "P.T @ L @ D @ L.T @ P"
   ]
  },
  {
   "cell_type": "markdown",
   "metadata": {},
   "source": [
    "### Cholesky Decoomposition"
   ]
  },
  {
   "cell_type": "code",
   "execution_count": 286,
   "metadata": {},
   "outputs": [],
   "source": [
    "def cho(A:np.ndarray) -> np.ndarray:\n",
    "    N = A.shape[0]\n",
    "    L = np.zeros((N, N))\n",
    "    for idx in range(N):\n",
    "        L[idx][idx] = np.sqrt(A[idx][idx] - np.sum(L[idx, :idx] ** 2))\n",
    "        for jdx in range(idx + 1, N):\n",
    "            L[jdx][idx] = (A[jdx][idx] - L[jdx, :idx] @ L[idx, :idx]) / L[idx][idx]\n",
    "    return L"
   ]
  },
  {
   "cell_type": "code",
   "execution_count": 287,
   "metadata": {},
   "outputs": [
    {
     "data": {
      "text/plain": [
       "array([[ 4.  , -1.  ,  1.  ],\n",
       "       [-1.  ,  4.25,  2.75],\n",
       "       [ 1.  ,  2.75,  3.5 ]])"
      ]
     },
     "execution_count": 287,
     "metadata": {},
     "output_type": "execute_result"
    }
   ],
   "source": [
    "A = np.array([\n",
    "    [4, -1, 1],\n",
    "    [-1, 4.25, 2.75],\n",
    "    [1, 2.75, 3.5]\n",
    "])\n",
    "L = cho(A)\n",
    "L @ L.T"
   ]
  }
 ],
 "metadata": {
  "kernelspec": {
   "display_name": "Python 3",
   "language": "python",
   "name": "python3"
  },
  "language_info": {
   "codemirror_mode": {
    "name": "ipython",
    "version": 3
   },
   "file_extension": ".py",
   "mimetype": "text/x-python",
   "name": "python",
   "nbconvert_exporter": "python",
   "pygments_lexer": "ipython3",
   "version": "3.9.7"
  }
 },
 "nbformat": 4,
 "nbformat_minor": 2
}
