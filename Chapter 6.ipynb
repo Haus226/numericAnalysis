{
 "cells": [
  {
   "cell_type": "code",
   "execution_count": 620,
   "metadata": {},
   "outputs": [],
   "source": [
    "import numpy as np\n",
    "from typing import Tuple, Union"
   ]
  },
  {
   "cell_type": "markdown",
   "metadata": {},
   "source": [
    "# Direct Method for Solving Linear Systems"
   ]
  },
  {
   "cell_type": "markdown",
   "metadata": {},
   "source": [
    "## Chapter 6.1 Linear Systems of Equations"
   ]
  },
  {
   "cell_type": "markdown",
   "metadata": {},
   "source": [
    "### Backward and Forward Substituition \n",
    "Given an augmented upper triangular matrix $U$ with the shape $n\\times (n + 1)$, we can compute the solutions for the systems by formula below:\n",
    "$$x_n = \\frac{u_{n, n+1}}{u_{n, n}}$$\n",
    "$$x_i=\\frac{1}{u_{i, i}}\\biggl(u_{i, n+1}-\\sum^{n}_{j=i+1}u_{i, j}x_{j}\\biggr)$$\n",
    "where $i=1,2,\\cdots,n-1$\n",
    "\n",
    "Given an augmented lower triangular matrix $L$ with the shape $n\\times (n + 1)$, we can compute the solutions for the systems by formula below:\n",
    "$$x_1 = \\frac{l_{1, n+1}}{l_{1, 1}}$$\n",
    "$$x_i=\\frac{1}{l_{i, i}}\\biggl(l_{i, n+1}-\\sum^{i - 1}_{j=1}l_{i, j}x_{j}\\biggr)$$\n"
   ]
  },
  {
   "cell_type": "code",
   "execution_count": 621,
   "metadata": {},
   "outputs": [],
   "source": [
    "def backSub(U:np.ndarray) -> np.ndarray:\n",
    "    N, M = U.shape\n",
    "    x = np.zeros((N, 1), dtype=np.float64)\n",
    "    x[N - 1][0] = U[N - 1][M - 1] / U[N - 1][N - 1]    \n",
    "    for jdx in range(N - 2, -1, -1):\n",
    "        x[jdx] = (U[jdx][M - 1] - np.sum(U[jdx, jdx + 1:N] @ x[jdx + 1:])) / U[jdx][jdx]\n",
    "    return x\n",
    "\n",
    "def forSub(L:np.ndarray) -> np.ndarray:\n",
    "    N, M = L.shape\n",
    "    x = np.zeros((N, 1), dtype=np.float64)\n",
    "    x[0][0] = L[0][M - 1] / L[0][0]   \n",
    "    for jdx in range(1, N):\n",
    "        x[jdx] = (L[jdx][M - 1] - np.sum(L[jdx, :jdx] @ x[:jdx])) / L[jdx][jdx]\n",
    "    return x"
   ]
  },
  {
   "cell_type": "code",
   "execution_count": 622,
   "metadata": {},
   "outputs": [],
   "source": [
    "def forwardElimination(A:np.ndarray, return_A:bool=False) -> Union[Tuple[np.ndarray, np.ndarray], np.ndarray]:\n",
    "    '''\n",
    "    Parameters:\n",
    "    A: Augmented matrix of the system of equations Ax = b\n",
    "    '''\n",
    "    N, M = A.shape\n",
    "    A_ = np.copy(A).astype(float)\n",
    "    for idx in range(N - 1):\n",
    "        non_zero = np.nonzero(A_[idx:, idx])\n",
    "        if not non_zero[0].size:\n",
    "            raise ValueError(\"No Unique Solution Exists...\")\n",
    "        ptr = non_zero[0][0] + idx\n",
    "        A_[[idx, ptr]] = A_[[ptr, idx]]\n",
    "            \n",
    "        for jdx in range(idx + 1, N):\n",
    "            m = A_[jdx][idx] / A_[idx][idx]\n",
    "            A_[jdx] -= m * A_[idx]\n",
    "            \n",
    "    if A_[N - 1][N - 1] == 0:\n",
    "        raise ValueError(\"No Unique Solution Exists...\")\n",
    "    return backSub(A_) if not return_A else (A_, backSub(A_))\n",
    "\n",
    "def backwardElimination(A:np.ndarray, return_A:bool=False) -> Union[Tuple[np.ndarray, np.ndarray], np.ndarray]:\n",
    "    '''\n",
    "    Parameters:\n",
    "    A: Augmented matrix of the system of equations Ax = b\n",
    "    '''\n",
    "    N, M = A.shape\n",
    "    A_ = np.copy(A).astype(float)\n",
    "    for idx in range(N - 1, 0, -1):\n",
    "        non_zero = np.nonzero(A_[:idx, idx])\n",
    "        if not non_zero[0].size:\n",
    "            raise ValueError(\"No Unique Solution Exists...\")\n",
    "        ptr = non_zero[0][::-1][0]\n",
    "        A_[[idx, ptr]] = A_[[ptr, idx]]\n",
    "            \n",
    "        for jdx in range(idx - 1, -1, -1):\n",
    "            m = A_[jdx][idx] / A_[idx][idx]\n",
    "            A_[jdx] -= m * A_[idx]\n",
    "            \n",
    "    if A_[0][0] == 0:\n",
    "        raise ValueError(\"No Unique Solution Exists...\")\n",
    "    return forSub(A_) if not return_A else (A_, forSub(A_))\n"
   ]
  },
  {
   "cell_type": "code",
   "execution_count": 623,
   "metadata": {},
   "outputs": [
    {
     "data": {
      "text/plain": [
       "(array([[-7.],\n",
       "        [ 3.],\n",
       "        [ 2.],\n",
       "        [ 2.]]),\n",
       " array([[-7.],\n",
       "        [ 3.],\n",
       "        [ 2.],\n",
       "        [ 2.]]),\n",
       " array([-7.,  3.,  2.,  2.], dtype=float32))"
      ]
     },
     "execution_count": 623,
     "metadata": {},
     "output_type": "execute_result"
    }
   ],
   "source": [
    "A = np.array([\n",
    "   [1, -1, 2, -1, -8],\n",
    "   [2, -2, 3, -3, -20],\n",
    "   [1, 1, 1, 0, -2],\n",
    "   [1, -1, 4, 3, 4] \n",
    "], dtype=np.float32)\n",
    "\n",
    "forwardElimination(A), backwardElimination(A), np.linalg.solve(A[:, :4], A[:, -1])"
   ]
  },
  {
   "cell_type": "code",
   "execution_count": 624,
   "metadata": {},
   "outputs": [
    {
     "name": "stdout",
     "output_type": "stream",
     "text": [
      "[[-19 -42   1 -20 -11  21 -18]\n",
      " [-15  -8  16 -14 -43  45  28]\n",
      " [ 19 -35   8 -31  39  48   5]\n",
      " [-41  37  34  14   3 -34  10]\n",
      " [ -9  38   4  26 -31  37  30]\n",
      " [-15 -49  -7  -3 -12  35  43]]\n"
     ]
    },
    {
     "data": {
      "text/plain": [
       "(array([[ 2.74051024],\n",
       "        [-2.4884594 ],\n",
       "        [ 4.55662652],\n",
       "        [ 4.12018086],\n",
       "        [-0.93245991],\n",
       "        [-0.13598422]]),\n",
       " array([[ 2.74051024],\n",
       "        [-2.4884594 ],\n",
       "        [ 4.55662652],\n",
       "        [ 4.12018086],\n",
       "        [-0.93245991],\n",
       "        [-0.13598422]]),\n",
       " array([ 2.74051024, -2.4884594 ,  4.55662652,  4.12018086, -0.93245991,\n",
       "        -0.13598422]))"
      ]
     },
     "execution_count": 624,
     "metadata": {},
     "output_type": "execute_result"
    }
   ],
   "source": [
    "A = np.random.randint(-50, 50, 42).reshape(6, 7)\n",
    "print(A)\n",
    "forwardElimination(A), backwardElimination(A), np.linalg.solve(A[:, :6], A[:, -1])"
   ]
  },
  {
   "cell_type": "markdown",
   "metadata": {},
   "source": [
    "## Chapter 6.4 The Determinant of a Matrix\n",
    "> If B is a matrix obtained by multiplying a row of A by some non-zero constant ß, then\n",
    "> - det(B) = ß * det(A)\n",
    "> \n",
    "> In other words, you can essentially 'factor out' a constant from a row by just pulling it out front of the determinant.\n",
    "> If B is a matrix obtained by swapping two rows of A, then\n",
    "> \n",
    "> - det(B) = -det(A)\n",
    "> \n",
    "> If you swap rows, flip the sign.\n",
    "> If B is a matrix obtained by adding a multiple of one row to another row in A, then\n",
    "> \n",
    "> - det(B) = det(A)\n",
    "> \n",
    "> The determinant doesn't change.\n",
    "\n",
    "Reference:[https://stackoverflow.com/questions/2435133/what-is-the-best-algorithm-to-find-a-determinant-of-a-matrix](https://stackoverflow.com/questions/2435133/what-is-the-best-algorithm-to-find-a-determinant-of-a-matrix)\n",
    "\n",
    "The algorithm below implemented using the property that the determinant of the diagonal or triangular  matrix no matter lower or upper, the determinant is equal to $0$\n",
    "\n",
    "So by using this property and the rule $(2\\text{ and }3)$ above we come to the conclusion that $det(A)=(-1)^{m}\\prod_{i}u_{i, i}$, where $u$ is the entry of the upper triangular matrix after reduce matrix $A$ to row echelon form and $m$ is the number of time we interchange the row."
   ]
  },
  {
   "cell_type": "code",
   "execution_count": 625,
   "metadata": {},
   "outputs": [],
   "source": [
    "def det(A:np.ndarray) -> float:\n",
    "    N, M = A.shape\n",
    "    A_ = np.copy(A).astype(float)\n",
    "    p = 0\n",
    "    for idx in range(N - 1):\n",
    "        non_zero = np.nonzero(A_[idx:, idx])\n",
    "        if not non_zero[0].size:\n",
    "            raise ValueError(\"No Unique Solution Exists...\")\n",
    "        ptr = non_zero[0][0] + idx\n",
    "\n",
    "        # Row interchange causes sign of determinant flips\n",
    "        if ptr != idx:\n",
    "            A_[[idx, ptr]] = A_[[ptr, idx]]\n",
    "            p += 1\n",
    "            \n",
    "        # Addition between row does not change the determinant\n",
    "        for jdx in range(idx + 1, N):\n",
    "            m = A_[jdx][idx] / A_[idx][idx]\n",
    "            A_[jdx] -= m * A_[idx]\n",
    "            \n",
    "    if A_[N - 1][N - 1] == 0:\n",
    "        raise ValueError(\"No Unique Solution Exists...\")\n",
    "    \n",
    "    return np.prod(np.diag(A_)) * (-1) ** p"
   ]
  },
  {
   "cell_type": "code",
   "execution_count": 626,
   "metadata": {},
   "outputs": [
    {
     "data": {
      "text/plain": [
       "(4.0, 4.0)"
      ]
     },
     "execution_count": 626,
     "metadata": {},
     "output_type": "execute_result"
    }
   ],
   "source": [
    "A = np.array([\n",
    "   [1, -1, 2, -1],\n",
    "   [2, -2, 3, -3],\n",
    "   [1, 1, 1, 0],\n",
    "   [1, -1, 4, 3] \n",
    "], dtype=np.float32)\n",
    "det(A), np.linalg.det(A)"
   ]
  },
  {
   "cell_type": "code",
   "execution_count": 627,
   "metadata": {},
   "outputs": [
    {
     "data": {
      "text/plain": [
       "(-17797.999999999993, -17797.999999999996)"
      ]
     },
     "execution_count": 627,
     "metadata": {},
     "output_type": "execute_result"
    }
   ],
   "source": [
    "A = np.random.randint(1, 20, 16).reshape((4, 4))\n",
    "det(A), np.linalg.det(A)"
   ]
  },
  {
   "cell_type": "markdown",
   "metadata": {},
   "source": [
    "## Chapter 6.5 Matrix Factorization"
   ]
  },
  {
   "cell_type": "markdown",
   "metadata": {},
   "source": [
    "### LU and PLU Decomposition"
   ]
  },
  {
   "cell_type": "code",
   "execution_count": 628,
   "metadata": {},
   "outputs": [],
   "source": [
    "def LU(A:np.ndarray) -> Tuple[np.ndarray, np.ndarray]:\n",
    "    '''\n",
    "    Returns:\n",
    "    L: The lower triangular matrix obtained with main diagonal elements = 1\n",
    "    U: The upper triangular matrix obtained\n",
    "    '''\n",
    "\n",
    "    if A[0][0] == 0:\n",
    "        raise ValueError(\"Factorization impossible\")\n",
    "    \n",
    "    N = A.shape[0]\n",
    "    L = np.eye(N)\n",
    "    U = np.zeros_like(A, dtype=float)\n",
    "    A_ = np.copy(A).astype(float)\n",
    "\n",
    "    for idx in range(N):\n",
    "        if A_[idx][idx] - (L[idx, :idx] @ U[idx, :idx]) == 0:\n",
    "            raise ValueError(\"Factorization impossible\")\n",
    "        # When idx = 0, L[0, :0] and U[:0, 0] are both empty arrays and @ two empty arrays result in 0.0\n",
    "        U[idx][idx] = A_[idx][idx] - (L[idx, :idx] @ U[:idx, idx])\n",
    "        for jdx in range(idx + 1, N):\n",
    "            U[idx][jdx] = (A_[idx][jdx] - L[idx, :idx] @ U[:idx, jdx]) / L[idx][idx]\n",
    "            L[jdx][idx] = (A_[jdx][idx] - L[jdx, :idx] @ U[:idx, idx]) / U[idx][idx]\n",
    "    return L, U"
   ]
  },
  {
   "cell_type": "code",
   "execution_count": 629,
   "metadata": {},
   "outputs": [
    {
     "data": {
      "text/plain": [
       "array([[ 1.,  1.,  0.,  3.],\n",
       "       [ 2.,  1., -1.,  1.],\n",
       "       [ 3., -1., -1.,  2.],\n",
       "       [-1.,  2.,  3., -1.]])"
      ]
     },
     "execution_count": 629,
     "metadata": {},
     "output_type": "execute_result"
    }
   ],
   "source": [
    "A = np.array([\n",
    "    [1, 1, 0, 3],\n",
    "    [2, 1, -1, 1],\n",
    "    [3, -1, -1, 2],\n",
    "    [-1, 2, 3, -1]\n",
    "], dtype=float)\n",
    "L, U = LU(A)\n",
    "L @ U"
   ]
  },
  {
   "cell_type": "code",
   "execution_count": 630,
   "metadata": {},
   "outputs": [],
   "source": [
    "def PLU(A:np.ndarray) -> Tuple[np.ndarray, np.ndarray, np.ndarray]:\n",
    "    '''\n",
    "    PA = LU\n",
    "    This method derived from the Gaussian Elimnation process\n",
    "    Returns:\n",
    "    P: The transposed permutation matrix so that A = PLU\n",
    "    L: The lower triangular matrix obtained with main diagonal elements = 1\n",
    "    U: The upper triangular matrix obtained\n",
    "    '''\n",
    "    N = A.shape[0]\n",
    "    P = np.eye(N)\n",
    "    L = np.zeros_like(A)\n",
    "    U = np.copy(A).astype(float)\n",
    "    \n",
    "    for idx in range(N - 1):\n",
    "        pivot_row = np.argmax(np.abs(U[idx:, idx])) + idx\n",
    "        # (E_i <--> E_j)\n",
    "        if pivot_row != idx:\n",
    "            P[[idx, pivot_row]] = P[[pivot_row, idx]]\n",
    "            U[[idx, pivot_row]] = U[[pivot_row, idx]]\n",
    "            L[[idx, pivot_row]] = L[[pivot_row, idx]]\n",
    "        for jdx in range(idx + 1, N):\n",
    "            factor = U[jdx, idx] / U[idx, idx]\n",
    "            L[jdx, idx] = factor\n",
    "            # (E_i + mE_j) --> (E_i)\n",
    "            U[jdx, :] -= factor * U[idx, :]\n",
    "    np.fill_diagonal(L, 1)\n",
    "    return P.T, L, U"
   ]
  },
  {
   "cell_type": "code",
   "execution_count": 631,
   "metadata": {},
   "outputs": [
    {
     "data": {
      "text/plain": [
       "array([[ 0.,  0., -1.,  1.],\n",
       "       [ 1.,  1., -1.,  2.],\n",
       "       [-1., -1.,  2.,  0.],\n",
       "       [ 1.,  2.,  0.,  2.]])"
      ]
     },
     "execution_count": 631,
     "metadata": {},
     "output_type": "execute_result"
    }
   ],
   "source": [
    "A = np.array([\n",
    "    [0, 0, -1, 1],\n",
    "    [1, 1, -1, 2],\n",
    "    [-1, -1, 2, 0],\n",
    "    [1, 2, 0, 2]\n",
    "])\n",
    "P, L, U = PLU(A)\n",
    "P @ L @ U"
   ]
  },
  {
   "cell_type": "code",
   "execution_count": null,
   "metadata": {},
   "outputs": [],
   "source": []
  }
 ],
 "metadata": {
  "kernelspec": {
   "display_name": "Python 3",
   "language": "python",
   "name": "python3"
  },
  "language_info": {
   "codemirror_mode": {
    "name": "ipython",
    "version": 3
   },
   "file_extension": ".py",
   "mimetype": "text/x-python",
   "name": "python",
   "nbconvert_exporter": "python",
   "pygments_lexer": "ipython3",
   "version": "3.9.7"
  }
 },
 "nbformat": 4,
 "nbformat_minor": 2
}
