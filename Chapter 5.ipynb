{
 "cells": [
  {
   "cell_type": "code",
   "execution_count": 63,
   "metadata": {},
   "outputs": [],
   "source": [
    "import numpy as np\n",
    "from typing import Callable, Union, Tuple, List, Any"
   ]
  },
  {
   "cell_type": "markdown",
   "metadata": {},
   "source": [
    "# Initial-Value Problems for Ordinary Differential Equations"
   ]
  },
  {
   "cell_type": "markdown",
   "metadata": {},
   "source": [
    "## Chapter 5.2 Euler's Method\n",
    "Given \n",
    "$$ \\frac{dy}{dt} = f(t, y),\\,\\,\\, a\\leq t\\leq b,\\,\\,\\,y(a)=\\alpha $$\n",
    "and consider\n",
    "$$ t_i = a+ih,\\,\\,\\,i=0,1,2\\cdots,N$$\n",
    "Suppose $y(t)$ has two continuous derivatives on $[a, b]$, then by Taylor's Theorem\n",
    "$$ y(t_{i+1})=y(t_i)+(t_{i+1}-t_i)y'(t_i)+\\frac{(t_{i+1}-t_i)^2}{2}y''(\\xi_i) $$\n",
    "because $h=t_{i+1}-t_i$, then\n",
    "$$ y(t_{i+1})=y(t_i)+hf(t_i,y(t_i))+\\frac{h^2}{2}y''(\\xi_i)$$\n",
    "\n",
    "The definition of $t_i$ and $h$ are the same throughout the context.\n",
    "\n",
    "Euler's method constructs $w_i\\approx y(t_i)$, by deleting the remainder term. In short,\n",
    "$$w_0=\\alpha$$\n",
    "$$w_{i+1}=w_i+hf(t_i, w_i),\\,\\,\\,i=0, 1,\\cdots,N-1$$"
   ]
  },
  {
   "cell_type": "code",
   "execution_count": 64,
   "metadata": {},
   "outputs": [],
   "source": [
    "def Euler(f:Callable[[Union[float, int], Union[float, int]], Union[float, int]],\n",
    "          a:Union[float, int],\n",
    "          b:Union[float, int],\n",
    "          alpha:Union[float, int],\n",
    "          h:Union[float, int]=None,\n",
    "          N:int=None,\n",
    "         ) -> Tuple[np.ndarray[Union[float, int], Any], np.ndarray[Union[float, int], Any]]:\n",
    "    if (h is None) and (N is None):\n",
    "        raise ValueError(\"h and N cannot be None at the same time\")\n",
    "    elif h is None:\n",
    "        h = (b - a) / N\n",
    "    elif N is None:\n",
    "        N = int((b - a) / h)\n",
    "    t_, w_ = np.linspace(a, b, N + 1), np.ones((N + 1, )) * alpha\n",
    "    for idx in range(1, N + 1):\n",
    "        w_[idx] =  w_[idx - 1] + h * f(t_[idx - 1], w_[idx - 1])\n",
    "    return (t_, w_)"
   ]
  },
  {
   "cell_type": "code",
   "execution_count": 65,
   "metadata": {},
   "outputs": [
    {
     "data": {
      "text/plain": [
       "(array([0. , 0.5, 1. , 1.5, 2. ]),\n",
       " array([0.5   , 1.25  , 2.25  , 3.375 , 4.4375]))"
      ]
     },
     "execution_count": 65,
     "metadata": {},
     "output_type": "execute_result"
    }
   ],
   "source": [
    "f = lambda t, y: y - t ** 2 + 1\n",
    "Euler(f, 0, 2, 0.5, h=0.5)"
   ]
  },
  {
   "cell_type": "code",
   "execution_count": 66,
   "metadata": {},
   "outputs": [
    {
     "data": {
      "text/plain": [
       "(array([0.  , 0.25, 0.5 , 0.75, 1.  ]),\n",
       " array([1.        , 1.25      , 1.63980533, 2.02425465, 2.23645725]))"
      ]
     },
     "execution_count": 66,
     "metadata": {},
     "output_type": "execute_result"
    }
   ],
   "source": [
    "f = lambda t, y: np.cos(2 * t) + np.sin(3 * t)\n",
    "Euler(f, 0, 1, 1, N=4)"
   ]
  },
  {
   "cell_type": "markdown",
   "metadata": {},
   "source": [
    "## Chapter 5.3 Higher-Order Taylor Methods\n",
    "Suppose the solution $y(t)$ to the initial-value problem\n",
    "$$ \\frac{dy}{dt} = f(t, y),\\,\\,\\, a\\leq t\\leq b,\\,\\,\\,y(a)=\\alpha $$\n",
    "has $(n+1)$ continuous derivatives. By its $n$th Taylor polynomial about $t_i$ and evaluate at $t_{i+1}$,\n",
    "$$y(t_{{i+1}})=y(t_i)+hy'(t_i)+\\frac{h^2}{2}y''(t_i)+\\cdots+\\frac{h^n}{n!}y^{(n)}(t_i)+\\frac{h^{n+1}}{(n+1)!}y^{(n+1)}(\\xi_i)$$\n",
    "for some $\\xi_i\\in(t_i, t_{i+1})$\n",
    "Successive differentiation of the solution, $y(t)$ gives\n",
    "$$y'(t)=f(t, y(t)),\\,\\,\\,y''(t)=f'(t, y(t)),\\,\\,\\,\\text{ and generally, }\\,\\,\\, y^{(k)}(t)=f^{(k-1)}(t, y(t))$$\n",
    "Substituting these findings into previous equations gives\n",
    "$$y(t_{{i+1}})=y(t_i)+hf(t_i)+\\frac{h^2}{2}f'(t_i)+\\cdots+\\frac{h^n}{n!}f^{(n - 1)}(t_i)+\\frac{h^{n+1}}{(n+1)!}f^{(n)}(\\xi_i)$$\n",
    "Similar to Euler's method, in short\n",
    "$$w_0=\\alpha$$\n",
    "$$w_{i+1}=w_i+hT^{(n)}(t_i, w_i),\\,\\,\\,i=0,1,\\cdots,N-1$$\n",
    "where\n",
    "$$T^{(n)}(t_i, w_i)=\\sum^{n-1}_{i=0}\\frac{h^{i}}{(i+1)!}f^{(i)}(t_i, w_i)$$\n",
    "Euler's method is Taylor's method of order one."
   ]
  },
  {
   "cell_type": "code",
   "execution_count": 67,
   "metadata": {},
   "outputs": [],
   "source": [
    "def Taylor(func:List[Callable[[Union[float, int], Union[float, int]], Union[float, int]]],\n",
    "           a:Union[float, int],\n",
    "           b:Union[float, int],\n",
    "           alpha:Union[float, int],\n",
    "           h:Union[float, int]=None,\n",
    "           N:int=None\n",
    "          ) -> Tuple[np.ndarray[Union[float, int], Any], np.ndarray[Union[float, int], Any]]:\n",
    "    if (h is None) and (N is None):\n",
    "        raise ValueError(\"h and N cannot be None at the same time\")\n",
    "    elif h is None:\n",
    "        h = (b - a) / N\n",
    "    elif N is None:\n",
    "        N = int((b - a) / h)\n",
    "    t_, w_ = np.linspace(a, b, N + 1), np.ones((N + 1, )) * alpha\n",
    "\n",
    "    factorial = [1] * (len(func) + 1)\n",
    "    for idx in range(2, len(func) + 1):\n",
    "        factorial[idx] = factorial[idx - 1] * (idx)\n",
    "    for idx in range(1, N + 1):\n",
    "        T = sum([(h ** jdx) * f(t_[idx - 1], w_[idx - 1]) / factorial[jdx + 1] for jdx, f in enumerate(func)])\n",
    "        w_[idx] = w_[idx - 1] + h * T\n",
    "    return (t_, w_)"
   ]
  },
  {
   "cell_type": "code",
   "execution_count": 68,
   "metadata": {},
   "outputs": [
    {
     "data": {
      "text/plain": [
       "(array([0. , 0.2, 0.4, 0.6, 0.8, 1. , 1.2, 1.4, 1.6, 1.8, 2. ]),\n",
       " array([0.5       , 0.83      , 1.2158    , 1.652076  , 2.13233272,\n",
       "        2.64864592, 3.19134802, 3.74864458, 4.30614639, 4.8462986 ,\n",
       "        5.34768429]))"
      ]
     },
     "execution_count": 68,
     "metadata": {},
     "output_type": "execute_result"
    }
   ],
   "source": [
    "f = [\n",
    "    lambda t, y: y - t ** 2 + 1,\n",
    "    lambda t, y: y - t ** 2 + 1 - 2 * t\n",
    "]\n",
    "Taylor(f, 0, 2, 0.5, 0.2)"
   ]
  },
  {
   "cell_type": "markdown",
   "metadata": {},
   "source": [
    "## Chapter 5.4 Runge-Kutta Methods\n",
    "__Runge-Kutta methods__ have the high-order local truncation error of the Taylor methods\n",
    "but eliminate the need to compute and evaluate the derivatives of $f (t, y)$\n",
    "\n",
    "In general, __Runge-Kutta Methods__ have the following form:\n",
    "$$\n",
    "y_{i+1} = y_i+h\\sum_{i=1}^{s}b_ik_i\n",
    "$$\n",
    "where\n",
    "$y_i=y(t_i)$\n",
    "\n",
    "$k_1=f(t_i,y_i)$\n",
    "\n",
    "$k_2=f(t_i+c_2h,y_i+(a_{21}k_1)h)$\n",
    "\n",
    "$k_3=f(t_i+c_3h,y_i+(a_{31}k_1+a_{32}k_2)h)$\n",
    "\n",
    "$\\vdots$\n",
    "\n",
    "$k_s=f(t_i+c_sh,y_i+(a_{s1}k_1+a_{s2}k_2+\\cdots+a_{s, s-1})h)$\n",
    "\n",
    "The parameters above can be store as an matrix where the illustrated as below:\n",
    "\\begin{bmatrix}\n",
    "0 & 0 & 0 & \\cdots & 0\\\\\n",
    "c_2 & a_{21} & a_{22} & \\cdots & a_{s2}\\\\\n",
    "\\vdots & \\vdots & \\vdots & \\ddots & \\vdots\\\\\n",
    "c_s & a_{s1} & a_{s2} & \\cdots & a_{ss}\\\\\n",
    "0 & b_1 & b_2 & \\cdots & b_s\n",
    "\\end{bmatrix}\t\n",
    "\n",
    "Refer to [Wikipedia](https://en.wikipedia.org/wiki/Runge%E2%80%93Kutta_methods) for more information"
   ]
  },
  {
   "cell_type": "markdown",
   "metadata": {},
   "source": [
    "### Runge-Kutta Methods of Order Two\n",
    "There is a family of such methods, parameterized by α and given by the formula\n",
    "$$\n",
    "y(t_{i+1})=y(t_i)+h\\biggl(\\biggl(1-\\frac{1}{2\\alpha}f(t_i, y(t_i))\\biggr)+\\frac{1}{2\\alpha}f(t_i+\\alpha h, y(t_i)+\\alpha f(t_i, y(t_i)))\\biggr)\n",
    "$$\n",
    "where \n",
    "$\\alpha=\\frac{1}{2}$ gives the midpoint method, $\\alpha=1$ is Modified Euler Method(Heun's method), and $\\alpha=\\frac{2}{3}$ is Ralston's method.\n",
    "\n",
    "So by the matrix notation introduced above, we have\n",
    "\\begin{bmatrix}\n",
    "0 & 0 & 0\\\\\n",
    "\\alpha & \\alpha & 0\\\\\n",
    "0 & 1 - \\frac{1}{2\\alpha} & \\frac{1}{2\\alpha}\n",
    "\\end{bmatrix}\t\n"
   ]
  },
  {
   "cell_type": "markdown",
   "metadata": {},
   "source": [
    "#### Midpoint Method\n",
    "$w_0=\\alpha$\n",
    "\n",
    "$w_{i+1}=w_i+hf\\biggl(t_i+\\frac{h}{2}, w_i+\\frac{h}{2}f(t_i, w_i)\\biggr),\\,\\,\\,i=0, 1,\\cdots,N-1$"
   ]
  },
  {
   "cell_type": "markdown",
   "metadata": {},
   "source": [
    "#### Modified Euler Method\n",
    "$w_0=\\alpha$\n",
    "\n",
    "$w_{i+1}=w_i+\\frac{h}{2}[f(t_i, w_i)+f(t_{i+1}, w_i+hf(t_i, w_i))],\\,\\,\\,i=0, 1,\\cdots,N-1$"
   ]
  },
  {
   "cell_type": "markdown",
   "metadata": {},
   "source": [
    "#### Ralston's Method\n",
    "$w_0=\\alpha$\n",
    "\n",
    "$w_{i+1}=w_i+h\\biggl[\\frac{1}{4}f(t_i, w_i)+\\frac{3}{4}f(t_{i+1}+\\frac{2}{3}h, w_i+\\frac{2}{3}hf(t_i, w_i))\\biggr],\\,\\,\\,i=0, 1,\\cdots,N-1$"
   ]
  },
  {
   "cell_type": "code",
   "execution_count": 69,
   "metadata": {},
   "outputs": [],
   "source": [
    "def RK2(f:Callable[[Union[float, int], Union[float, int]], Union[float, int]],\n",
    "          a:Union[float, int],\n",
    "          b:Union[float, int],\n",
    "          y_init:Union[float, int],\n",
    "          h:Union[float, int]=None,\n",
    "          alpha:float=0.5,\n",
    "          N:int=None,\n",
    "         ) -> Tuple[np.ndarray[Union[float, int], Any], np.ndarray[Union[float, int], Any]]:\n",
    "    if (h is None) and (N is None):\n",
    "        raise ValueError(\"h and N cannot be None at the same time\")\n",
    "    elif h is None:\n",
    "        h = (b - a) / N\n",
    "    elif N is None:\n",
    "        N = int((b - a) / h)\n",
    "    t_, w_ = np.linspace(a, b, N + 1), np.ones((N + 1, )) * y_init\n",
    "    for idx in range(1, N + 1):\n",
    "        w_[idx] =  w_[idx - 1] + h * ((1 - 1 / (2 * alpha)) * f(t_[idx - 1], w_[idx - 1]) + \n",
    "                                      (f(t_[idx - 1] + alpha * h, w_[idx - 1] + alpha * h * f(t_[idx - 1], w_[idx - 1]))) / (2 * alpha)\n",
    "                                      )\n",
    "    return (t_, w_)"
   ]
  },
  {
   "cell_type": "code",
   "execution_count": 70,
   "metadata": {},
   "outputs": [
    {
     "data": {
      "text/html": [
       "<div>\n",
       "<style scoped>\n",
       "    .dataframe tbody tr th:only-of-type {\n",
       "        vertical-align: middle;\n",
       "    }\n",
       "\n",
       "    .dataframe tbody tr th {\n",
       "        vertical-align: top;\n",
       "    }\n",
       "\n",
       "    .dataframe thead th {\n",
       "        text-align: right;\n",
       "    }\n",
       "</style>\n",
       "<table border=\"1\" class=\"dataframe\">\n",
       "  <thead>\n",
       "    <tr style=\"text-align: right;\">\n",
       "      <th></th>\n",
       "      <th>t</th>\n",
       "      <th>Midpoint</th>\n",
       "      <th>Modified Euler</th>\n",
       "      <th>Ralston</th>\n",
       "    </tr>\n",
       "  </thead>\n",
       "  <tbody>\n",
       "    <tr>\n",
       "      <th>0</th>\n",
       "      <td>0.0</td>\n",
       "      <td>0.500000</td>\n",
       "      <td>0.500000</td>\n",
       "      <td>0.500000</td>\n",
       "    </tr>\n",
       "    <tr>\n",
       "      <th>1</th>\n",
       "      <td>0.2</td>\n",
       "      <td>0.828000</td>\n",
       "      <td>0.826000</td>\n",
       "      <td>0.827333</td>\n",
       "    </tr>\n",
       "    <tr>\n",
       "      <th>2</th>\n",
       "      <td>0.4</td>\n",
       "      <td>1.211360</td>\n",
       "      <td>1.206920</td>\n",
       "      <td>1.209880</td>\n",
       "    </tr>\n",
       "    <tr>\n",
       "      <th>3</th>\n",
       "      <td>0.6</td>\n",
       "      <td>1.644659</td>\n",
       "      <td>1.637242</td>\n",
       "      <td>1.642187</td>\n",
       "    </tr>\n",
       "    <tr>\n",
       "      <th>4</th>\n",
       "      <td>0.8</td>\n",
       "      <td>2.121284</td>\n",
       "      <td>2.110236</td>\n",
       "      <td>2.117601</td>\n",
       "    </tr>\n",
       "    <tr>\n",
       "      <th>5</th>\n",
       "      <td>1.0</td>\n",
       "      <td>2.633167</td>\n",
       "      <td>2.617688</td>\n",
       "      <td>2.628007</td>\n",
       "    </tr>\n",
       "    <tr>\n",
       "      <th>6</th>\n",
       "      <td>1.2</td>\n",
       "      <td>3.170463</td>\n",
       "      <td>3.149579</td>\n",
       "      <td>3.163502</td>\n",
       "    </tr>\n",
       "    <tr>\n",
       "      <th>7</th>\n",
       "      <td>1.4</td>\n",
       "      <td>3.721165</td>\n",
       "      <td>3.693686</td>\n",
       "      <td>3.712006</td>\n",
       "    </tr>\n",
       "    <tr>\n",
       "      <th>8</th>\n",
       "      <td>1.6</td>\n",
       "      <td>4.270622</td>\n",
       "      <td>4.235097</td>\n",
       "      <td>4.258780</td>\n",
       "    </tr>\n",
       "    <tr>\n",
       "      <th>9</th>\n",
       "      <td>1.8</td>\n",
       "      <td>4.800959</td>\n",
       "      <td>4.755619</td>\n",
       "      <td>4.785845</td>\n",
       "    </tr>\n",
       "    <tr>\n",
       "      <th>10</th>\n",
       "      <td>2.0</td>\n",
       "      <td>5.290369</td>\n",
       "      <td>5.233055</td>\n",
       "      <td>5.271265</td>\n",
       "    </tr>\n",
       "  </tbody>\n",
       "</table>\n",
       "</div>"
      ],
      "text/plain": [
       "      t  Midpoint  Modified Euler   Ralston\n",
       "0   0.0  0.500000        0.500000  0.500000\n",
       "1   0.2  0.828000        0.826000  0.827333\n",
       "2   0.4  1.211360        1.206920  1.209880\n",
       "3   0.6  1.644659        1.637242  1.642187\n",
       "4   0.8  2.121284        2.110236  2.117601\n",
       "5   1.0  2.633167        2.617688  2.628007\n",
       "6   1.2  3.170463        3.149579  3.163502\n",
       "7   1.4  3.721165        3.693686  3.712006\n",
       "8   1.6  4.270622        4.235097  4.258780\n",
       "9   1.8  4.800959        4.755619  4.785845\n",
       "10  2.0  5.290369        5.233055  5.271265"
      ]
     },
     "execution_count": 70,
     "metadata": {},
     "output_type": "execute_result"
    }
   ],
   "source": [
    "import pandas as pd\n",
    "f = lambda t, y: y - t ** 2 + 1\n",
    "\n",
    "t_1, w_1 = RK2(f, 0, 2, 0.5, 0.2, alpha=0.5)\n",
    "t_2, w_2 = RK2(f, 0, 2, 0.5, 0.2, alpha=1)\n",
    "t_3, w_3 = RK2(f, 0, 2, 0.5, 0.2, alpha=2 / 3)\n",
    "\n",
    "pd.DataFrame(\n",
    "    {\n",
    "        \"t\":t_1,\n",
    "        \"Midpoint\":w_1,\n",
    "        \"Modified Euler\":w_2,\n",
    "        \"Ralston\":w_3\n",
    "    }\n",
    ")\n"
   ]
  },
  {
   "cell_type": "markdown",
   "metadata": {},
   "source": [
    "### Runge-Kutta Methods of Order Three\n",
    "#### Heun's Method\n",
    "\n",
    "$w_0=\\alpha$\n",
    "\n",
    "$w_{i+1}=w_i+\\frac{h}{4}\\biggl[f(t_i, w_i)+3f(t_{i}+\\frac{2}{3}h, w_i+\\frac{2}{3}hf(t_i+\\frac{1}{3}h, w_i+\\frac{1}{3}f(t_i, w_i)))\\biggr],\\,\\,\\,i=0, 1,\\cdots,N-1$"
   ]
  },
  {
   "cell_type": "code",
   "execution_count": 71,
   "metadata": {},
   "outputs": [],
   "source": [
    "def Heun(f:Callable[[Union[float, int], Union[float, int]], Union[float, int]],\n",
    "          a:Union[float, int],\n",
    "          b:Union[float, int],\n",
    "          y_init:Union[float, int],\n",
    "          h:Union[float, int]=None,\n",
    "          N:int=None,\n",
    "         ) -> Tuple[np.ndarray[Union[float, int], Any], np.ndarray[Union[float, int], Any]]:\n",
    "    if (h is None) and (N is None):\n",
    "        raise ValueError(\"h and N cannot be None at the same time\")\n",
    "    elif h is None:\n",
    "        h = (b - a) / N\n",
    "    elif N is None:\n",
    "        N = int((b - a) / h)\n",
    "    t_, w_ = np.linspace(a, b, N + 1), np.ones((N + 1, )) * y_init\n",
    "    for idx in range(1, N + 1):\n",
    "        w_[idx] =  w_[idx - 1] + h * (f(t_[idx - 1], w_[idx - 1]) + 3 * f(t_[idx - 1] + (2 / 3) * h, w_[idx - 1] + (2 / 3) * \n",
    "                                        h * f(t_[idx - 1] + (1 / 3) * h, w_[idx - 1] + (1 / 3) * h *  f(t_[idx - 1], w_[idx - 1])))) / 4\n",
    "    return (t_, w_)"
   ]
  },
  {
   "cell_type": "code",
   "execution_count": 72,
   "metadata": {},
   "outputs": [
    {
     "data": {
      "text/plain": [
       "(array([0. , 0.2, 0.4, 0.6, 0.8, 1. , 1.2, 1.4, 1.6, 1.8, 2. ]),\n",
       " array([0.5       , 0.82924444, 1.21397499, 1.6487659 , 2.12699053,\n",
       "        2.64055555, 3.17957629, 3.73198028, 4.28302303, 4.81469657,\n",
       "        5.30500719]))"
      ]
     },
     "execution_count": 72,
     "metadata": {},
     "output_type": "execute_result"
    }
   ],
   "source": [
    "f = lambda t, y: y - t ** 2 + 1\n",
    "t_, w_ = Heun(f, 0, 2, 0.5, 0.2)\n",
    "t_, w_"
   ]
  },
  {
   "cell_type": "markdown",
   "metadata": {},
   "source": [
    "# "
   ]
  }
 ],
 "metadata": {
  "kernelspec": {
   "display_name": "Python 3",
   "language": "python",
   "name": "python3"
  },
  "language_info": {
   "codemirror_mode": {
    "name": "ipython",
    "version": 3
   },
   "file_extension": ".py",
   "mimetype": "text/x-python",
   "name": "python",
   "nbconvert_exporter": "python",
   "pygments_lexer": "ipython3",
   "version": "3.9.7"
  }
 },
 "nbformat": 4,
 "nbformat_minor": 2
}
