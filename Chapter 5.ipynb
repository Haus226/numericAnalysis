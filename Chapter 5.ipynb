{
 "cells": [
  {
   "cell_type": "code",
   "execution_count": 93,
   "metadata": {},
   "outputs": [],
   "source": [
    "import numpy as np\n",
    "from typing import Callable, Union, Tuple, List"
   ]
  },
  {
   "cell_type": "markdown",
   "metadata": {},
   "source": [
    "# Initial-Value Problems for Ordinary Differential Equations"
   ]
  },
  {
   "cell_type": "markdown",
   "metadata": {},
   "source": [
    "## Chapter 5.2 Euler's Method\n",
    "Given \n",
    "$$ \\frac{dy}{dt} = f(t, y),\\,\\,\\, a\\leq t\\leq b,\\,\\,\\,y(a)=\\alpha $$\n",
    "and consider\n",
    "$$ t_i = a+ih,\\,\\,\\,i=0,1,2\\cdots,N$$\n",
    "Suppose $y(t)$ has two continuous derivatives on $[a, b]$, then by Taylor's Theorem\n",
    "$$ y(t_{i+1})=y(t_i)+(t_{i+1}-t_i)y'(t_i)+\\frac{(t_{i+1}-t_i)^2}{2}y''(\\xi_i) $$\n",
    "because $h=t_{i+1}-t_i$, then\n",
    "$$ y(t_{i+1})=y(t_i)+hf(t_i,y(t_i))+\\frac{h^2}{2}y''(\\xi_i)$$\n",
    "\n",
    "The definition of $t_i$ and $h$ are the same throughout the context.\n",
    "\n",
    "Euler's method constructs $w_i\\approx y(t_i)$, by deleting the remainder term. In short,\n",
    "$$w_0=\\alpha$$\n",
    "$$w_{i+1}=w_i+hf(t_i, w_i),\\,\\,\\,i=0, 1,\\cdots,N-1$$"
   ]
  },
  {
   "cell_type": "code",
   "execution_count": 94,
   "metadata": {},
   "outputs": [],
   "source": [
    "def Euler(f:Callable[[Union[float, int], Union[float, int]], Union[float, int]],\n",
    "          a:Union[float, int],\n",
    "          b:Union[float, int],\n",
    "          alpha:Union[float, int],\n",
    "          h:Union[float, int]=None,\n",
    "          N:int=None,\n",
    "         ) -> Tuple[List[Union[float, int]], List[Union[float, int]]]:\n",
    "    if (h is None) and (N is None):\n",
    "        raise ValueError(\"h and N cannot be None at the same time\")\n",
    "    elif h is None:\n",
    "        h = (b - a) / N\n",
    "    elif N is None:\n",
    "        N = int((b - a) / h)\n",
    "    t, w = a, alpha\n",
    "    t_, w_ = [a] * (N + 1), [alpha] * (N + 1)\n",
    "    for idx in range(1, N + 1):\n",
    "        w += h * f(t, w)\n",
    "        t = a + idx * h\n",
    "        t_[idx], w_[idx] = t, w\n",
    "    return (t_, w_)"
   ]
  },
  {
   "cell_type": "code",
   "execution_count": 95,
   "metadata": {},
   "outputs": [
    {
     "data": {
      "text/plain": [
       "([0, 0.5, 1.0, 1.5, 2.0], [0.5, 1.25, 2.25, 3.375, 4.4375])"
      ]
     },
     "execution_count": 95,
     "metadata": {},
     "output_type": "execute_result"
    }
   ],
   "source": [
    "f = lambda t, y: y - t ** 2 + 1\n",
    "Euler(f, 0, 2, 0.5, h=0.5)"
   ]
  },
  {
   "cell_type": "code",
   "execution_count": 96,
   "metadata": {},
   "outputs": [
    {
     "data": {
      "text/plain": [
       "([0, 0.25, 0.5, 0.75, 1.0],\n",
       " [1, 1.25, 1.6398053304784268, 2.0242546535964756, 2.2364572532353817])"
      ]
     },
     "execution_count": 96,
     "metadata": {},
     "output_type": "execute_result"
    }
   ],
   "source": [
    "f = lambda t, y: np.cos(2 * t) + np.sin(3 * t)\n",
    "Euler(f, 0, 1, 1, N=4)"
   ]
  },
  {
   "cell_type": "markdown",
   "metadata": {},
   "source": [
    "## Chapter 5.3 Higher-Order Taylor Methods\n",
    "Suppose the solution $y(t)$ to the initial-value problem\n",
    "$$ \\frac{dy}{dt} = f(t, y),\\,\\,\\, a\\leq t\\leq b,\\,\\,\\,y(a)=\\alpha $$\n",
    "has $(n+1)$ continuous derivatives. By its $n$th Taylor polynomial about $t_i$ and evaluate at $t_{i+1}$,\n",
    "$$y(t_{{i+1}})=y(t_i)+hy'(t_i)+\\frac{h^2}{2}y''(t_i)+\\cdots+\\frac{h^n}{n!}y^{(n)}(t_i)+\\frac{h^{n+1}}{(n+1)!}y^{(n+1)}(\\xi_i)$$\n",
    "for some $\\xi_i\\in(t_i, t_{i+1})$\n",
    "Successive differentiation of the solution, $y(t)$ gives\n",
    "$$y'(t)=f(t, y(t)),\\,\\,\\,y''(t)=f'(t, y(t)),\\,\\,\\,\\text{ and generally, }\\,\\,\\, y^{(k)}(t)=f^{(k-1)}(t, y(t))$$\n",
    "Substituting these findings into previous equations gives\n",
    "$$y(t_{{i+1}})=y(t_i)+hf(t_i)+\\frac{h^2}{2}f'(t_i)+\\cdots+\\frac{h^n}{n!}f^{(n - 1)}(t_i)+\\frac{h^{n+1}}{(n+1)!}f^{(n)}(\\xi_i)$$\n",
    "Similar to Euler's method, in short\n",
    "$$w_0=\\alpha$$\n",
    "$$w_{i+1}=w_i+hT^{(n)}(t_i, w_i),\\,\\,\\,i=0,1,\\cdots,N-1$$\n",
    "where\n",
    "$$T^{(n)}(t_i, w_i)=\\sum^{n-1}_{i=0}\\frac{h^{i}}{(i+1)!}f^{(i)}(t_i, w_i)\n",
    "Euler's method is Taylor's method of order one."
   ]
  },
  {
   "cell_type": "code",
   "execution_count": 97,
   "metadata": {},
   "outputs": [],
   "source": [
    "def Taylor(func:List[Callable[[Union[float, int], Union[float, int]], Union[float, int]]],\n",
    "           a:Union[float, int],\n",
    "           b:Union[float, int],\n",
    "           alpha:Union[float, int],\n",
    "           h:Union[float, int]=None,\n",
    "           N:int=None\n",
    "          ) -> Tuple[List[Union[float, int]], List[Union[float, int]]]:\n",
    "    if (h is None) and (N is None):\n",
    "        raise ValueError(\"h and N cannot be None at the same time\")\n",
    "    elif h is None:\n",
    "        h = (b - a) / N\n",
    "    elif N is None:\n",
    "        N = int((b - a) / h)\n",
    "    t, w = a, alpha\n",
    "    t_, w_ = [a] * (N + 1), [alpha] * (N + 1)\n",
    "    factorial = [1] * (len(func) + 1)\n",
    "    for idx in range(2, len(func) + 1):\n",
    "        factorial[idx] = factorial[idx - 1] * (idx)\n",
    "    for idx in range(1, N + 1):\n",
    "        T = sum([(h ** jdx) * f(t, w) / factorial[jdx + 1] for jdx, f in enumerate(func)])\n",
    "        w += h * T\n",
    "        t = a + idx * h\n",
    "        t_[idx], w_[idx] = t, w\n",
    "    return (t_, w_)"
   ]
  },
  {
   "cell_type": "code",
   "execution_count": 98,
   "metadata": {},
   "outputs": [
    {
     "name": "stdout",
     "output_type": "stream",
     "text": [
      "[1, 1, 2]\n"
     ]
    },
    {
     "data": {
      "text/plain": [
       "([0,\n",
       "  0.2,\n",
       "  0.4,\n",
       "  0.6000000000000001,\n",
       "  0.8,\n",
       "  1.0,\n",
       "  1.2000000000000002,\n",
       "  1.4000000000000001,\n",
       "  1.6,\n",
       "  1.8,\n",
       "  2.0],\n",
       " [0.5,\n",
       "  0.8300000000000001,\n",
       "  1.2158000000000002,\n",
       "  1.652076,\n",
       "  2.13233272,\n",
       "  2.6486459183999997,\n",
       "  3.191348020448,\n",
       "  3.7486445849465597,\n",
       "  4.306146393634803,\n",
       "  4.8462986002344595,\n",
       "  5.347684292286041])"
      ]
     },
     "execution_count": 98,
     "metadata": {},
     "output_type": "execute_result"
    }
   ],
   "source": [
    "f = [\n",
    "    lambda t, y: y - t ** 2 + 1,\n",
    "    lambda t, y: y - t ** 2 + 1 - 2 * t\n",
    "]\n",
    "Taylor(f, 0, 2, 0.5, 0.2)"
   ]
  }
 ],
 "metadata": {
  "kernelspec": {
   "display_name": "Python 3",
   "language": "python",
   "name": "python3"
  },
  "language_info": {
   "codemirror_mode": {
    "name": "ipython",
    "version": 3
   },
   "file_extension": ".py",
   "mimetype": "text/x-python",
   "name": "python",
   "nbconvert_exporter": "python",
   "pygments_lexer": "ipython3",
   "version": "3.9.7"
  }
 },
 "nbformat": 4,
 "nbformat_minor": 2
}
