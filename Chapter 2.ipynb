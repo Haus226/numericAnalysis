{
 "cells": [
  {
   "cell_type": "code",
   "execution_count": 801,
   "metadata": {},
   "outputs": [],
   "source": [
    "import numpy as np\n",
    "from typing import Callable, List, Tuple, Union"
   ]
  },
  {
   "cell_type": "markdown",
   "metadata": {},
   "source": [
    "# Solutions of Equations in One Variable"
   ]
  },
  {
   "cell_type": "markdown",
   "metadata": {},
   "source": [
    "## Chapter 2.1 The Bisection Method\n",
    "This method is derived by using _Extreme Value Theorem_ as indicated below\n",
    "\n",
    "### Extreme Value Theorem\n",
    "If $f\\in C[a, b]$, then $c_1, c_2\\in[a, b]$ exist with $f(c_1)\\leq f(x)\\leq f(c_2)$, for all $x\\in[a, b]$. In addition, if $f$ is differentiable on $(a, b)$, then the numbers $c_1$ and $c_2$ occur either at the endpoints of $[a, b]$ or where $f'$ is zero.\n",
    "\n",
    "Given $a, b$ WLOG let $f(a) < 0,f(b) > 0$, then by the _Extreme Value Theorem_ $\\exists x\\in[a, b]$ s.t. $f(a) < f(x) = 0 < f(b)$ since $f(a)<0<f(b)$. This means that $f(a)f(b) < 0 \\implies\\exists x\\in[a, b]\\text{ s.t. }f(x)=0$"
   ]
  },
  {
   "cell_type": "code",
   "execution_count": 802,
   "metadata": {},
   "outputs": [],
   "source": [
    "def bisection(func:Callable[[float], float], left:float, right:float, iterations:int=30, tol:float=1e-5)->List[float]:\n",
    "    if func(left) * func(right) > 0:\n",
    "        raise ValueError(\"Cannot apply Intermidiate Value Theorem\")\n",
    "    prev_p = np.inf \n",
    "    p_ = []\n",
    "    for _ in range(iterations):\n",
    "        p = left + (right - left) / 2\n",
    "        p_.append(p)\n",
    "        if abs(prev_p - p) / p < tol:\n",
    "            return p_\n",
    "        if func(left) * func(p) < 0:\n",
    "            right = p\n",
    "        elif func(p) * func(right) < 0:    \n",
    "            left = p\n",
    "    return p_"
   ]
  },
  {
   "cell_type": "markdown",
   "metadata": {},
   "source": [
    "## Chapter 2.2 Fixed-Point Iteration (FPI)\n",
    "$$g(p)=p$$"
   ]
  },
  {
   "cell_type": "code",
   "execution_count": 803,
   "metadata": {},
   "outputs": [],
   "source": [
    "def FPI(func:Callable[[float], float], init:float, iterations:int=30, tol:float=1e-5)->List[float]:\n",
    "    prev_p = np.inf\n",
    "    p_ = [init]\n",
    "    p = init\n",
    "    for _ in range(iterations):\n",
    "        prev_p = p\n",
    "        p = func(p)\n",
    "        p_.append(p)\n",
    "        if abs(prev_p - p) / p < tol:\n",
    "            return p_"
   ]
  },
  {
   "cell_type": "markdown",
   "metadata": {},
   "source": [
    "## Chapter 2.3 Newton's Method and its Extensions\n",
    "### Newton's Method\n",
    "$$p_n=p_{n-1}-\\frac{f(p_{n-1})}{f'(p_{n-1})}$$"
   ]
  },
  {
   "cell_type": "code",
   "execution_count": 804,
   "metadata": {},
   "outputs": [],
   "source": [
    "def newton(f:Callable[[float], float], df:Callable[[float], float], init:float, iterations:int=30, tol:float=1e-5)->List[float]:\n",
    "    prev_p = np.inf\n",
    "    p_ = [init]\n",
    "    p = init\n",
    "    for _ in range(iterations):\n",
    "        prev_p = p\n",
    "        p -= f(p) / df(p)\n",
    "        p_.append(p)\n",
    "        if abs(prev_p - p) / p < tol:\n",
    "            return p_"
   ]
  },
  {
   "cell_type": "markdown",
   "metadata": {},
   "source": [
    "### Secant Method\n",
    "$$p_n=p_{n-1}-\\frac{f(p_{n-1})(p_{n-1}-p_{n-2})}{f(p_{n-1})-f(p_{n-2})}$$"
   ]
  },
  {
   "cell_type": "code",
   "execution_count": 805,
   "metadata": {},
   "outputs": [],
   "source": [
    "def secant(f:Callable[[float], float], p0:float, p1:float, iterations:int=30, tol:float=1e-5)->List[float]:\n",
    "    prev_p = np.inf\n",
    "    p_ = [p0, p1]\n",
    "    p = p1\n",
    "    for _ in range(iterations):\n",
    "        prev_p = p\n",
    "        p = p1 - (f(p1) * (p1 - p0) / (f(p1) - f(p0)))\n",
    "        p_.append(p)\n",
    "        if abs(prev_p - p) / p < tol:\n",
    "            return p_\n",
    "        p0 = p1\n",
    "        p1 = p\n",
    "    return p_"
   ]
  },
  {
   "cell_type": "markdown",
   "metadata": {},
   "source": [
    "### False Position\n",
    "The method of _False Position_ generates approximations\n",
    "in the same manner as the Secant method, but it includes a test to ensure that the root is\n",
    "always bracketed between successive iterations (_Extreme Value Theorem_). Although it is not a method we generally\n",
    "recommend, it illustrates how bracketing can be incorporated."
   ]
  },
  {
   "cell_type": "code",
   "execution_count": 806,
   "metadata": {},
   "outputs": [],
   "source": [
    "def falsePosition(f:Callable[[float], float], p0:float, p1:float, iterations:int=30, tol:float=1e-5)->List[float]:\n",
    "    prev_p = np.inf\n",
    "    p_ = [p0, p1]\n",
    "    p = p1\n",
    "    for _ in range(iterations):\n",
    "        prev_p = p\n",
    "        p = p1 - (f(p1) * (p1 - p0) / (f(p1) - f(p0)))\n",
    "        p_.append(p)\n",
    "        if abs(prev_p - p) / p < tol:\n",
    "            return p_\n",
    "        if f(p) * f(p1) < 0:\n",
    "            p0 = p1\n",
    "        p1 = p\n",
    "    return p_"
   ]
  },
  {
   "cell_type": "code",
   "execution_count": 807,
   "metadata": {},
   "outputs": [
    {
     "name": "stdout",
     "output_type": "stream",
     "text": [
      "[0.5, 0.7853981633974483, 0.7363841388365822, 0.7390581392138897, 0.7390848638147098, 0.7390851305265789]\n",
      "[0.5, 0.7853981633974483, 0.7363841388365822, 0.7390581392138897, 0.7390851493372764, 0.7390851332150645]\n",
      "[0.7853981633974483, 0.7395361335152383, 0.7390851781060102, 0.739085133215161]\n"
     ]
    }
   ],
   "source": [
    "import math\n",
    "\n",
    "f = lambda x: x - math.cos(x)\n",
    "g = lambda x: 1 + math.sin(x)\n",
    "\n",
    "print(falsePosition(f, 0.5, math.pi / 4, iterations=10))\n",
    "print(secant(f, 0.5, math.pi / 4, iterations=10))\n",
    "print(newton(f, g, math.pi / 4, iterations=10))"
   ]
  },
  {
   "cell_type": "markdown",
   "metadata": {},
   "source": [
    "## Chapter 2.6 Zeros of Polynomials and Muller's Method\n",
    "### Horner's Method\n",
    "Let\n",
    "$$ P(x) = a_nx^n+a_{n-1}+x^{n-1}+\\cdots+a_1x+a_0 $$\n",
    "Define $b_n=a_n$ and\n",
    "$$ b_k=a_k+b_{k+1}x_0,\\,\\,\\,\\text{for }k=n-1, n-2\\cdots,1, 0$$\n",
    "Then $b_0=P(x_0)$.Moreover, if\n",
    "$$ Q(x)=b_nx^{n-1}+b_{n-1}x^{n-2}+\\cdots+b_2x+b_1$$\n",
    "Then \n",
    "$$ P(x) = (x-x_0)Q(x)+b_0 $$\n",
    "Cooperate with _Newton's Method_ to find the zeros of polynomials."
   ]
  },
  {
   "cell_type": "code",
   "execution_count": 808,
   "metadata": {},
   "outputs": [],
   "source": [
    "def Horner(coef:Union[np.ndarray, List[Union[int, float]]], \n",
    "           x0:Union[float, int]) -> List[Union[float, int, np.ndarray]]:\n",
    "    coef_ = np.copy(coef).astype(float)\n",
    "    f_ = np.zeros(len(coef_) - 1, dtype=float)\n",
    "    f = coef_[-1]\n",
    "    fp = coef_[-1]\n",
    "    f_[-1] = coef_[-1]\n",
    "    for jdx in range(len(coef_) - 2, 0, -1):\n",
    "        f = x0 * f + coef_[jdx]\n",
    "        f_[jdx - 1] = f\n",
    "        fp = x0 * fp + f\n",
    "    f = x0 * f + coef_[0]\n",
    "    # f_[0] = f\n",
    "    return [f, fp, f_]"
   ]
  },
  {
   "cell_type": "code",
   "execution_count": 809,
   "metadata": {},
   "outputs": [
    {
     "data": {
      "text/plain": [
       "[10.0, -49.0, array([-7.,  5., -4.,  2.])]"
      ]
     },
     "execution_count": 809,
     "metadata": {},
     "output_type": "execute_result"
    }
   ],
   "source": [
    "Horner([-4, 3, -3, 0, 2], -2)"
   ]
  },
  {
   "cell_type": "code",
   "execution_count": 810,
   "metadata": {},
   "outputs": [],
   "source": [
    "import cmath\n",
    "def hornerNewton(coef:Union[np.ndarray, List[Union[int, float]]], \n",
    "                 x0:Union[float, int],\n",
    "                 iterations:int=100,\n",
    "                 tol:float=1e-6) -> List[Union[float, int]]:\n",
    "    p = x0\n",
    "    roots = []\n",
    "    coef_ = np.copy(coef).astype(float)\n",
    "    for _ in range(len(coef) - 1):\n",
    "        if len(coef_) == 3:\n",
    "            break\n",
    "        # Newton's Method to approximate zeros\n",
    "        prev_p = np.inf\n",
    "        for _ in range(iterations):\n",
    "            prev_p = p\n",
    "            f, fp, _ = Horner(coef_, p)\n",
    "            p -= f / fp\n",
    "            if np.abs(prev_p - p) < tol:\n",
    "                break\n",
    "        # Horner's Method to divide the original polynomial\n",
    "        # by the approximated zero\n",
    "        f, fp, coef_ = Horner(coef_, p)\n",
    "        roots.append(p)\n",
    "    r1 = (-coef_[1] + cmath.sqrt(coef_[1] ** 2 - 4 * coef_[0] * coef_[2])) / (2 * coef_[2])\n",
    "    r2 = (-coef_[1] - cmath.sqrt(coef_[1] ** 2 - 4 * coef_[0] * coef_[2])) / (2 * coef_[2])\n",
    "    roots.extend([r1, r2])\n",
    "    return roots"
   ]
  },
  {
   "cell_type": "code",
   "execution_count": 811,
   "metadata": {},
   "outputs": [
    {
     "data": {
      "text/plain": [
       "[7.0,\n",
       " 3.0000000000000004,\n",
       " 2.0000000000000013,\n",
       " -3.0000000000000107,\n",
       " (-4.999999999999992+0j),\n",
       " (-7.999999999999997+0j)]"
      ]
     },
     "execution_count": 811,
     "metadata": {},
     "output_type": "execute_result"
    }
   ],
   "source": [
    "hornerNewton([-5040, 1602, 1127, -214, -72, 4, 1], 8)"
   ]
  },
  {
   "cell_type": "code",
   "execution_count": 812,
   "metadata": {},
   "outputs": [
    {
     "data": {
      "text/plain": [
       "[-1.738956256451892,\n",
       " 1.2548818848342944,\n",
       " (0.24203718580879874+0.926245487267532j),\n",
       " (0.24203718580879874-0.926245487267532j)]"
      ]
     },
     "execution_count": 812,
     "metadata": {},
     "output_type": "execute_result"
    }
   ],
   "source": [
    "hornerNewton([-4, 3, -3, 0, 2], -2)"
   ]
  },
  {
   "cell_type": "markdown",
   "metadata": {},
   "source": [
    "### Muller's Method\n",
    "Müller’s method is similar to the\n",
    "Secant method. But whereas the\n",
    "Secant method uses a line\n",
    "through two points on the curve\n",
    "to approximate the root, Müller’s\n",
    "method uses a parabola through three points on the curve for the approximation."
   ]
  },
  {
   "cell_type": "code",
   "execution_count": 813,
   "metadata": {},
   "outputs": [],
   "source": [
    "import cmath\n",
    "Muller_Params = Union[complex, float]\n",
    "def Muller(f:Callable[[Muller_Params], float], \n",
    "           p0:Muller_Params, p1:Muller_Params, p2:Muller_Params, \n",
    "           iterations:int=20, tol:float=1e-5) -> Muller_Params:\n",
    "    for _ in range(iterations):\n",
    "        h1 = p1 - p0\n",
    "        h2 = p2 - p1\n",
    "        delta1 = (f(p1) - f(p0)) / h1\n",
    "        delta2 = (f(p2) - f(p1)) / h2\n",
    "        d = (delta2 - delta1) / (h2 + h1)\n",
    "        b = delta2 + h2 * d\n",
    "        D = cmath.sqrt(b ** 2 - 4 * f(p2) * d)\n",
    "        denoms = [b + D, b - D]\n",
    "        if np.abs(h := -2 * f(p2)) < tol:\n",
    "            return p\n",
    "        p = p2 + h / max(denoms, key=abs)\n",
    "        p0, p1, p2 = p1, p2, p\n",
    "    return p"
   ]
  },
  {
   "cell_type": "code",
   "execution_count": 814,
   "metadata": {},
   "outputs": [
    {
     "name": "stdout",
     "output_type": "stream",
     "text": [
      "(-0.33909283338402885+0.44663010055724217j)\n",
      "(1.389389619617081+0j)\n",
      "(2.288794993947653+0j)\n"
     ]
    }
   ],
   "source": [
    "f = lambda x: x ** 4 - 3 * x ** 3 + x ** 2 + x + 1\n",
    "print(Muller(f, 0.5, -0.5, 0))\n",
    "print(Muller(f, 0.5, 1, 1.5))\n",
    "print(Muller(f, 1.5, 2, 2.5))"
   ]
  }
 ],
 "metadata": {
  "kernelspec": {
   "display_name": "Python 3",
   "language": "python",
   "name": "python3"
  },
  "language_info": {
   "codemirror_mode": {
    "name": "ipython",
    "version": 3
   },
   "file_extension": ".py",
   "mimetype": "text/x-python",
   "name": "python",
   "nbconvert_exporter": "python",
   "pygments_lexer": "ipython3",
   "version": "3.9.7"
  }
 },
 "nbformat": 4,
 "nbformat_minor": 2
}
