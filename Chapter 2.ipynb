{
 "cells": [
  {
   "cell_type": "code",
   "execution_count": 79,
   "metadata": {},
   "outputs": [],
   "source": [
    "import numpy as np\n",
    "from typing import Callable, List"
   ]
  },
  {
   "cell_type": "markdown",
   "metadata": {},
   "source": [
    "# Bisection Method\n",
    "This method is derived by using _Extreme Value Theorem_ as indicated below\n",
    "\n",
    "## Extreme Value Theorem\n",
    "If $f\\in C[a, b]$, then $c_1, c_2\\in[a, b]$ exist with $f(c_1)\\leq f(x)\\leq f(c_2)$, for all $x\\in[a, b]$. In addition, if $f$ is differentiable on $(a, b)$, then the numbers $c_1$ and $c_2$ occur either at the endpoints of $[a, b]$ or where $f'$ is zero.\n",
    "\n",
    "Given $a, b$ WLOG let $f(a) < 0,f(b) > 0$, then by the _Extreme Value Theorem_ $\\exist x\\in[a, b]$ s.t. $f(a) < f(x) = 0 < f(b)$ since $f(a)<0<f(b)$. This means that $f(a)f(b) < 0 \\implies\\exist x\\in[a, b]\\text{ s.t. }f(x)=0$"
   ]
  },
  {
   "cell_type": "code",
   "execution_count": 80,
   "metadata": {},
   "outputs": [],
   "source": [
    "def bisection(func:Callable[[float], float], left:float, right:float, iterations:int=30, tol:float=1e-5)->List[float]:\n",
    "    if func(left) * func(right) > 0:\n",
    "        raise ValueError(\"Cannot apply Intermidiate Value Theorem\")\n",
    "    prev_p = np.inf \n",
    "    p_ = []\n",
    "    for _ in range(iterations):\n",
    "        p = left + (right - left) / 2\n",
    "        p_.append(p)\n",
    "        if abs(prev_p - p) / p < tol:\n",
    "            return p_\n",
    "        if func(left) * func(p) < 0:\n",
    "            right = p\n",
    "        elif func(p) * func(right) < 0:    \n",
    "            left = p\n",
    "    return p_"
   ]
  },
  {
   "cell_type": "markdown",
   "metadata": {},
   "source": [
    "# Fixed Point Iteration (FPI)\n",
    "$$g(p)=p$$"
   ]
  },
  {
   "cell_type": "code",
   "execution_count": 81,
   "metadata": {},
   "outputs": [],
   "source": [
    "def FPI(func:Callable[[float], float], init:float, iterations:int=30, tol:float=1e-5)->List[float]:\n",
    "    prev_p = np.inf\n",
    "    p_ = [init]\n",
    "    p = init\n",
    "    for _ in range(iterations):\n",
    "        prev_p = p\n",
    "        p = func(p)\n",
    "        p_.append(p)\n",
    "        if abs(prev_p - p) / p < tol:\n",
    "            return p_"
   ]
  },
  {
   "cell_type": "markdown",
   "metadata": {},
   "source": [
    "# Newton's Method\n",
    "$$p_n=p_{n-1}-\\frac{f(p_{n-1})}{f'(p_{n-1})}$$"
   ]
  },
  {
   "cell_type": "code",
   "execution_count": 82,
   "metadata": {},
   "outputs": [],
   "source": [
    "def newton(f:Callable[[float], float], df:Callable[[float], float], init:float, iterations:int=30, tol:float=1e-5)->List[float]:\n",
    "    prev_p = np.inf\n",
    "    p_ = [init]\n",
    "    p = init\n",
    "    for _ in range(iterations):\n",
    "        prev_p = p\n",
    "        p -= f(p) / df(p)\n",
    "        p_.append(p)\n",
    "        if abs(prev_p - p) / p < tol:\n",
    "            return p_"
   ]
  },
  {
   "cell_type": "markdown",
   "metadata": {},
   "source": [
    "# Secant Method\n",
    "$$p_n=p_{n-1}-\\frac{f(p_{n-1})(p_{n-1}-p_{n-2})}{f(p_{n-1})-f(p_{n-2})}$$"
   ]
  },
  {
   "cell_type": "code",
   "execution_count": 83,
   "metadata": {},
   "outputs": [],
   "source": [
    "def secant(f:Callable[[float], float], p0:float, p1:float, iterations:int=30, tol:float=1e-5)->List[float]:\n",
    "    prev_p = np.inf\n",
    "    p_ = [p0, p1]\n",
    "    p = p1\n",
    "    for _ in range(iterations):\n",
    "        prev_p = p\n",
    "        p = p1 - (f(p1) * (p1 - p0) / (f(p1) - f(p0)))\n",
    "        p_.append(p)\n",
    "        if abs(prev_p - p) / p < tol:\n",
    "            return p_\n",
    "        p0 = p1\n",
    "        p1 = p\n",
    "    return p_"
   ]
  },
  {
   "cell_type": "markdown",
   "metadata": {},
   "source": [
    "# False Position\n",
    "The method of _False Position_ generates approximations\n",
    "in the same manner as the Secant method, but it includes a test to ensure that the root is\n",
    "always bracketed between successive iterations (_Extreme Value Theorem_). Although it is not a method we generally\n",
    "recommend, it illustrates how bracketing can be incorporated."
   ]
  },
  {
   "cell_type": "code",
   "execution_count": 84,
   "metadata": {},
   "outputs": [],
   "source": [
    "def falsePosition(f:Callable[[float], float], p0:float, p1:float, iterations:int=30, tol:float=1e-5)->List[float]:\n",
    "    prev_p = np.inf\n",
    "    p_ = [p0, p1]\n",
    "    p = p1\n",
    "    for _ in range(iterations):\n",
    "        prev_p = p\n",
    "        p = p1 - (f(p1) * (p1 - p0) / (f(p1) - f(p0)))\n",
    "        p_.append(p)\n",
    "        if abs(prev_p - p) / p < tol:\n",
    "            return p_\n",
    "        if f(p) * f(p1) < 0:\n",
    "            p0 = p1\n",
    "        p1 = p\n",
    "    return p_"
   ]
  },
  {
   "cell_type": "code",
   "execution_count": 85,
   "metadata": {},
   "outputs": [
    {
     "name": "stdout",
     "output_type": "stream",
     "text": [
      "[0.5, 0.7853981633974483, 0.7363841388365822, 0.7390581392138897, 0.7390848638147098, 0.7390851305265789]\n",
      "[0.5, 0.7853981633974483, 0.7363841388365822, 0.7390581392138897, 0.7390851493372764, 0.7390851332150645]\n",
      "[0.7853981633974483, 0.7395361335152383, 0.7390851781060102, 0.739085133215161]\n"
     ]
    }
   ],
   "source": [
    "import math\n",
    "\n",
    "f = lambda x: x - math.cos(x)\n",
    "g = lambda x: 1 + math.sin(x)\n",
    "\n",
    "print(falsePosition(f, 0.5, math.pi / 4, iterations=10))\n",
    "print(secant(f, 0.5, math.pi / 4, iterations=10))\n",
    "print(newton(f, g, math.pi / 4, iterations=10))\n",
    "\n"
   ]
  }
 ],
 "metadata": {
  "kernelspec": {
   "display_name": "Python 3",
   "language": "python",
   "name": "python3"
  },
  "language_info": {
   "codemirror_mode": {
    "name": "ipython",
    "version": 3
   },
   "file_extension": ".py",
   "mimetype": "text/x-python",
   "name": "python",
   "nbconvert_exporter": "python",
   "pygments_lexer": "ipython3",
   "version": "3.9.7"
  }
 },
 "nbformat": 4,
 "nbformat_minor": 2
}
