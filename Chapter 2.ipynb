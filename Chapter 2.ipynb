{
 "cells": [
  {
   "cell_type": "code",
   "execution_count": 957,
   "metadata": {},
   "outputs": [],
   "source": [
    "import numpy as np\n",
    "from typing import Callable, List, Tuple, Union"
   ]
  },
  {
   "cell_type": "markdown",
   "metadata": {},
   "source": [
    "# Solutions of Equations in One Variable"
   ]
  },
  {
   "cell_type": "markdown",
   "metadata": {},
   "source": [
    "## Chapter 2.1 The Bisection Method\n",
    "This method is derived by using _Extreme Value Theorem_ as indicated below\n",
    "\n",
    "### Extreme Value Theorem\n",
    "If $f\\in C[a, b]$, then $c_1, c_2\\in[a, b]$ exist with $f(c_1)\\leq f(x)\\leq f(c_2)$, for all $x\\in[a, b]$. In addition, if $f$ is differentiable on $(a, b)$, then the numbers $c_1$ and $c_2$ occur either at the endpoints of $[a, b]$ or where $f'$ is zero.\n",
    "\n",
    "Given $a, b$ WLOG let $f(a) < 0,f(b) > 0$, then by the _Extreme Value Theorem_ $\\exists x\\in[a, b]$ s.t. $f(a) < f(x) = 0 < f(b)$ since $f(a)<0<f(b)$. This means that $f(a)f(b) < 0 \\implies\\exists x\\in[a, b]\\text{ s.t. }f(x)=0$"
   ]
  },
  {
   "cell_type": "code",
   "execution_count": 958,
   "metadata": {},
   "outputs": [],
   "source": [
    "def Bisection(func:Callable[[float], float], \n",
    "              left:float, \n",
    "              right:float, \n",
    "              iterations:int=30, \n",
    "              tol:float=1e-5)->List[float]:\n",
    "    if func(left) * func(right) > 0:\n",
    "        raise ValueError(\"Cannot apply Intermidiate Value Theorem\")\n",
    "    prev_p = np.inf \n",
    "    p_ = []\n",
    "    for _ in range(iterations):\n",
    "        p = left + (right - left) / 2\n",
    "        p_.append(p)\n",
    "        if abs(prev_p - p) < tol:\n",
    "            return p_\n",
    "        if func(left) * func(p) < 0:\n",
    "            right = p\n",
    "        elif func(p) * func(right) < 0:    \n",
    "            left = p\n",
    "    return p_"
   ]
  },
  {
   "cell_type": "markdown",
   "metadata": {},
   "source": [
    "## Chapter 2.2 Fixed-Point Iteration (FPI)\n",
    "$$p_{n+1}=g(p)$$"
   ]
  },
  {
   "cell_type": "code",
   "execution_count": 959,
   "metadata": {},
   "outputs": [],
   "source": [
    "def FPI(func:Callable[[float], float], \n",
    "        init:float, \n",
    "        iterations:int=30, \n",
    "        tol:float=1e-5)->List[float]:\n",
    "    prev_p = np.inf\n",
    "    p_ = [init]\n",
    "    p = init\n",
    "    for _ in range(iterations):\n",
    "        prev_p = p\n",
    "        p = func(p)\n",
    "        p_.append(p)\n",
    "        if abs(prev_p - p) < tol:\n",
    "            return p_\n",
    "    return p_"
   ]
  },
  {
   "cell_type": "markdown",
   "metadata": {},
   "source": [
    "## Chapter 2.3 Newton's Method and its Extensions\n",
    "### Newton's Method\n",
    "$$p_n=p_{n-1}-\\frac{f(p_{n-1})}{f'(p_{n-1})}$$"
   ]
  },
  {
   "cell_type": "code",
   "execution_count": 960,
   "metadata": {},
   "outputs": [],
   "source": [
    "def Newton(f:Callable[[float], float], \n",
    "           df:Callable[[float], float], \n",
    "           init:float, \n",
    "           iterations:int=30, \n",
    "           tol:float=1e-5)->List[float]:\n",
    "    prev_p = np.inf\n",
    "    p_ = [init]\n",
    "    p = init\n",
    "    for _ in range(iterations):\n",
    "        prev_p = p\n",
    "        p -= f(p) / df(p)\n",
    "        p_.append(p)\n",
    "        if abs(prev_p - p) < tol:\n",
    "            return p_\n",
    "    return p_"
   ]
  },
  {
   "cell_type": "markdown",
   "metadata": {},
   "source": [
    "### Secant Method\n",
    "$$p_n=p_{n-1}-\\frac{f(p_{n-1})(p_{n-1}-p_{n-2})}{f(p_{n-1})-f(p_{n-2})}$$"
   ]
  },
  {
   "cell_type": "code",
   "execution_count": 961,
   "metadata": {},
   "outputs": [],
   "source": [
    "def Secant(f:Callable[[float], float], \n",
    "           p0:float, \n",
    "           p1:float, \n",
    "           iterations:int=30, \n",
    "           tol:float=1e-5)->List[float]:\n",
    "    prev_p = np.inf\n",
    "    p_ = [p0, p1]\n",
    "    p = p1\n",
    "    for _ in range(iterations):\n",
    "        prev_p = p\n",
    "        p = p1 - (f(p1) * (p1 - p0) / (f(p1) - f(p0)))\n",
    "        p_.append(p)\n",
    "        if abs(prev_p - p) < tol:\n",
    "            return p_\n",
    "        p0 = p1\n",
    "        p1 = p\n",
    "    return p_"
   ]
  },
  {
   "cell_type": "markdown",
   "metadata": {},
   "source": [
    "### False Position\n",
    "The method of _False Position_ generates approximations\n",
    "in the same manner as the Secant method, but it includes a test to ensure that the root is\n",
    "always bracketed between successive iterations (_Extreme Value Theorem_). Although it is not a method we generally\n",
    "recommend, it illustrates how bracketing can be incorporated."
   ]
  },
  {
   "cell_type": "code",
   "execution_count": 962,
   "metadata": {},
   "outputs": [],
   "source": [
    "def FalsePosition(f:Callable[[float], float], \n",
    "                  p0:float, \n",
    "                  p1:float, \n",
    "                  iterations:int=30, \n",
    "                  tol:float=1e-5)->List[float]:\n",
    "    prev_p = np.inf\n",
    "    p_ = [p0, p1]\n",
    "    p = p1\n",
    "    for _ in range(iterations):\n",
    "        prev_p = p\n",
    "        p = p1 - (f(p1) * (p1 - p0) / (f(p1) - f(p0)))\n",
    "        p_.append(p)\n",
    "        if abs(prev_p - p) < tol:\n",
    "            return p_\n",
    "        if f(p) * f(p1) < 0:\n",
    "            p0 = p1\n",
    "        p1 = p\n",
    "    return p_"
   ]
  },
  {
   "cell_type": "code",
   "execution_count": 963,
   "metadata": {},
   "outputs": [
    {
     "name": "stdout",
     "output_type": "stream",
     "text": [
      "[0.5, 0.7853981633974483, 0.7363841388365822, 0.7390581392138897, 0.7390848638147098, 0.7390851305265789]\n",
      "[0.5, 0.7853981633974483, 0.7363841388365822, 0.7390581392138897, 0.7390851493372764, 0.7390851332150645]\n",
      "[0.7853981633974483, 0.7395361335152383, 0.7390851781060102, 0.739085133215161]\n"
     ]
    }
   ],
   "source": [
    "import math\n",
    "\n",
    "f = lambda x: x - math.cos(x)\n",
    "g = lambda x: 1 + math.sin(x)\n",
    "\n",
    "print(FalsePosition(f, 0.5, math.pi / 4, iterations=10))\n",
    "print(Secant(f, 0.5, math.pi / 4, iterations=10))\n",
    "print(Newton(f, g, math.pi / 4, iterations=10))"
   ]
  },
  {
   "cell_type": "markdown",
   "metadata": {},
   "source": [
    "## Chapter 2.4 Error Analysis for Iterative Methods\n",
    "### Order of Convergence\n",
    "Suppose $\\{p_n\\}_n^\\infty$ is a p that converges to $p$, with $p_n\\neq p$ for all $n$. If positive constants $\\lambda$ and $\\alpha$ exist with\n",
    "\n",
    "$$\n",
    "\\lim_{n\\to\\infty}\\frac{|p_{n+1}-p|}{|p_n-p|^{\\alpha}}=\\lambda\n",
    "$$\n",
    "then $\\{p_n\\}_n^\\infty$ __converges to__ $\\textbf{p}$ __of order__ $\\bf{\\alpha}$, __with asymptotic error constant__ $\\bf{\\lambda}$\n",
    "\n",
    "i) If $\\alpha=1$ (and $\\lambda < 1$), the p is __linearly convergent__.\n",
    "\n",
    "ii) If $\\alpha=2$ (and $\\lambda < 1$), the p is __quadratically convergent__.\n",
    "\n",
    "### Multiple Roots\n",
    "A solution $p$ of $f(x)=0$ is a __zero of multiplicity__ $m$ of $f$ if for $x\\neq p$, we can write $f(x)=(x-p)^mq(x)$, where $\\lim_{x\\to p}q(x)\\neq0$. Those that have multiplicity one are identified __simple__ zeros.\n",
    "\n",
    "The function $f\\in C^1[a, b]$ has a simple zero at $p$ in $(a, b)$ iff $f(p)=0$ but $f'(p)\\neq0$\n",
    "\n",
    "If $f$ has a simple zero at $p$ then [Newton's Method](#newtons-method) converges at least quadratically.\n",
    "\n",
    "The above statement can be generalized as\n",
    "below\n",
    "\n",
    "The function $f\\in C^m[a, b]$ has a zero of multiplicity $m$ at $p$ in $(a, b)$ iff \n",
    "$$\n",
    "0=f(p)=f'(p)=f''(p)=\\cdots=f^{(m-1)}(p),\\,\\,\\,\\text{but}\\,\\,\\,f^{(m)}(p)\\neq0\n",
    "$$"
   ]
  },
  {
   "cell_type": "markdown",
   "metadata": {},
   "source": [
    "### Modified Newton's Method\n",
    "To handle the problem of multiple roots of a function, __Modified Newton's Method__ is proposed as following:\n",
    "$$\n",
    "g(x)=x-\\frac{f(x)f'(x)}{[f'(x)]^2-f(x)f''(x)}\n",
    "$$"
   ]
  },
  {
   "cell_type": "code",
   "execution_count": 964,
   "metadata": {},
   "outputs": [],
   "source": [
    "def ModifiedNewton(f:Callable[[float], float], \n",
    "                   df:Callable[[float], float], \n",
    "                   ddf:Callable[[float], float], \n",
    "                   init:float, \n",
    "                   iterations:int=30, \n",
    "                   tol:float=1e-5)->List[float]:\n",
    "    prev_p = np.inf\n",
    "    p_ = [init]\n",
    "    p = init\n",
    "    for _ in range(iterations):\n",
    "        prev_p = p\n",
    "        p -= (f(p) * df(p)) / (df(p) ** 2 - f(p) * ddf(p))\n",
    "        p_.append(p)\n",
    "        if abs(prev_p - p) < tol:\n",
    "            return p_\n",
    "    return p_"
   ]
  },
  {
   "cell_type": "code",
   "execution_count": 965,
   "metadata": {},
   "outputs": [
    {
     "data": {
      "text/plain": [
       "([1,\n",
       "  0.5819767068693265,\n",
       "  0.31905504091081843,\n",
       "  0.16799617288577048,\n",
       "  0.08634887374778137,\n",
       "  0.04379570367371408],\n",
       " [1,\n",
       "  -0.23421061355351425,\n",
       "  -0.00845827991076109,\n",
       "  -1.1890183808588653e-05,\n",
       "  -4.218590698935789e-11,\n",
       "  -4.218590698935789e-11])"
      ]
     },
     "execution_count": 965,
     "metadata": {},
     "output_type": "execute_result"
    }
   ],
   "source": [
    "# Example 1 and 2\n",
    "f = lambda x: np.exp(x) - x - 1\n",
    "df = lambda x: np.exp(x) - 1\n",
    "ddf = lambda x: np.exp(x)\n",
    "\n",
    "Newton(f, df, 1, 5), ModifiedNewton(f, df, ddf, 1, 5)"
   ]
  },
  {
   "cell_type": "code",
   "execution_count": 966,
   "metadata": {},
   "outputs": [
    {
     "data": {
      "text/plain": [
       "([1.5, 1.3733333333333333, 1.3652620148746266, 1.3652300139161466],\n",
       " [1.5, 1.3568989756979313, 1.3651958490280898, 1.3652300128418653])"
      ]
     },
     "execution_count": 966,
     "metadata": {},
     "output_type": "execute_result"
    }
   ],
   "source": [
    "# Illustration when the case is simple zero\n",
    "f = lambda x: x ** 3 + 4 * x ** 2 - 10\n",
    "df = lambda x: 3 * x ** 2 + 8 * x\n",
    "ddf = lambda x: 6 * x + 8\n",
    "Newton(f, df, 1.5, 3), ModifiedNewton(f, df, ddf, 1.5, 3)"
   ]
  },
  {
   "cell_type": "markdown",
   "metadata": {},
   "source": [
    "## Chapter 2.5 Accelerating Convergence\n",
    "### Aitken's $\\Delta^2$ Method\n",
    "Suppose $\\{p_n\\}_{n=0}^\\infty$ is a linearly convergent p with limit $p$. To construct a p $\\{\\hat{p}_n\\}_{n=0}^\\infty$ that converges more rapidly to $p$, let us first assume that the signs of $p_n-p$, $p_{n+1}-p$, and $p_{n+2}-p$ agree and that $n$ is sufficiently large that\n",
    "\n",
    "$$\n",
    "\\frac{p_{n+1}-p}{p_n-p}\\approx\\frac{p_{n+2}-p}{p_{n+1}-p}\n",
    "$$\n",
    "\n",
    "then\n",
    "\n",
    "$$\n",
    "p\\approx\\frac{p_{n+2}p_n-p_{n+1}^2}{p_{n+2}-2p_{n+1}+p_n}\n",
    "$$\n",
    "\n",
    "Adding the subtracting the terms $p^2_n$ and $2p_np_{n+1}$ in the numerator and grouping terms appropriately gives\n",
    "\n",
    "$$\n",
    "\n",
    "\\begin{split}\n",
    "p\\approx\\frac{p_np_{n+2}-2p_np_{n+1}+p_n^2-p_{n+1}^2+2p_np_{n+1}-p_{n}^2}{p_{n+2}-2p_{n+1}+p_n} \\\\\n",
    "=\\frac{p_n(p_{n+2}-2p_{n+1}+p_n)-(p_{n+1}^2-2p_np_{n+1}+p_{n}^2)}{p_{n+2}-2p_{n+1}+p_n} \\\\\n",
    "=p_n-\\frac{(p_{n+1}-p_n)^2}{p_{n+2}-2p_{n+1}+p_n}\n",
    "\\end{split}\n",
    "$$\n",
    "\n",
    "__Aitken's__ $\\bf{\\Delta^2}$ __method__ is based on assumption that the p $\\{\\hat{p}_n\\}_{n=0}^\\infty$, defined by\n",
    "$$\n",
    "\\hat{p}_n=p_n-\\frac{(p_{n+1}-p_n)^2}{p_{n+2}-2p_{n+1}+p_n}\n",
    "$$\n",
    "converges more rapidly to $p$ than the original p $\\{p_n\\}_{n=0}^\\infty$\n",
    "\n",
    "By introducing __forward difference__, $\\Delta p_n$\n",
    "$$\n",
    "    \\Delta p_n=p_{n+1}-p_n\\,\\,\\,n\\geq0\n",
    "$$\n",
    "$$\n",
    "    \\Delta^kp_n=\\Delta(\\Delta^{k-1}p_n)\\,\\,\\,k\\geq2\n",
    "$$\n",
    "The __Aitken's__ $\\bf{\\Delta^2}$ __method__ can be written as\n",
    "$$\n",
    "    \\hat{p}_n=p_n-\\frac{(\\Delta p_n)^2}{\\Delta^2p_n}\n",
    "$$\n",
    "\n",
    "where the p constructed as below:\n",
    "$$\n",
    "    p_0,\\,\\,p_1=g(p_0),\\,\\,p_2=g(p_1),\\,\\,\\hat{p}_0=\\{\\Delta^2\\}(p_0),\\,\\,p_3=g(p_2),\\,\\,\\hat{p}_1=\\{\\Delta^2\\}(p_1),\\,\\,\\cdots\n",
    "$$\n",
    "\n",
    "### Steffensen's Method\n",
    "There is another method, __Steffensen's Method__ which using the same formula but construct the p terms differently compared to  __Aitken's__ $\\bf{\\Delta^2}$ __method__. The construction is as below:\n",
    "\n",
    "$$\n",
    "p_0^{(0)},\\,\\,p_1^{(0)}=g(p_0^{(0)}),\\,\\,p_2^{(0)}=g(p_1^{(0)}),\\,\\,p_0^{(1)}=\\{\\Delta^2\\}(p_0^{(0)}),\\,\\,p_1^{(1)}=g(p_0^{(1)})\n",
    "$$\n",
    "\n",
    "where $\\Delta^2$ is the __Aitken's Operator__"
   ]
  },
  {
   "cell_type": "code",
   "execution_count": 967,
   "metadata": {},
   "outputs": [],
   "source": [
    "def Aitken(f:Callable[[float], float], \n",
    "           init:float, \n",
    "           iterations:int=30, \n",
    "           tol:float=1e-5)->List[float]:\n",
    "    prev_p = np.inf\n",
    "    p_ = [init]\n",
    "    p0 = init\n",
    "\n",
    "    for _ in range(iterations):\n",
    "        print(p0)\n",
    "        prev_p = p0\n",
    "        if _ % 3 == 0:\n",
    "            p1 = f(p0)\n",
    "            p2 = f(p1)\n",
    "        elif _ % 3 == 1:\n",
    "            p0 = p1\n",
    "            p1 = p2\n",
    "            p2 = f(p1)\n",
    "        else:\n",
    "            p1 = p0\n",
    "            p0 = p2\n",
    "            p2 = f(p1)\n",
    "        p0 -= (p1 - p0) ** 2 / (p2 - 2 * p1 + p0)\n",
    "        p_.append(p0)\n",
    "        if abs(p0 - prev_p) < tol:\n",
    "            return p_\n",
    "    return p_\n",
    "\n",
    "def Steffensen(f:Callable[[float], float], \n",
    "               init:float,\n",
    "               iterations:int=30, \n",
    "               tol:float=1e-5)->List[float]:\n",
    "    prev_p = np.inf\n",
    "    p_ = [init]\n",
    "    p = init\n",
    "    for _ in range(iterations):\n",
    "        prev_p = p\n",
    "        p1 = f(p)\n",
    "        p2 = f(p1)\n",
    "        p -= (p1 - p) ** 2 / (p2 - 2 * p1 + p)\n",
    "        p_.append(p)\n",
    "        if abs(prev_p - p) < tol:\n",
    "            return p_\n",
    "    return p_\n",
    "\n",
    "def AitkenSeq(p:Union[List[Union[float, int]], np.ndarray]):\n",
    "    n = len(p)\n",
    "    if n < 3:\n",
    "        raise ValueError(\"p length must be at least 3\")\n",
    "    \n",
    "    p_hat = [0] * (n - 2)\n",
    "    for idx in range(n - 2):\n",
    "        p_hat[idx] = p[idx] - ((p[idx + 1] - p[idx]) ** 2) / (p[idx + 2] - 2 * p[idx + 1] + p[idx])\n",
    "    return p_hat"
   ]
  },
  {
   "cell_type": "code",
   "execution_count": 968,
   "metadata": {},
   "outputs": [
    {
     "data": {
      "text/plain": [
       "[1.5, 1.3652652239572602, 1.3652300134165856, 1.3652300134140969]"
      ]
     },
     "execution_count": 968,
     "metadata": {},
     "output_type": "execute_result"
    }
   ],
   "source": [
    "# Illustration\n",
    "f = lambda x: np.sqrt(10 / (x + 4))\n",
    "Steffensen(f, 1.5, 3)"
   ]
  },
  {
   "cell_type": "code",
   "execution_count": 969,
   "metadata": {},
   "outputs": [
    {
     "name": "stdout",
     "output_type": "stream",
     "text": [
      "0.5\n",
      "0.2586844275657909\n",
      "0.2576132107157495\n",
      "0.2575114164710768\n",
      "0.25753028544849726\n",
      "[0.5, 0.2586844275657909, 0.2576132107157495, 0.2575114164710768, 0.25753028544849726, 0.2575302854404426]\n",
      "0.75\n",
      "0.9078585524534872\n",
      "0.9095675068671815\n",
      "0.9098116422269557\n",
      "0.9100075688435889\n",
      "[0.75, 0.9078585524534872, 0.9095675068671815, 0.9098116422269557, 0.9100075688435889, 0.9100075717340753]\n",
      "0.5\n",
      "0.5481009645113577\n",
      "0.5479150736907433\n",
      "0.5477417510788966\n",
      "0.5478086222095319\n",
      "[0.5, 0.5481009645113577, 0.5479150736907433, 0.5477417510788966, 0.5478086222095319, 0.5478086218552766]\n",
      "0.5\n",
      "0.7313851863825818\n",
      "0.7360866917130169\n",
      "0.740750412874417\n",
      "0.7390847204845993\n",
      "[0.5, 0.7313851863825818, 0.7360866917130169, 0.740750412874417, 0.7390847204845993, 0.7390849457924547]\n"
     ]
    }
   ],
   "source": [
    "# Exercise 1\n",
    "f = lambda x: (2 - np.exp(x) + x ** 2) / 3\n",
    "print(Aitken(f, 0.5, 6))\n",
    "f = lambda x: np.sqrt(np.exp(x) / 3)\n",
    "print(Aitken(f, 0.75, 6))\n",
    "f = lambda x: 3 ** (-x)\n",
    "print(Aitken(f, 0.5, 6))\n",
    "f = lambda x: np.cos(x)\n",
    "print(Aitken(f, 0.5, 6))"
   ]
  },
  {
   "cell_type": "code",
   "execution_count": 970,
   "metadata": {},
   "outputs": [
    {
     "name": "stdout",
     "output_type": "stream",
     "text": [
      "[0.0, 0.25950408123897534, 0.2575303797852654, 0.257530285439861]\n",
      "[0.0, 0.7776147730392706, 0.7048722519451539, 0.7048120020784795, 0.7048120020012982]\n",
      "[0.25, 0.8840887418688467, 0.909945070754703, 0.9100075721177387, 0.9100075724887092]\n",
      "[0.3, 0.47832613137585256, 0.469641613090862, 0.46962192303711814, 0.46962192293561056]\n"
     ]
    }
   ],
   "source": [
    "# Exercise 11\n",
    "f = lambda x: (2 - np.exp(x) + x ** 2) / 3\n",
    "print(Steffensen(f, 0., 6))\n",
    "f = lambda x: 0.5 * (np.sin(x) + np.cos(x))\n",
    "print(Steffensen(f, 0., 6))\n",
    "f = lambda x: np.sqrt(np.exp(x) / 3)\n",
    "print(Steffensen(f, 0.25, 6))\n",
    "f = lambda x: 5 ** (-x)\n",
    "print(Steffensen(f, 0.3, 6))"
   ]
  },
  {
   "cell_type": "code",
   "execution_count": 971,
   "metadata": {},
   "outputs": [
    {
     "name": "stdout",
     "output_type": "stream",
     "text": [
      "[0.24999999999999978, 0.16666666666666674, 0.12500000000000003, 0.09999999999999978, 0.08333333333333347, 0.07142857142857154, 0.06249999999999978]\n",
      "[0.07954545454545459, 0.036324786324786335, 0.0206117021276596, 0.013243243243243233, 0.009215991692627188, 0.006779424098406497, 0.005194698952879568]\n",
      "[3.0, 2.750000000000001, 2.7222222222222223, 2.71875, 2.7183333333333337, 2.718287037037037, 2.71828231292517, 2.7182818700396827, 2.7182818317656285]\n"
     ]
    }
   ],
   "source": [
    "# Exercise 13\n",
    "p = 1 / np.arange(1, 10)\n",
    "print(AitkenSeq(p))\n",
    "p = 1 / np.arange(1, 10) ** 2\n",
    "print(AitkenSeq(p))\n",
    "\n",
    "# Exercise 17\n",
    "taylor_poly = lambda n: 1 + sum((np.exp(0) / math.factorial(i)) for i in range(1, n + 1))\n",
    "\n",
    "p = [taylor_poly(idx) for idx in range(11)]\n",
    "print(AitkenSeq(p))"
   ]
  },
  {
   "cell_type": "markdown",
   "metadata": {},
   "source": [
    "## Chapter 2.6 Zeros of Polynomials and Muller's Method\n",
    "### Horner's Method\n",
    "Let\n",
    "$$ P(x) = a_nx^n+a_{n-1}+x^{n-1}+\\cdots+a_1x+a_0 $$\n",
    "Define $b_n=a_n$ and\n",
    "$$ b_k=a_k+b_{k+1}x_0,\\,\\,\\,\\text{for }k=n-1, n-2\\cdots,1, 0$$\n",
    "Then $b_0=P(x_0)$.Moreover, if\n",
    "$$ Q(x)=b_nx^{n-1}+b_{n-1}x^{n-2}+\\cdots+b_2x+b_1$$\n",
    "Then \n",
    "$$ P(x) = (x-x_0)Q(x)+b_0 $$\n",
    "Cooperate with _Newton's Method_ to find the zeros of polynomials."
   ]
  },
  {
   "cell_type": "code",
   "execution_count": 972,
   "metadata": {},
   "outputs": [],
   "source": [
    "def Horner(coef:Union[np.ndarray, List[Union[int, float]]], \n",
    "           x0:Union[float, int]) -> List[Union[float, int, np.ndarray]]:\n",
    "    coef_ = np.copy(coef).astype(float)\n",
    "    f_ = np.zeros(len(coef_) - 1, dtype=float)\n",
    "    f = coef_[-1]\n",
    "    fp = coef_[-1]\n",
    "    f_[-1] = coef_[-1]\n",
    "    for jdx in range(len(coef_) - 2, 0, -1):\n",
    "        f = x0 * f + coef_[jdx]\n",
    "        f_[jdx - 1] = f\n",
    "        fp = x0 * fp + f\n",
    "    f = x0 * f + coef_[0]\n",
    "    # f_[0] = f\n",
    "    return [f, fp, f_]"
   ]
  },
  {
   "cell_type": "code",
   "execution_count": 973,
   "metadata": {},
   "outputs": [
    {
     "data": {
      "text/plain": [
       "[10.0, -49.0, array([-7.,  5., -4.,  2.])]"
      ]
     },
     "execution_count": 973,
     "metadata": {},
     "output_type": "execute_result"
    }
   ],
   "source": [
    "Horner([-4, 3, -3, 0, 2], -2)"
   ]
  },
  {
   "cell_type": "code",
   "execution_count": 974,
   "metadata": {},
   "outputs": [],
   "source": [
    "import cmath\n",
    "def HornerNewton(coef:Union[np.ndarray, List[Union[int, float]]], \n",
    "                 x0:Union[float, int],\n",
    "                 iterations:int=100,\n",
    "                 tol:float=1e-6) -> List[Union[float, int]]:\n",
    "    p = x0\n",
    "    roots = []\n",
    "    coef_ = np.copy(coef).astype(float)\n",
    "    for _ in range(len(coef) - 1):\n",
    "        if len(coef_) == 3:\n",
    "            break\n",
    "        # Newton's Method to approximate zeros\n",
    "        prev_p = np.inf\n",
    "        for _ in range(iterations):\n",
    "            prev_p = p\n",
    "            f, fp, _ = Horner(coef_, p)\n",
    "            p -= f / fp\n",
    "            if np.abs(prev_p - p) < tol:\n",
    "                break\n",
    "        # Horner's Method to divide the original polynomial\n",
    "        # by the approximated zero\n",
    "        f, fp, coef_ = Horner(coef_, p)\n",
    "        roots.append(p)\n",
    "    r1 = (-coef_[1] + cmath.sqrt(coef_[1] ** 2 - 4 * coef_[0] * coef_[2])) / (2 * coef_[2])\n",
    "    r2 = (-coef_[1] - cmath.sqrt(coef_[1] ** 2 - 4 * coef_[0] * coef_[2])) / (2 * coef_[2])\n",
    "    roots.extend([r1, r2])\n",
    "    return roots"
   ]
  },
  {
   "cell_type": "code",
   "execution_count": 975,
   "metadata": {},
   "outputs": [
    {
     "data": {
      "text/plain": [
       "[7.0,\n",
       " 3.0000000000000004,\n",
       " 2.0000000000000013,\n",
       " -3.0000000000000107,\n",
       " (-4.999999999999992+0j),\n",
       " (-7.999999999999997+0j)]"
      ]
     },
     "execution_count": 975,
     "metadata": {},
     "output_type": "execute_result"
    }
   ],
   "source": [
    "HornerNewton([-5040, 1602, 1127, -214, -72, 4, 1], 8)"
   ]
  },
  {
   "cell_type": "code",
   "execution_count": 976,
   "metadata": {},
   "outputs": [
    {
     "data": {
      "text/plain": [
       "[-1.738956256451892,\n",
       " 1.2548818848342944,\n",
       " (0.24203718580879874+0.926245487267532j),\n",
       " (0.24203718580879874-0.926245487267532j)]"
      ]
     },
     "execution_count": 976,
     "metadata": {},
     "output_type": "execute_result"
    }
   ],
   "source": [
    "HornerNewton([-4, 3, -3, 0, 2], -2)"
   ]
  },
  {
   "cell_type": "markdown",
   "metadata": {},
   "source": [
    "### Muller's Method\n",
    "Müller’s method is similar to the\n",
    "Secant method. But whereas the\n",
    "Secant method uses a line\n",
    "through two points on the curve\n",
    "to approximate the root, Müller’s\n",
    "method uses a parabola through three points on the curve for the approximation."
   ]
  },
  {
   "cell_type": "code",
   "execution_count": 977,
   "metadata": {},
   "outputs": [],
   "source": [
    "import cmath\n",
    "Muller_Params = Union[complex, float]\n",
    "def Muller(f:Callable[[Muller_Params], float], \n",
    "           p0:Muller_Params, p1:Muller_Params, p2:Muller_Params, \n",
    "           iterations:int=20, tol:float=1e-5) -> Muller_Params:\n",
    "    for _ in range(iterations):\n",
    "        h1 = p1 - p0\n",
    "        h2 = p2 - p1\n",
    "        delta1 = (f(p1) - f(p0)) / h1\n",
    "        delta2 = (f(p2) - f(p1)) / h2\n",
    "        d = (delta2 - delta1) / (h2 + h1)\n",
    "        b = delta2 + h2 * d\n",
    "        D = cmath.sqrt(b ** 2 - 4 * f(p2) * d)\n",
    "        denoms = [b + D, b - D]\n",
    "        if np.abs(h := -2 * f(p2)) < tol:\n",
    "            return p\n",
    "        p = p2 + h / max(denoms, key=abs)\n",
    "        p0, p1, p2 = p1, p2, p\n",
    "    return p"
   ]
  },
  {
   "cell_type": "code",
   "execution_count": 978,
   "metadata": {},
   "outputs": [
    {
     "name": "stdout",
     "output_type": "stream",
     "text": [
      "(-0.33909283338402885+0.44663010055724217j)\n",
      "(1.389389619617081+0j)\n",
      "(2.288794993947653+0j)\n"
     ]
    }
   ],
   "source": [
    "f = lambda x: x ** 4 - 3 * x ** 3 + x ** 2 + x + 1\n",
    "print(Muller(f, 0.5, -0.5, 0))\n",
    "print(Muller(f, 0.5, 1, 1.5))\n",
    "print(Muller(f, 1.5, 2, 2.5))"
   ]
  }
 ],
 "metadata": {
  "kernelspec": {
   "display_name": "Python 3",
   "language": "python",
   "name": "python3"
  },
  "language_info": {
   "codemirror_mode": {
    "name": "ipython",
    "version": 3
   },
   "file_extension": ".py",
   "mimetype": "text/x-python",
   "name": "python",
   "nbconvert_exporter": "python",
   "pygments_lexer": "ipython3",
   "version": "3.9.7"
  }
 },
 "nbformat": 4,
 "nbformat_minor": 2
}
