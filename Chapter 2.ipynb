{
 "cells": [
  {
   "cell_type": "code",
   "execution_count": 58,
   "metadata": {},
   "outputs": [],
   "source": [
    "import numpy as np\n",
    "from typing import Union, Iterable"
   ]
  },
  {
   "cell_type": "markdown",
   "metadata": {},
   "source": [
    "# Bisection Method\n",
    "This method is derived by using _Extreme Value Theorem_ as indicated below\n",
    "\n",
    "## Extreme Value Theorem\n",
    "If $f\\in C[a, b]$, then $c_1, c_2\\in[a, b]$ exist with $f(c_1)\\leq f(x)\\leq f(c_2)$, for all $x\\in[a, b]$. In addition, if $f$ is differentiable on $(a, b)$, then the numbers $c_1$ and $c_2$ occur either at the endpoints of $[a, b]$ or where $f'$ is zero.\n",
    "\n",
    "Given $a, b$ WLOG let $f(a) < 0,f(b) > 0$, then by the _Extreme Value Theorem_ $\\exist x\\in[a, b]$ s.t. $f(a) < f(x) = 0 < f(b)$ since $f(a)<0<f(b)$. This means that $f(a)f(b) < 0 \\implies\\exist x\\in[a, b]\\text{ s.t. }f(x)=0$"
   ]
  },
  {
   "cell_type": "code",
   "execution_count": 59,
   "metadata": {},
   "outputs": [],
   "source": [
    "def bisection(func:callable, left:float, right:float, iterations:int=30, tol:float=1e-5, verbose:int=0)->float:\n",
    "    if verbose:\n",
    "        print(\"Bisection Method\")\n",
    "    if func(left) * func(right) > 0:\n",
    "        raise ValueError(\"Cannot apply Intermidiate Value Theorem\")\n",
    "    prev_p = np.inf \n",
    "    for _ in range(iterations):\n",
    "        p = left + (right - left) / 2\n",
    "        if verbose:\n",
    "            print(f\"Iteration {_} : p = {p}\")\n",
    "        if abs(prev_p - p) / p < tol:\n",
    "            return p\n",
    "        if func(left) * func(p) < 0:\n",
    "            right = p\n",
    "        elif func(p) * func(right) < 0:    \n",
    "            left = p\n",
    "    return p"
   ]
  },
  {
   "cell_type": "markdown",
   "metadata": {},
   "source": [
    "# Fixed Point Iteration (FPI)\n",
    "$$g(p)=p$$"
   ]
  },
  {
   "cell_type": "code",
   "execution_count": 60,
   "metadata": {},
   "outputs": [],
   "source": [
    "def FPI(func:callable, init:float, iterations:int=30, tol:float=1e-5, verbose:int=0):\n",
    "    if verbose:\n",
    "        print(\"Fixed Point Iteration\")\n",
    "    prev_p = np.inf\n",
    "    p = init\n",
    "    for _ in range(iterations):\n",
    "        if verbose:\n",
    "            print(f\"Iteration {_} : p = {p}\")\n",
    "        prev_p = p\n",
    "        p = func(p)\n",
    "        if abs(prev_p - p) / p < tol:\n",
    "            return p"
   ]
  },
  {
   "cell_type": "markdown",
   "metadata": {},
   "source": [
    "# Newton's Method\n",
    "$$p_n=p_{n-1}-\\frac{f(p_{n-1})}{f'(p_{n-1})}$$"
   ]
  },
  {
   "cell_type": "code",
   "execution_count": 61,
   "metadata": {},
   "outputs": [],
   "source": [
    "def newton(f:callable, df:callable, init:float, iterations:int=30, tol:float=1e-5, verbose:int=0):\n",
    "    if verbose:\n",
    "        print(\"Newton's Method\")\n",
    "    prev_p = np.inf\n",
    "    p = init\n",
    "    for _ in range(iterations):\n",
    "        if verbose:\n",
    "            print(f\"Iteration {_} : p = {p}\")\n",
    "        prev_p = p\n",
    "        p -= f(p) / df(p)\n",
    "        if abs(prev_p - p) / p < tol:\n",
    "            return p"
   ]
  },
  {
   "cell_type": "markdown",
   "metadata": {},
   "source": [
    "# Secant Method\n",
    "$$p_n=p_{n-1}-\\frac{f(p_{n-1})(p_{n-1}-p_{n-2})}{f(p_{n-1})-f(p_{n-2})}$$"
   ]
  },
  {
   "cell_type": "code",
   "execution_count": 62,
   "metadata": {},
   "outputs": [],
   "source": [
    "def secant(f:callable, p0:float, p1:float, iterations:int=30, tol:float=1e-5, verbose:int=0):\n",
    "    if verbose:\n",
    "        print(\"Secant Method\")\n",
    "    prev_p = np.inf\n",
    "    p = p1\n",
    "    for _ in range(iterations):\n",
    "        if verbose:\n",
    "            print(f\"Iteration {_} : p = {p}\")\n",
    "        prev_p = p\n",
    "        p = p1 - (f(p1) * (p1 - p0) / (f(p1) - f(p0)))\n",
    "        if abs(prev_p - p) / p < tol:\n",
    "            return p\n",
    "        p0 = p1\n",
    "        p1 = p\n",
    "    return p"
   ]
  },
  {
   "cell_type": "markdown",
   "metadata": {},
   "source": [
    "# False Position\n",
    "The method of _False Position_ generates approximations\n",
    "in the same manner as the Secant method, but it includes a test to ensure that the root is\n",
    "always bracketed between successive iterations (_Extreme Value Theorem_). Although it is not a method we generally\n",
    "recommend, it illustrates how bracketing can be incorporated."
   ]
  },
  {
   "cell_type": "code",
   "execution_count": 63,
   "metadata": {},
   "outputs": [],
   "source": [
    "def falsePosition(f:callable, p0:float, p1:float, iterations:int=30, tol:float=1e-5, verbose:int=0):\n",
    "    if verbose:\n",
    "        print(\"Method of False Position\")\n",
    "    prev_p = np.inf\n",
    "    p = p1\n",
    "    for _ in range(iterations):\n",
    "        if verbose:\n",
    "            print(f\"Iteration {_} : p = {p}\")\n",
    "        prev_p = p\n",
    "        p = p1 - (f(p1) * (p1 - p0) / (f(p1) - f(p0)))\n",
    "        if abs(prev_p - p) / p < tol:\n",
    "            return p\n",
    "        if f(p) * f(p1) < 0:\n",
    "            p0 = p1\n",
    "        p1 = p\n",
    "    return p"
   ]
  },
  {
   "cell_type": "code",
   "execution_count": 64,
   "metadata": {},
   "outputs": [
    {
     "name": "stdout",
     "output_type": "stream",
     "text": [
      "Method of False Position\n",
      "Iteration 0 : p = 0.7853981633974483\n",
      "Iteration 1 : p = 0.7363841388365822\n",
      "Iteration 2 : p = 0.7390581392138897\n",
      "Iteration 3 : p = 0.7390848638147098\n",
      "0.7390851305265789\n",
      "Secant Method\n",
      "Iteration 0 : p = 0.7853981633974483\n",
      "Iteration 1 : p = 0.7363841388365822\n",
      "Iteration 2 : p = 0.7390581392138897\n",
      "Iteration 3 : p = 0.7390851493372764\n",
      "0.7390851332150645\n",
      "Newton's Method\n",
      "Iteration 0 : p = 0.7853981633974483\n",
      "Iteration 1 : p = 0.7395361335152383\n",
      "Iteration 2 : p = 0.7390851781060102\n",
      "0.739085133215161\n"
     ]
    }
   ],
   "source": [
    "import math\n",
    "\n",
    "f = lambda x: x - math.cos(x)\n",
    "g = lambda x: 1 + math.sin(x)\n",
    "\n",
    "print(falsePosition(f, 0.5, math.pi / 4, verbose=1, iterations=10))\n",
    "print(secant(f, 0.5, math.pi / 4, verbose=1, iterations=10))\n",
    "print(newton(f, g, math.pi / 4, verbose=1, iterations=10))\n",
    "\n"
   ]
  }
 ],
 "metadata": {
  "kernelspec": {
   "display_name": "Python 3",
   "language": "python",
   "name": "python3"
  },
  "language_info": {
   "codemirror_mode": {
    "name": "ipython",
    "version": 3
   },
   "file_extension": ".py",
   "mimetype": "text/x-python",
   "name": "python",
   "nbconvert_exporter": "python",
   "pygments_lexer": "ipython3",
   "version": "3.9.7"
  }
 },
 "nbformat": 4,
 "nbformat_minor": 2
}
