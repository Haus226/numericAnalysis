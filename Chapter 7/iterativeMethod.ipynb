{
 "cells": [
  {
   "cell_type": "code",
   "execution_count": 57,
   "metadata": {},
   "outputs": [],
   "source": [
    "import numpy as np"
   ]
  },
  {
   "cell_type": "markdown",
   "metadata": {},
   "source": [
    "# Jacobi Method\n",
    "$$x^{(k)}_i=\\sum^n_{\\substack{j\\neq i \\\\ j=1}}\\biggl(-\\frac{a_{ij}x^{(k)}_{j}}{a_{ii}}\\biggr)+\\frac{b_i}{a_{ii}}$$"
   ]
  },
  {
   "cell_type": "code",
   "execution_count": 58,
   "metadata": {},
   "outputs": [],
   "source": [
    "def Jacobi(A:np.array, x:np.array, b:np.array, iter:int, tol:float=1e-5):\n",
    "    x_ = np.copy(x)\n",
    "    for iter in range(iter):\n",
    "        prev_x = np.copy(x_)\n",
    "        for idx in range(A.shape[0]):\n",
    "            mask = np.arange(len(x_)) != idx\n",
    "            x_[idx] = 1 / (A[idx][idx]) * (b[idx] - np.sum(A[idx][mask] @ prev_x[mask]))\n",
    "        if np.linalg.norm(x_ - prev_x) < tol:\n",
    "            print(\"Iteration stopped, norm difference < tolerance.\")\n",
    "            break\n",
    "    return x_"
   ]
  },
  {
   "cell_type": "markdown",
   "metadata": {},
   "source": [
    "# Gauss-Siedel Method\n",
    "$$x^{(k)}_i=\\frac{1}{a_{ii}}\\biggl[\n",
    "    -\\sum^{i-1}_{j=1}(a_{ij}x^{(k)}_j)-\\sum^{n}_{j=i+1}(a_{ij}x^{(k-1)}_j)+b_i\n",
    "\\biggr]$$\n"
   ]
  },
  {
   "cell_type": "code",
   "execution_count": 59,
   "metadata": {},
   "outputs": [],
   "source": [
    "def GaussSeidel(A:np.array, x:np.array, b:np.array, iter:int, tol:float=1e-5):\n",
    "    x_ = np.copy(x)\n",
    "    for iter in range(iter):\n",
    "        prev_x = np.copy(x_)\n",
    "        for idx in range(A.shape[0]):\n",
    "            mask = np.arange(len(x_)) != idx\n",
    "            x_[idx] = 1 / (A[idx][idx]) * (b[idx] - np.sum(A[idx][mask] @ x_[mask]))\n",
    "        if np.linalg.norm(x_ - prev_x) < tol:\n",
    "            print(\"Iteration stopped, norm difference < tolerance.\")\n",
    "            break\n",
    "    return x_"
   ]
  },
  {
   "cell_type": "code",
   "execution_count": 60,
   "metadata": {},
   "outputs": [
    {
     "name": "stdout",
     "output_type": "stream",
     "text": [
      "Jacobi Method\n",
      "[[ 1.0001186 ]\n",
      " [ 1.9997679 ]\n",
      " [-0.99982816]\n",
      " [ 0.99978596]]\n",
      "Gauss-Seidel Method\n",
      "Iteration stopped, norm difference < tolerance.\n",
      "[[ 1.0000007]\n",
      " [ 2.       ]\n",
      " [-1.0000002]\n",
      " [ 1.       ]]\n"
     ]
    }
   ],
   "source": [
    "A = np.array([\n",
    "    [10, -1, 2, 0],\n",
    "    [-1, 11, -1, 3],\n",
    "    [2, -1, 10, -1],\n",
    "    [0, 3, -1, 8]\n",
    "])\n",
    "\n",
    "b = np.array([\n",
    "    [6],\n",
    "    [25],\n",
    "    [-11],\n",
    "    [15]\n",
    "])\n",
    "\n",
    "x = np.array([\n",
    "    [0],\n",
    "    [0],\n",
    "    [0],\n",
    "    [0]\n",
    "], dtype=np.float32)\n",
    "\n",
    "print(\"Jacobi Method\")\n",
    "print(Jacobi(A, x, b, 10))\n",
    "\n",
    "print(\"Gauss-Seidel Method\")\n",
    "x = np.array([\n",
    "    [0],\n",
    "    [0],\n",
    "    [0],\n",
    "    [0]\n",
    "], dtype=np.float32)\n",
    "print(GaussSeidel(A, x, b, 10))"
   ]
  }
 ],
 "metadata": {
  "kernelspec": {
   "display_name": "Python 3",
   "language": "python",
   "name": "python3"
  },
  "language_info": {
   "codemirror_mode": {
    "name": "ipython",
    "version": 3
   },
   "file_extension": ".py",
   "mimetype": "text/x-python",
   "name": "python",
   "nbconvert_exporter": "python",
   "pygments_lexer": "ipython3",
   "version": "3.9.7"
  }
 },
 "nbformat": 4,
 "nbformat_minor": 2
}
