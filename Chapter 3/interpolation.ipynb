{
 "cells": [
  {
   "cell_type": "code",
   "execution_count": 161,
   "metadata": {},
   "outputs": [],
   "source": [
    "import numpy as np\n",
    "from typing import Union, List, Callable"
   ]
  },
  {
   "cell_type": "markdown",
   "metadata": {},
   "source": [
    "# Lagrange Interpolation\n",
    "If $x_0,x_1,\\cdots,x_n$ are $n+1$ distinct numbers and $f$ is a function whose values are given at these numbers, then a unique polynomial $P(x)$ of degree at most $n$ exists with\n",
    "$$f(x_k)=P(x_k),\\,\\,\\,\\text{for each }k=0,1,\\cdots,n$$\n",
    "This polynomial is given by\n",
    "$$P(x)=f(x_0)L_{n, 0}(x)+\\cdots+f(x_n)L_{n, n}(x)=\\sum^n_{k=0}f(x_k)L_{n, k}(x)$$\n",
    "where for each $k=0,1,\\cdots,n$\n",
    "$$L_{n, k}(x)=\\frac{(x-x_0)(x-x_1)\\cdots(x-x_{k-1})(x-x_{k+1})\\cdots(x-x_n)}{(x_k-x_0)(x_k-x_1)\\cdots(x_k-x_{k-1})(x_k-x_{k+1})\\cdots(x_k-x_n)}=\\prod^n_{\\substack{i=0\\\\i\\neq k}}\\frac{(x-x_i)}{(x_k-x_i)}$$"
   ]
  },
  {
   "cell_type": "code",
   "execution_count": 162,
   "metadata": {},
   "outputs": [],
   "source": [
    "def LagrangeInterpolation(func:Union[Callable[[float], float], np.ndarray, List], x_:Union[np.ndarray, List])->Callable[[float], float]:\n",
    "    def interpolation(x:float)->float:\n",
    "        call_flag = 1 and callable(func)\n",
    "        appro = 0\n",
    "        for i, x_i in enumerate(x_):\n",
    "            l_i = 1\n",
    "            for k, x_k in enumerate(x_):\n",
    "                if k != i:\n",
    "                    l_i *= (x - x_k) / (x_i - x_k)\n",
    "            appro += func(x_i) * l_i if call_flag else func[i] * l_i\n",
    "        return appro\n",
    "    return interpolation"
   ]
  },
  {
   "cell_type": "markdown",
   "metadata": {},
   "source": [
    "# Neville's Method\n",
    "$$ Q_{i, j}=\\frac{(x-x_{i-j})Q_{i, j-1}-(x-x_i)Q_{i-1, j-1}}{x_i-x_{i-j}}$$\n",
    "where $P(x)=Q_{n, n}$"
   ]
  },
  {
   "cell_type": "code",
   "execution_count": 163,
   "metadata": {},
   "outputs": [],
   "source": [
    "def Neville(func:Union[Callable[[float], float], np.array, List], x_:Union[np.ndarray, List])->Callable[[float], float]:\n",
    "    def interpolation(x:float)->float:\n",
    "        call_flag = 1 and callable(func)\n",
    "        len_x = sum(1 for _ in x_)\n",
    "        Q = np.zeros((len_x, len_x))\n",
    "        for idx in range(len_x):\n",
    "            Q[idx][0] = func(x_[idx]) if call_flag else func[idx]\n",
    "        for idx in range(1, len_x):\n",
    "            for jdx in range(1, idx + 1):\n",
    "                Q[idx][jdx] = ((x - x_[idx - jdx]) * Q[idx][jdx - 1] - (x - x_[idx]) * Q[idx - 1][jdx - 1]) / (x_[idx] - x_[idx - jdx])\n",
    "        return Q[-1][-1]\n",
    "    return interpolation"
   ]
  },
  {
   "cell_type": "markdown",
   "metadata": {},
   "source": [
    "# Newton's Dividend-Difference Formula"
   ]
  },
  {
   "cell_type": "code",
   "execution_count": null,
   "metadata": {},
   "outputs": [],
   "source": []
  },
  {
   "cell_type": "markdown",
   "metadata": {},
   "source": [
    "# Hermite Interpolation"
   ]
  },
  {
   "cell_type": "code",
   "execution_count": 164,
   "metadata": {},
   "outputs": [],
   "source": [
    "def Hermite(func:Union[Callable[[float], float], np.array, List], dfunc:Union[Callable, np.array, List], x_:Union[np.ndarray, List])->Callable[[float], float]:\n",
    "    def interpolation(x:float)->float:\n",
    "        f_call = 1 and callable(func)\n",
    "        df_call = 1 and callable(dfunc)\n",
    "        len_x = sum(1 for i in x_)\n",
    "        \n",
    "        z = np.zeros(2 * len_x)\n",
    "        Q = np.zeros((2 * len_x, 2 * len_x))\n",
    "\n",
    "        for idx in range(len_x):\n",
    "            z[2 * idx] = x_[idx]\n",
    "            z[2 * idx + 1] = x_[idx]\n",
    "            Q[2 * idx, 0] = func(x_[idx]) if f_call else func[idx]\n",
    "            Q[2 * idx + 1, 0] = func(x_[idx]) if f_call else func[idx]\n",
    "            Q[2 * idx + 1, 1] = dfunc(x_[idx]) if df_call else dfunc[idx]\n",
    "            if idx:\n",
    "                Q[2 * idx, 1] = (Q[2 * idx, 0] - Q[2 * idx - 1, 0]) / (z[2 * idx] - z[2 * idx - 1])\n",
    "        for idx in range(2, 2 * len_x):\n",
    "            for jdx in range(2, idx + 1):\n",
    "                Q[idx][jdx] = (Q[idx][jdx - 1] -  Q[idx - 1][jdx - 1]) / (z[idx] - z[idx - jdx])\n",
    "        print(z)\n",
    "        print(Q)\n",
    "        return Q\n",
    "    return interpolation"
   ]
  },
  {
   "cell_type": "code",
   "execution_count": 165,
   "metadata": {},
   "outputs": [
    {
     "name": "stdout",
     "output_type": "stream",
     "text": [
      "[1.3 1.3 1.6 1.6 1.9 1.9]\n",
      "[[ 0.620086    0.          0.          0.          0.          0.        ]\n",
      " [ 0.620086   -0.5220232   0.          0.          0.          0.        ]\n",
      " [ 0.4554022  -0.548946   -0.08974267  0.          0.          0.        ]\n",
      " [ 0.4554022  -0.5698959  -0.069833    0.06636556  0.          0.        ]\n",
      " [ 0.2818186  -0.578612   -0.02905367  0.06796556  0.00266667  0.        ]\n",
      " [ 0.2818186  -0.5811571  -0.00848367  0.06856667  0.00100185 -0.00277469]]\n",
      "[0.620086 0.       0.       0.       0.       0.      ]\n",
      "[ 0.620086  -0.5220232  0.         0.         0.         0.       ]\n",
      "[ 0.4554022  -0.548946   -0.08974267  0.          0.          0.        ]\n",
      "[ 0.4554022  -0.5698959  -0.069833    0.06636556  0.          0.        ]\n",
      "[ 0.2818186  -0.578612   -0.02905367  0.06796556  0.00266667  0.        ]\n",
      "[ 0.2818186  -0.5811571  -0.00848367  0.06856667  0.00100185 -0.00277469]\n"
     ]
    }
   ],
   "source": [
    "i = Hermite(\n",
    "    [0.6200860, 0.4554022, 0.2818186],\n",
    "    [-0.5220232, -0.5698959, -0.5811571],\n",
    "    [1.3, 1.6, 1.9]\n",
    ")\n",
    "for j in i(0):\n",
    "    print(j)"
   ]
  }
 ],
 "metadata": {
  "kernelspec": {
   "display_name": "Python 3",
   "language": "python",
   "name": "python3"
  },
  "language_info": {
   "codemirror_mode": {
    "name": "ipython",
    "version": 3
   },
   "file_extension": ".py",
   "mimetype": "text/x-python",
   "name": "python",
   "nbconvert_exporter": "python",
   "pygments_lexer": "ipython3",
   "version": "3.9.7"
  }
 },
 "nbformat": 4,
 "nbformat_minor": 2
}
